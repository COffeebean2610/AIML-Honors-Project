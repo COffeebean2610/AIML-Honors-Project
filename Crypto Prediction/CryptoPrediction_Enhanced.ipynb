{
 "cells": [
  {
   "cell_type": "markdown",
   "metadata": {},
   "source": [
    "# Enhanced Bitcoin Price Prediction using LSTM\n",
    "## Features: Interactive Dashboard, Sentiment Analysis, Risk Analysis & Advanced Visualizations"
   ]
  },
  {
   "cell_type": "markdown",
   "metadata": {},
   "source": [
    "## 1. Importing Libraries"
   ]
  },
  {
   "cell_type": "code",
   "execution_count": 1,
   "metadata": {},
   "outputs": [],
   "source": [
    "import pandas as pd\n",
    "import numpy as np\n",
    "import math\n",
    "import datetime as dt\n",
    "import matplotlib.pyplot as plt\n",
    "import seaborn as sns\n",
    "from sklearn.metrics import mean_squared_error, mean_absolute_error, r2_score\n",
    "from sklearn.preprocessing import MinMaxScaler\n",
    "import tensorflow as tf\n",
    "from keras.models import Sequential\n",
    "from keras.layers import Dense, Dropout, LSTM\n",
    "from itertools import cycle\n",
    "import plotly.graph_objects as go\n",
    "import plotly.express as px\n",
    "from plotly.subplots import make_subplots\n",
    "import yfinance as yf\n",
    "import warnings\n",
    "warnings.filterwarnings('ignore')"
   ]
  },
  {
   "cell_type": "markdown",
   "metadata": {},
   "source": [
    "## 2. Data Loading & Preprocessing"
   ]
  },
  {
   "cell_type": "code",
   "execution_count": 2,
   "metadata": {},
   "outputs": [
    {
     "name": "stderr",
     "output_type": "stream",
     "text": [
      "[*********************100%***********************]  1 of 1 completed"
     ]
    },
    {
     "name": "stdout",
     "output_type": "stream",
     "text": [
      "Dataset shape: (365, 6)\n",
      "Date range: 2023-01-01 00:00:00 to 2023-12-31 00:00:00\n"
     ]
    },
    {
     "name": "stderr",
     "output_type": "stream",
     "text": [
      "\n"
     ]
    }
   ],
   "source": [
    "# Download Bitcoin data\n",
    "btc = yf.download('BTC-USD', start='2023-01-01', end='2024-01-01')\n",
    "btc.reset_index(inplace=True)\n",
    "maindf = btc.copy()\n",
    "\n",
    "# Flatten MultiIndex columns\n",
    "maindf.columns = maindf.columns.droplevel(1) if hasattr(maindf.columns, 'droplevel') else maindf.columns\n",
    "\n",
    "print(f'Dataset shape: {maindf.shape}')\n",
    "print(f'Date range: {maindf[\"Date\"].min()} to {maindf[\"Date\"].max()}')"
   ]
  },
  {
   "cell_type": "markdown",
   "metadata": {},
   "source": [
    "## 3. Sentiment Analysis Integration"
   ]
  },
  {
   "cell_type": "code",
   "execution_count": 3,
   "metadata": {},
   "outputs": [
    {
     "name": "stdout",
     "output_type": "stream",
     "text": [
      "Sentiment range: -0.591 to 0.568\n"
     ]
    }
   ],
   "source": [
    "# Simulate market sentiment based on price movements and volume\n",
    "def calculate_sentiment(df):\n",
    "    # Price momentum sentiment\n",
    "    df['Price_Change'] = df['Close'].pct_change()\n",
    "    df['Volume_MA'] = df['Volume'].rolling(7).mean()\n",
    "    df['Volume_Ratio'] = df['Volume'] / df['Volume_MA']\n",
    "    \n",
    "    # Sentiment score based on price change and volume\n",
    "    df['Sentiment'] = np.tanh(df['Price_Change'] * 10) * np.tanh(df['Volume_Ratio'] - 1)\n",
    "    \n",
    "    # Add some realistic noise\n",
    "    np.random.seed(42)\n",
    "    noise = np.random.normal(0, 0.1, len(df))\n",
    "    df['Sentiment'] = np.clip(df['Sentiment'] + noise, -1, 1)\n",
    "    \n",
    "    return df\n",
    "\n",
    "maindf = calculate_sentiment(maindf)\n",
    "print(f'Sentiment range: {maindf[\"Sentiment\"].min():.3f} to {maindf[\"Sentiment\"].max():.3f}')"
   ]
  },
  {
   "cell_type": "markdown",
   "metadata": {},
   "source": [
    "## 4. Risk Analysis Functions"
   ]
  },
  {
   "cell_type": "code",
   "execution_count": 4,
   "metadata": {},
   "outputs": [
    {
     "name": "stdout",
     "output_type": "stream",
     "text": [
      "Risk Metrics:\n",
      "VaR_95: -0.0306\n",
      "Expected_Shortfall: -0.0441\n",
      "Volatility: 0.4383\n",
      "Sharpe_Ratio: 2.3074\n",
      "Max_Drawdown: -0.2006\n"
     ]
    }
   ],
   "source": [
    "def calculate_risk_metrics(prices):\n",
    "    returns = prices.pct_change().dropna()\n",
    "    \n",
    "    # Value at Risk (95% confidence)\n",
    "    var_95 = np.percentile(returns, 5)\n",
    "    \n",
    "    # Expected Shortfall (Conditional VaR)\n",
    "    es_95 = returns[returns <= var_95].mean()\n",
    "    \n",
    "    # Volatility (annualized)\n",
    "    volatility = returns.std() * np.sqrt(365)\n",
    "    \n",
    "    # Sharpe Ratio (assuming 2% risk-free rate)\n",
    "    sharpe = (returns.mean() * 365 - 0.02) / volatility\n",
    "    \n",
    "    # Maximum Drawdown\n",
    "    cumulative = (1 + returns).cumprod()\n",
    "    running_max = cumulative.expanding().max()\n",
    "    drawdown = (cumulative - running_max) / running_max\n",
    "    max_drawdown = drawdown.min()\n",
    "    \n",
    "    return {\n",
    "        'VaR_95': var_95,\n",
    "        'Expected_Shortfall': es_95,\n",
    "        'Volatility': volatility,\n",
    "        'Sharpe_Ratio': sharpe,\n",
    "        'Max_Drawdown': max_drawdown,\n",
    "        'Returns': returns\n",
    "    }\n",
    "\n",
    "risk_metrics = calculate_risk_metrics(maindf['Close'])\n",
    "print(\"Risk Metrics:\")\n",
    "for key, value in risk_metrics.items():\n",
    "    if key != 'Returns':\n",
    "        print(f\"{key}: {value:.4f}\")"
   ]
  },
  {
   "cell_type": "markdown",
   "metadata": {},
   "source": [
    "## 5. LSTM Model Training"
   ]
  },
  {
   "cell_type": "code",
   "execution_count": 5,
   "metadata": {},
   "outputs": [
    {
     "name": "stdout",
     "output_type": "stream",
     "text": [
      "Training data shape: (203, 15, 1)\n",
      "Test data shape: (130, 15, 1)\n"
     ]
    }
   ],
   "source": [
    "# Prepare data for LSTM\n",
    "closedf = maindf[['Date', 'Close']].copy()\n",
    "close_data = closedf['Close'].values.reshape(-1, 1)\n",
    "\n",
    "# Normalize data\n",
    "scaler = MinMaxScaler(feature_range=(0, 1))\n",
    "scaled_data = scaler.fit_transform(close_data)\n",
    "\n",
    "# Create sequences\n",
    "def create_dataset(dataset, time_step=15):\n",
    "    dataX, dataY = [], []\n",
    "    for i in range(len(dataset) - time_step - 1):\n",
    "        dataX.append(dataset[i:(i + time_step), 0])\n",
    "        dataY.append(dataset[i + time_step, 0])\n",
    "    return np.array(dataX), np.array(dataY)\n",
    "\n",
    "time_step = 15\n",
    "training_size = int(len(scaled_data) * 0.60)\n",
    "train_data = scaled_data[0:training_size, :]\n",
    "test_data = scaled_data[training_size:len(scaled_data), :]\n",
    "\n",
    "X_train, y_train = create_dataset(train_data, time_step)\n",
    "X_test, y_test = create_dataset(test_data, time_step)\n",
    "\n",
    "# Reshape for LSTM\n",
    "X_train = X_train.reshape(X_train.shape[0], X_train.shape[1], 1)\n",
    "X_test = X_test.reshape(X_test.shape[0], X_test.shape[1], 1)\n",
    "\n",
    "print(f'Training data shape: {X_train.shape}')\n",
    "print(f'Test data shape: {X_test.shape}')"
   ]
  },
  {
   "cell_type": "code",
   "execution_count": 6,
   "metadata": {},
   "outputs": [
    {
     "name": "stdout",
     "output_type": "stream",
     "text": [
      "Epoch 1/50\n",
      "\u001b[1m7/7\u001b[0m \u001b[32m━━━━━━━━━━━━━━━━━━━━\u001b[0m\u001b[37m\u001b[0m \u001b[1m2s\u001b[0m 63ms/step - loss: 0.0626 - val_loss: 0.0071\n",
      "Epoch 2/50\n",
      "\u001b[1m7/7\u001b[0m \u001b[32m━━━━━━━━━━━━━━━━━━━━\u001b[0m\u001b[37m\u001b[0m \u001b[1m0s\u001b[0m 17ms/step - loss: 0.0143 - val_loss: 0.0239\n",
      "Epoch 3/50\n",
      "\u001b[1m7/7\u001b[0m \u001b[32m━━━━━━━━━━━━━━━━━━━━\u001b[0m\u001b[37m\u001b[0m \u001b[1m0s\u001b[0m 27ms/step - loss: 0.0079 - val_loss: 0.0476\n",
      "Epoch 4/50\n",
      "\u001b[1m7/7\u001b[0m \u001b[32m━━━━━━━━━━━━━━━━━━━━\u001b[0m\u001b[37m\u001b[0m \u001b[1m0s\u001b[0m 25ms/step - loss: 0.0057 - val_loss: 0.0154\n",
      "Epoch 5/50\n",
      "\u001b[1m7/7\u001b[0m \u001b[32m━━━━━━━━━━━━━━━━━━━━\u001b[0m\u001b[37m\u001b[0m \u001b[1m0s\u001b[0m 23ms/step - loss: 0.0052 - val_loss: 0.0191\n",
      "Epoch 6/50\n",
      "\u001b[1m7/7\u001b[0m \u001b[32m━━━━━━━━━━━━━━━━━━━━\u001b[0m\u001b[37m\u001b[0m \u001b[1m0s\u001b[0m 22ms/step - loss: 0.0046 - val_loss: 0.0294\n",
      "Epoch 7/50\n",
      "\u001b[1m7/7\u001b[0m \u001b[32m━━━━━━━━━━━━━━━━━━━━\u001b[0m\u001b[37m\u001b[0m \u001b[1m0s\u001b[0m 25ms/step - loss: 0.0049 - val_loss: 0.0173\n",
      "Epoch 8/50\n",
      "\u001b[1m7/7\u001b[0m \u001b[32m━━━━━━━━━━━━━━━━━━━━\u001b[0m\u001b[37m\u001b[0m \u001b[1m0s\u001b[0m 22ms/step - loss: 0.0040 - val_loss: 0.0165\n",
      "Epoch 9/50\n",
      "\u001b[1m7/7\u001b[0m \u001b[32m━━━━━━━━━━━━━━━━━━━━\u001b[0m\u001b[37m\u001b[0m \u001b[1m0s\u001b[0m 20ms/step - loss: 0.0037 - val_loss: 0.0189\n",
      "Epoch 10/50\n",
      "\u001b[1m7/7\u001b[0m \u001b[32m━━━━━━━━━━━━━━━━━━━━\u001b[0m\u001b[37m\u001b[0m \u001b[1m0s\u001b[0m 22ms/step - loss: 0.0036 - val_loss: 0.0114\n",
      "Epoch 11/50\n",
      "\u001b[1m7/7\u001b[0m \u001b[32m━━━━━━━━━━━━━━━━━━━━\u001b[0m\u001b[37m\u001b[0m \u001b[1m0s\u001b[0m 25ms/step - loss: 0.0033 - val_loss: 0.0149\n",
      "Epoch 12/50\n",
      "\u001b[1m7/7\u001b[0m \u001b[32m━━━━━━━━━━━━━━━━━━━━\u001b[0m\u001b[37m\u001b[0m \u001b[1m0s\u001b[0m 22ms/step - loss: 0.0034 - val_loss: 0.0131\n",
      "Epoch 13/50\n",
      "\u001b[1m7/7\u001b[0m \u001b[32m━━━━━━━━━━━━━━━━━━━━\u001b[0m\u001b[37m\u001b[0m \u001b[1m0s\u001b[0m 39ms/step - loss: 0.0035 - val_loss: 0.0109\n",
      "Epoch 14/50\n",
      "\u001b[1m7/7\u001b[0m \u001b[32m━━━━━━━━━━━━━━━━━━━━\u001b[0m\u001b[37m\u001b[0m \u001b[1m0s\u001b[0m 39ms/step - loss: 0.0034 - val_loss: 0.0105\n",
      "Epoch 15/50\n",
      "\u001b[1m7/7\u001b[0m \u001b[32m━━━━━━━━━━━━━━━━━━━━\u001b[0m\u001b[37m\u001b[0m \u001b[1m0s\u001b[0m 32ms/step - loss: 0.0036 - val_loss: 0.0102\n",
      "Epoch 16/50\n",
      "\u001b[1m7/7\u001b[0m \u001b[32m━━━━━━━━━━━━━━━━━━━━\u001b[0m\u001b[37m\u001b[0m \u001b[1m0s\u001b[0m 35ms/step - loss: 0.0033 - val_loss: 0.0083\n",
      "Epoch 17/50\n",
      "\u001b[1m7/7\u001b[0m \u001b[32m━━━━━━━━━━━━━━━━━━━━\u001b[0m\u001b[37m\u001b[0m \u001b[1m0s\u001b[0m 28ms/step - loss: 0.0029 - val_loss: 0.0086\n",
      "Epoch 18/50\n",
      "\u001b[1m7/7\u001b[0m \u001b[32m━━━━━━━━━━━━━━━━━━━━\u001b[0m\u001b[37m\u001b[0m \u001b[1m0s\u001b[0m 25ms/step - loss: 0.0030 - val_loss: 0.0079\n",
      "Epoch 19/50\n",
      "\u001b[1m7/7\u001b[0m \u001b[32m━━━━━━━━━━━━━━━━━━━━\u001b[0m\u001b[37m\u001b[0m \u001b[1m0s\u001b[0m 25ms/step - loss: 0.0031 - val_loss: 0.0066\n",
      "Epoch 20/50\n",
      "\u001b[1m7/7\u001b[0m \u001b[32m━━━━━━━━━━━━━━━━━━━━\u001b[0m\u001b[37m\u001b[0m \u001b[1m0s\u001b[0m 25ms/step - loss: 0.0031 - val_loss: 0.0112\n",
      "Epoch 21/50\n",
      "\u001b[1m7/7\u001b[0m \u001b[32m━━━━━━━━━━━━━━━━━━━━\u001b[0m\u001b[37m\u001b[0m \u001b[1m0s\u001b[0m 25ms/step - loss: 0.0033 - val_loss: 0.0094\n",
      "Epoch 22/50\n",
      "\u001b[1m7/7\u001b[0m \u001b[32m━━━━━━━━━━━━━━━━━━━━\u001b[0m\u001b[37m\u001b[0m \u001b[1m0s\u001b[0m 25ms/step - loss: 0.0034 - val_loss: 0.0072\n",
      "Epoch 23/50\n",
      "\u001b[1m7/7\u001b[0m \u001b[32m━━━━━━━━━━━━━━━━━━━━\u001b[0m\u001b[37m\u001b[0m \u001b[1m0s\u001b[0m 25ms/step - loss: 0.0027 - val_loss: 0.0079\n",
      "Epoch 24/50\n",
      "\u001b[1m7/7\u001b[0m \u001b[32m━━━━━━━━━━━━━━━━━━━━\u001b[0m\u001b[37m\u001b[0m \u001b[1m0s\u001b[0m 23ms/step - loss: 0.0030 - val_loss: 0.0068\n",
      "Epoch 25/50\n",
      "\u001b[1m7/7\u001b[0m \u001b[32m━━━━━━━━━━━━━━━━━━━━\u001b[0m\u001b[37m\u001b[0m \u001b[1m0s\u001b[0m 25ms/step - loss: 0.0029 - val_loss: 0.0091\n",
      "Epoch 26/50\n",
      "\u001b[1m7/7\u001b[0m \u001b[32m━━━━━━━━━━━━━━━━━━━━\u001b[0m\u001b[37m\u001b[0m \u001b[1m0s\u001b[0m 25ms/step - loss: 0.0028 - val_loss: 0.0073\n",
      "Epoch 27/50\n",
      "\u001b[1m7/7\u001b[0m \u001b[32m━━━━━━━━━━━━━━━━━━━━\u001b[0m\u001b[37m\u001b[0m \u001b[1m0s\u001b[0m 21ms/step - loss: 0.0030 - val_loss: 0.0070\n",
      "Epoch 28/50\n",
      "\u001b[1m7/7\u001b[0m \u001b[32m━━━━━━━━━━━━━━━━━━━━\u001b[0m\u001b[37m\u001b[0m \u001b[1m0s\u001b[0m 35ms/step - loss: 0.0030 - val_loss: 0.0055\n",
      "Epoch 29/50\n",
      "\u001b[1m7/7\u001b[0m \u001b[32m━━━━━━━━━━━━━━━━━━━━\u001b[0m\u001b[37m\u001b[0m \u001b[1m0s\u001b[0m 31ms/step - loss: 0.0029 - val_loss: 0.0086\n",
      "Epoch 30/50\n",
      "\u001b[1m7/7\u001b[0m \u001b[32m━━━━━━━━━━━━━━━━━━━━\u001b[0m\u001b[37m\u001b[0m \u001b[1m0s\u001b[0m 22ms/step - loss: 0.0028 - val_loss: 0.0046\n",
      "Epoch 31/50\n",
      "\u001b[1m7/7\u001b[0m \u001b[32m━━━━━━━━━━━━━━━━━━━━\u001b[0m\u001b[37m\u001b[0m \u001b[1m0s\u001b[0m 25ms/step - loss: 0.0024 - val_loss: 0.0069\n",
      "Epoch 32/50\n",
      "\u001b[1m7/7\u001b[0m \u001b[32m━━━━━━━━━━━━━━━━━━━━\u001b[0m\u001b[37m\u001b[0m \u001b[1m0s\u001b[0m 18ms/step - loss: 0.0028 - val_loss: 0.0049\n",
      "Epoch 33/50\n",
      "\u001b[1m7/7\u001b[0m \u001b[32m━━━━━━━━━━━━━━━━━━━━\u001b[0m\u001b[37m\u001b[0m \u001b[1m0s\u001b[0m 19ms/step - loss: 0.0027 - val_loss: 0.0059\n",
      "Epoch 34/50\n",
      "\u001b[1m7/7\u001b[0m \u001b[32m━━━━━━━━━━━━━━━━━━━━\u001b[0m\u001b[37m\u001b[0m \u001b[1m0s\u001b[0m 21ms/step - loss: 0.0026 - val_loss: 0.0058\n",
      "Epoch 35/50\n",
      "\u001b[1m7/7\u001b[0m \u001b[32m━━━━━━━━━━━━━━━━━━━━\u001b[0m\u001b[37m\u001b[0m \u001b[1m0s\u001b[0m 20ms/step - loss: 0.0026 - val_loss: 0.0053\n",
      "Epoch 36/50\n",
      "\u001b[1m7/7\u001b[0m \u001b[32m━━━━━━━━━━━━━━━━━━━━\u001b[0m\u001b[37m\u001b[0m \u001b[1m0s\u001b[0m 20ms/step - loss: 0.0025 - val_loss: 0.0090\n",
      "Epoch 37/50\n",
      "\u001b[1m7/7\u001b[0m \u001b[32m━━━━━━━━━━━━━━━━━━━━\u001b[0m\u001b[37m\u001b[0m \u001b[1m0s\u001b[0m 22ms/step - loss: 0.0026 - val_loss: 0.0032\n",
      "Epoch 38/50\n",
      "\u001b[1m7/7\u001b[0m \u001b[32m━━━━━━━━━━━━━━━━━━━━\u001b[0m\u001b[37m\u001b[0m \u001b[1m0s\u001b[0m 20ms/step - loss: 0.0027 - val_loss: 0.0100\n",
      "Epoch 39/50\n",
      "\u001b[1m7/7\u001b[0m \u001b[32m━━━━━━━━━━━━━━━━━━━━\u001b[0m\u001b[37m\u001b[0m \u001b[1m0s\u001b[0m 20ms/step - loss: 0.0023 - val_loss: 0.0062\n",
      "Epoch 40/50\n",
      "\u001b[1m7/7\u001b[0m \u001b[32m━━━━━━━━━━━━━━━━━━━━\u001b[0m\u001b[37m\u001b[0m \u001b[1m0s\u001b[0m 17ms/step - loss: 0.0024 - val_loss: 0.0064\n",
      "Epoch 41/50\n",
      "\u001b[1m7/7\u001b[0m \u001b[32m━━━━━━━━━━━━━━━━━━━━\u001b[0m\u001b[37m\u001b[0m \u001b[1m0s\u001b[0m 17ms/step - loss: 0.0025 - val_loss: 0.0033\n",
      "Epoch 42/50\n",
      "\u001b[1m7/7\u001b[0m \u001b[32m━━━━━━━━━━━━━━━━━━━━\u001b[0m\u001b[37m\u001b[0m \u001b[1m0s\u001b[0m 22ms/step - loss: 0.0026 - val_loss: 0.0082\n",
      "Epoch 43/50\n",
      "\u001b[1m7/7\u001b[0m \u001b[32m━━━━━━━━━━━━━━━━━━━━\u001b[0m\u001b[37m\u001b[0m \u001b[1m0s\u001b[0m 19ms/step - loss: 0.0026 - val_loss: 0.0036\n",
      "Epoch 44/50\n",
      "\u001b[1m7/7\u001b[0m \u001b[32m━━━━━━━━━━━━━━━━━━━━\u001b[0m\u001b[37m\u001b[0m \u001b[1m0s\u001b[0m 22ms/step - loss: 0.0023 - val_loss: 0.0066\n",
      "Epoch 45/50\n",
      "\u001b[1m7/7\u001b[0m \u001b[32m━━━━━━━━━━━━━━━━━━━━\u001b[0m\u001b[37m\u001b[0m \u001b[1m0s\u001b[0m 19ms/step - loss: 0.0021 - val_loss: 0.0045\n",
      "Epoch 46/50\n",
      "\u001b[1m7/7\u001b[0m \u001b[32m━━━━━━━━━━━━━━━━━━━━\u001b[0m\u001b[37m\u001b[0m \u001b[1m0s\u001b[0m 18ms/step - loss: 0.0023 - val_loss: 0.0040\n",
      "Epoch 47/50\n",
      "\u001b[1m7/7\u001b[0m \u001b[32m━━━━━━━━━━━━━━━━━━━━\u001b[0m\u001b[37m\u001b[0m \u001b[1m0s\u001b[0m 19ms/step - loss: 0.0023 - val_loss: 0.0057\n",
      "Epoch 48/50\n",
      "\u001b[1m7/7\u001b[0m \u001b[32m━━━━━━━━━━━━━━━━━━━━\u001b[0m\u001b[37m\u001b[0m \u001b[1m0s\u001b[0m 19ms/step - loss: 0.0023 - val_loss: 0.0041\n",
      "Epoch 49/50\n",
      "\u001b[1m7/7\u001b[0m \u001b[32m━━━━━━━━━━━━━━━━━━━━\u001b[0m\u001b[37m\u001b[0m \u001b[1m0s\u001b[0m 17ms/step - loss: 0.0024 - val_loss: 0.0055\n",
      "Epoch 50/50\n",
      "\u001b[1m7/7\u001b[0m \u001b[32m━━━━━━━━━━━━━━━━━━━━\u001b[0m\u001b[37m\u001b[0m \u001b[1m0s\u001b[0m 20ms/step - loss: 0.0022 - val_loss: 0.0041\n",
      "\u001b[1m7/7\u001b[0m \u001b[32m━━━━━━━━━━━━━━━━━━━━\u001b[0m\u001b[37m\u001b[0m \u001b[1m0s\u001b[0m 30ms/step\n",
      "\u001b[1m5/5\u001b[0m \u001b[32m━━━━━━━━━━━━━━━━━━━━\u001b[0m\u001b[37m\u001b[0m \u001b[1m0s\u001b[0m 8ms/step \n"
     ]
    }
   ],
   "source": [
    "# Build and train LSTM model\n",
    "model = Sequential([\n",
    "    LSTM(50, return_sequences=True, input_shape=(time_step, 1)),\n",
    "    Dropout(0.2),\n",
    "    LSTM(50, return_sequences=False),\n",
    "    Dropout(0.2),\n",
    "    Dense(25),\n",
    "    Dense(1)\n",
    "])\n",
    "\n",
    "model.compile(optimizer='adam', loss='mean_squared_error')\n",
    "history = model.fit(X_train, y_train, validation_data=(X_test, y_test), \n",
    "                   epochs=50, batch_size=32, verbose=1)\n",
    "\n",
    "# Make predictions\n",
    "train_predict = model.predict(X_train)\n",
    "test_predict = model.predict(X_test)\n",
    "\n",
    "# Transform back to original scale\n",
    "train_predict = scaler.inverse_transform(train_predict)\n",
    "test_predict = scaler.inverse_transform(test_predict)\n",
    "y_train_orig = scaler.inverse_transform(y_train.reshape(-1, 1))\n",
    "y_test_orig = scaler.inverse_transform(y_test.reshape(-1, 1))"
   ]
  },
  {
   "cell_type": "markdown",
   "metadata": {},
   "source": [
    "## 6. Future Predictions"
   ]
  },
  {
   "cell_type": "code",
   "execution_count": 7,
   "metadata": {},
   "outputs": [
    {
     "name": "stdout",
     "output_type": "stream",
     "text": [
      "Generated 30 future predictions\n"
     ]
    }
   ],
   "source": [
    "# Predict next 30 days\n",
    "x_input = test_data[len(test_data) - time_step:].reshape(1, -1)\n",
    "temp_input = list(x_input[0])\n",
    "lst_output = []\n",
    "pred_days = 30\n",
    "\n",
    "for i in range(pred_days):\n",
    "    if len(temp_input) > time_step:\n",
    "        x_input = np.array(temp_input[1:])\n",
    "        x_input = x_input.reshape(1, -1)\n",
    "        x_input = x_input.reshape((1, time_step, 1))\n",
    "        yhat = model.predict(x_input, verbose=0)\n",
    "        temp_input.extend(yhat[0].tolist())\n",
    "        temp_input = temp_input[1:]\n",
    "        lst_output.extend(yhat.tolist())\n",
    "    else:\n",
    "        x_input = x_input.reshape((1, time_step, 1))\n",
    "        yhat = model.predict(x_input, verbose=0)\n",
    "        temp_input.extend(yhat[0].tolist())\n",
    "        lst_output.extend(yhat.tolist())\n",
    "\n",
    "future_predictions = scaler.inverse_transform(np.array(lst_output).reshape(-1, 1))\n",
    "print(f'Generated {len(future_predictions)} future predictions')"
   ]
  },
  {
   "cell_type": "markdown",
   "metadata": {},
   "source": [
    "## 7. Advanced Visualizations"
   ]
  },
  {
   "cell_type": "code",
   "execution_count": 8,
   "metadata": {},
   "outputs": [
    {
     "data": {
      "application/vnd.plotly.v1+json": {
       "config": {
        "plotlyServerURL": "https://plot.ly"
       },
       "data": [
        {
         "close": {
          "bdata": "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",
          "dtype": "f8"
         },
         "high": {
          "bdata": "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",
          "dtype": "f8"
         },
         "low": {
          "bdata": "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",
          "dtype": "f8"
         },
         "name": "BTC Price",
         "open": {
          "bdata": "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",
          "dtype": "f8"
         },
         "type": "candlestick",
         "x": [
          "2023-01-01T00:00:00.000000000",
          "2023-01-02T00:00:00.000000000",
          "2023-01-03T00:00:00.000000000",
          "2023-01-04T00:00:00.000000000",
          "2023-01-05T00:00:00.000000000",
          "2023-01-06T00:00:00.000000000",
          "2023-01-07T00:00:00.000000000",
          "2023-01-08T00:00:00.000000000",
          "2023-01-09T00:00:00.000000000",
          "2023-01-10T00:00:00.000000000",
          "2023-01-11T00:00:00.000000000",
          "2023-01-12T00:00:00.000000000",
          "2023-01-13T00:00:00.000000000",
          "2023-01-14T00:00:00.000000000",
          "2023-01-15T00:00:00.000000000",
          "2023-01-16T00:00:00.000000000",
          "2023-01-17T00:00:00.000000000",
          "2023-01-18T00:00:00.000000000",
          "2023-01-19T00:00:00.000000000",
          "2023-01-20T00:00:00.000000000",
          "2023-01-21T00:00:00.000000000",
          "2023-01-22T00:00:00.000000000",
          "2023-01-23T00:00:00.000000000",
          "2023-01-24T00:00:00.000000000",
          "2023-01-25T00:00:00.000000000",
          "2023-01-26T00:00:00.000000000",
          "2023-01-27T00:00:00.000000000",
          "2023-01-28T00:00:00.000000000",
          "2023-01-29T00:00:00.000000000",
          "2023-01-30T00:00:00.000000000",
          "2023-01-31T00:00:00.000000000",
          "2023-02-01T00:00:00.000000000",
          "2023-02-02T00:00:00.000000000",
          "2023-02-03T00:00:00.000000000",
          "2023-02-04T00:00:00.000000000",
          "2023-02-05T00:00:00.000000000",
          "2023-02-06T00:00:00.000000000",
          "2023-02-07T00:00:00.000000000",
          "2023-02-08T00:00:00.000000000",
          "2023-02-09T00:00:00.000000000",
          "2023-02-10T00:00:00.000000000",
          "2023-02-11T00:00:00.000000000",
          "2023-02-12T00:00:00.000000000",
          "2023-02-13T00:00:00.000000000",
          "2023-02-14T00:00:00.000000000",
          "2023-02-15T00:00:00.000000000",
          "2023-02-16T00:00:00.000000000",
          "2023-02-17T00:00:00.000000000",
          "2023-02-18T00:00:00.000000000",
          "2023-02-19T00:00:00.000000000",
          "2023-02-20T00:00:00.000000000",
          "2023-02-21T00:00:00.000000000",
          "2023-02-22T00:00:00.000000000",
          "2023-02-23T00:00:00.000000000",
          "2023-02-24T00:00:00.000000000",
          "2023-02-25T00:00:00.000000000",
          "2023-02-26T00:00:00.000000000",
          "2023-02-27T00:00:00.000000000",
          "2023-02-28T00:00:00.000000000",
          "2023-03-01T00:00:00.000000000",
          "2023-03-02T00:00:00.000000000",
          "2023-03-03T00:00:00.000000000",
          "2023-03-04T00:00:00.000000000",
          "2023-03-05T00:00:00.000000000",
          "2023-03-06T00:00:00.000000000",
          "2023-03-07T00:00:00.000000000",
          "2023-03-08T00:00:00.000000000",
          "2023-03-09T00:00:00.000000000",
          "2023-03-10T00:00:00.000000000",
          "2023-03-11T00:00:00.000000000",
          "2023-03-12T00:00:00.000000000",
          "2023-03-13T00:00:00.000000000",
          "2023-03-14T00:00:00.000000000",
          "2023-03-15T00:00:00.000000000",
          "2023-03-16T00:00:00.000000000",
          "2023-03-17T00:00:00.000000000",
          "2023-03-18T00:00:00.000000000",
          "2023-03-19T00:00:00.000000000",
          "2023-03-20T00:00:00.000000000",
          "2023-03-21T00:00:00.000000000",
          "2023-03-22T00:00:00.000000000",
          "2023-03-23T00:00:00.000000000",
          "2023-03-24T00:00:00.000000000",
          "2023-03-25T00:00:00.000000000",
          "2023-03-26T00:00:00.000000000",
          "2023-03-27T00:00:00.000000000",
          "2023-03-28T00:00:00.000000000",
          "2023-03-29T00:00:00.000000000",
          "2023-03-30T00:00:00.000000000",
          "2023-03-31T00:00:00.000000000",
          "2023-04-01T00:00:00.000000000",
          "2023-04-02T00:00:00.000000000",
          "2023-04-03T00:00:00.000000000",
          "2023-04-04T00:00:00.000000000",
          "2023-04-05T00:00:00.000000000",
          "2023-04-06T00:00:00.000000000",
          "2023-04-07T00:00:00.000000000",
          "2023-04-08T00:00:00.000000000",
          "2023-04-09T00:00:00.000000000",
          "2023-04-10T00:00:00.000000000",
          "2023-04-11T00:00:00.000000000",
          "2023-04-12T00:00:00.000000000",
          "2023-04-13T00:00:00.000000000",
          "2023-04-14T00:00:00.000000000",
          "2023-04-15T00:00:00.000000000",
          "2023-04-16T00:00:00.000000000",
          "2023-04-17T00:00:00.000000000",
          "2023-04-18T00:00:00.000000000",
          "2023-04-19T00:00:00.000000000",
          "2023-04-20T00:00:00.000000000",
          "2023-04-21T00:00:00.000000000",
          "2023-04-22T00:00:00.000000000",
          "2023-04-23T00:00:00.000000000",
          "2023-04-24T00:00:00.000000000",
          "2023-04-25T00:00:00.000000000",
          "2023-04-26T00:00:00.000000000",
          "2023-04-27T00:00:00.000000000",
          "2023-04-28T00:00:00.000000000",
          "2023-04-29T00:00:00.000000000",
          "2023-04-30T00:00:00.000000000",
          "2023-05-01T00:00:00.000000000",
          "2023-05-02T00:00:00.000000000",
          "2023-05-03T00:00:00.000000000",
          "2023-05-04T00:00:00.000000000",
          "2023-05-05T00:00:00.000000000",
          "2023-05-06T00:00:00.000000000",
          "2023-05-07T00:00:00.000000000",
          "2023-05-08T00:00:00.000000000",
          "2023-05-09T00:00:00.000000000",
          "2023-05-10T00:00:00.000000000",
          "2023-05-11T00:00:00.000000000",
          "2023-05-12T00:00:00.000000000",
          "2023-05-13T00:00:00.000000000",
          "2023-05-14T00:00:00.000000000",
          "2023-05-15T00:00:00.000000000",
          "2023-05-16T00:00:00.000000000",
          "2023-05-17T00:00:00.000000000",
          "2023-05-18T00:00:00.000000000",
          "2023-05-19T00:00:00.000000000",
          "2023-05-20T00:00:00.000000000",
          "2023-05-21T00:00:00.000000000",
          "2023-05-22T00:00:00.000000000",
          "2023-05-23T00:00:00.000000000",
          "2023-05-24T00:00:00.000000000",
          "2023-05-25T00:00:00.000000000",
          "2023-05-26T00:00:00.000000000",
          "2023-05-27T00:00:00.000000000",
          "2023-05-28T00:00:00.000000000",
          "2023-05-29T00:00:00.000000000",
          "2023-05-30T00:00:00.000000000",
          "2023-05-31T00:00:00.000000000",
          "2023-06-01T00:00:00.000000000",
          "2023-06-02T00:00:00.000000000",
          "2023-06-03T00:00:00.000000000",
          "2023-06-04T00:00:00.000000000",
          "2023-06-05T00:00:00.000000000",
          "2023-06-06T00:00:00.000000000",
          "2023-06-07T00:00:00.000000000",
          "2023-06-08T00:00:00.000000000",
          "2023-06-09T00:00:00.000000000",
          "2023-06-10T00:00:00.000000000",
          "2023-06-11T00:00:00.000000000",
          "2023-06-12T00:00:00.000000000",
          "2023-06-13T00:00:00.000000000",
          "2023-06-14T00:00:00.000000000",
          "2023-06-15T00:00:00.000000000",
          "2023-06-16T00:00:00.000000000",
          "2023-06-17T00:00:00.000000000",
          "2023-06-18T00:00:00.000000000",
          "2023-06-19T00:00:00.000000000",
          "2023-06-20T00:00:00.000000000",
          "2023-06-21T00:00:00.000000000",
          "2023-06-22T00:00:00.000000000",
          "2023-06-23T00:00:00.000000000",
          "2023-06-24T00:00:00.000000000",
          "2023-06-25T00:00:00.000000000",
          "2023-06-26T00:00:00.000000000",
          "2023-06-27T00:00:00.000000000",
          "2023-06-28T00:00:00.000000000",
          "2023-06-29T00:00:00.000000000",
          "2023-06-30T00:00:00.000000000",
          "2023-07-01T00:00:00.000000000",
          "2023-07-02T00:00:00.000000000",
          "2023-07-03T00:00:00.000000000",
          "2023-07-04T00:00:00.000000000",
          "2023-07-05T00:00:00.000000000",
          "2023-07-06T00:00:00.000000000",
          "2023-07-07T00:00:00.000000000",
          "2023-07-08T00:00:00.000000000",
          "2023-07-09T00:00:00.000000000",
          "2023-07-10T00:00:00.000000000",
          "2023-07-11T00:00:00.000000000",
          "2023-07-12T00:00:00.000000000",
          "2023-07-13T00:00:00.000000000",
          "2023-07-14T00:00:00.000000000",
          "2023-07-15T00:00:00.000000000",
          "2023-07-16T00:00:00.000000000",
          "2023-07-17T00:00:00.000000000",
          "2023-07-18T00:00:00.000000000",
          "2023-07-19T00:00:00.000000000",
          "2023-07-20T00:00:00.000000000",
          "2023-07-21T00:00:00.000000000",
          "2023-07-22T00:00:00.000000000",
          "2023-07-23T00:00:00.000000000",
          "2023-07-24T00:00:00.000000000",
          "2023-07-25T00:00:00.000000000",
          "2023-07-26T00:00:00.000000000",
          "2023-07-27T00:00:00.000000000",
          "2023-07-28T00:00:00.000000000",
          "2023-07-29T00:00:00.000000000",
          "2023-07-30T00:00:00.000000000",
          "2023-07-31T00:00:00.000000000",
          "2023-08-01T00:00:00.000000000",
          "2023-08-02T00:00:00.000000000",
          "2023-08-03T00:00:00.000000000",
          "2023-08-04T00:00:00.000000000",
          "2023-08-05T00:00:00.000000000",
          "2023-08-06T00:00:00.000000000",
          "2023-08-07T00:00:00.000000000",
          "2023-08-08T00:00:00.000000000",
          "2023-08-09T00:00:00.000000000",
          "2023-08-10T00:00:00.000000000",
          "2023-08-11T00:00:00.000000000",
          "2023-08-12T00:00:00.000000000",
          "2023-08-13T00:00:00.000000000",
          "2023-08-14T00:00:00.000000000",
          "2023-08-15T00:00:00.000000000",
          "2023-08-16T00:00:00.000000000",
          "2023-08-17T00:00:00.000000000",
          "2023-08-18T00:00:00.000000000",
          "2023-08-19T00:00:00.000000000",
          "2023-08-20T00:00:00.000000000",
          "2023-08-21T00:00:00.000000000",
          "2023-08-22T00:00:00.000000000",
          "2023-08-23T00:00:00.000000000",
          "2023-08-24T00:00:00.000000000",
          "2023-08-25T00:00:00.000000000",
          "2023-08-26T00:00:00.000000000",
          "2023-08-27T00:00:00.000000000",
          "2023-08-28T00:00:00.000000000",
          "2023-08-29T00:00:00.000000000",
          "2023-08-30T00:00:00.000000000",
          "2023-08-31T00:00:00.000000000",
          "2023-09-01T00:00:00.000000000",
          "2023-09-02T00:00:00.000000000",
          "2023-09-03T00:00:00.000000000",
          "2023-09-04T00:00:00.000000000",
          "2023-09-05T00:00:00.000000000",
          "2023-09-06T00:00:00.000000000",
          "2023-09-07T00:00:00.000000000",
          "2023-09-08T00:00:00.000000000",
          "2023-09-09T00:00:00.000000000",
          "2023-09-10T00:00:00.000000000",
          "2023-09-11T00:00:00.000000000",
          "2023-09-12T00:00:00.000000000",
          "2023-09-13T00:00:00.000000000",
          "2023-09-14T00:00:00.000000000",
          "2023-09-15T00:00:00.000000000",
          "2023-09-16T00:00:00.000000000",
          "2023-09-17T00:00:00.000000000",
          "2023-09-18T00:00:00.000000000",
          "2023-09-19T00:00:00.000000000",
          "2023-09-20T00:00:00.000000000",
          "2023-09-21T00:00:00.000000000",
          "2023-09-22T00:00:00.000000000",
          "2023-09-23T00:00:00.000000000",
          "2023-09-24T00:00:00.000000000",
          "2023-09-25T00:00:00.000000000",
          "2023-09-26T00:00:00.000000000",
          "2023-09-27T00:00:00.000000000",
          "2023-09-28T00:00:00.000000000",
          "2023-09-29T00:00:00.000000000",
          "2023-09-30T00:00:00.000000000",
          "2023-10-01T00:00:00.000000000",
          "2023-10-02T00:00:00.000000000",
          "2023-10-03T00:00:00.000000000",
          "2023-10-04T00:00:00.000000000",
          "2023-10-05T00:00:00.000000000",
          "2023-10-06T00:00:00.000000000",
          "2023-10-07T00:00:00.000000000",
          "2023-10-08T00:00:00.000000000",
          "2023-10-09T00:00:00.000000000",
          "2023-10-10T00:00:00.000000000",
          "2023-10-11T00:00:00.000000000",
          "2023-10-12T00:00:00.000000000",
          "2023-10-13T00:00:00.000000000",
          "2023-10-14T00:00:00.000000000",
          "2023-10-15T00:00:00.000000000",
          "2023-10-16T00:00:00.000000000",
          "2023-10-17T00:00:00.000000000",
          "2023-10-18T00:00:00.000000000",
          "2023-10-19T00:00:00.000000000",
          "2023-10-20T00:00:00.000000000",
          "2023-10-21T00:00:00.000000000",
          "2023-10-22T00:00:00.000000000",
          "2023-10-23T00:00:00.000000000",
          "2023-10-24T00:00:00.000000000",
          "2023-10-25T00:00:00.000000000",
          "2023-10-26T00:00:00.000000000",
          "2023-10-27T00:00:00.000000000",
          "2023-10-28T00:00:00.000000000",
          "2023-10-29T00:00:00.000000000",
          "2023-10-30T00:00:00.000000000",
          "2023-10-31T00:00:00.000000000",
          "2023-11-01T00:00:00.000000000",
          "2023-11-02T00:00:00.000000000",
          "2023-11-03T00:00:00.000000000",
          "2023-11-04T00:00:00.000000000",
          "2023-11-05T00:00:00.000000000",
          "2023-11-06T00:00:00.000000000",
          "2023-11-07T00:00:00.000000000",
          "2023-11-08T00:00:00.000000000",
          "2023-11-09T00:00:00.000000000",
          "2023-11-10T00:00:00.000000000",
          "2023-11-11T00:00:00.000000000",
          "2023-11-12T00:00:00.000000000",
          "2023-11-13T00:00:00.000000000",
          "2023-11-14T00:00:00.000000000",
          "2023-11-15T00:00:00.000000000",
          "2023-11-16T00:00:00.000000000",
          "2023-11-17T00:00:00.000000000",
          "2023-11-18T00:00:00.000000000",
          "2023-11-19T00:00:00.000000000",
          "2023-11-20T00:00:00.000000000",
          "2023-11-21T00:00:00.000000000",
          "2023-11-22T00:00:00.000000000",
          "2023-11-23T00:00:00.000000000",
          "2023-11-24T00:00:00.000000000",
          "2023-11-25T00:00:00.000000000",
          "2023-11-26T00:00:00.000000000",
          "2023-11-27T00:00:00.000000000",
          "2023-11-28T00:00:00.000000000",
          "2023-11-29T00:00:00.000000000",
          "2023-11-30T00:00:00.000000000",
          "2023-12-01T00:00:00.000000000",
          "2023-12-02T00:00:00.000000000",
          "2023-12-03T00:00:00.000000000",
          "2023-12-04T00:00:00.000000000",
          "2023-12-05T00:00:00.000000000",
          "2023-12-06T00:00:00.000000000",
          "2023-12-07T00:00:00.000000000",
          "2023-12-08T00:00:00.000000000",
          "2023-12-09T00:00:00.000000000",
          "2023-12-10T00:00:00.000000000",
          "2023-12-11T00:00:00.000000000",
          "2023-12-12T00:00:00.000000000",
          "2023-12-13T00:00:00.000000000",
          "2023-12-14T00:00:00.000000000",
          "2023-12-15T00:00:00.000000000",
          "2023-12-16T00:00:00.000000000",
          "2023-12-17T00:00:00.000000000",
          "2023-12-18T00:00:00.000000000",
          "2023-12-19T00:00:00.000000000",
          "2023-12-20T00:00:00.000000000",
          "2023-12-21T00:00:00.000000000",
          "2023-12-22T00:00:00.000000000",
          "2023-12-23T00:00:00.000000000",
          "2023-12-24T00:00:00.000000000",
          "2023-12-25T00:00:00.000000000",
          "2023-12-26T00:00:00.000000000",
          "2023-12-27T00:00:00.000000000",
          "2023-12-28T00:00:00.000000000",
          "2023-12-29T00:00:00.000000000",
          "2023-12-30T00:00:00.000000000",
          "2023-12-31T00:00:00.000000000"
         ]
        },
        {
         "line": {
          "color": "red",
          "width": 3
         },
         "mode": "lines+markers",
         "name": "Future Predictions",
         "type": "scatter",
         "x": [
          "2024-01-01T00:00:00.000000000",
          "2024-01-02T00:00:00.000000000",
          "2024-01-03T00:00:00.000000000",
          "2024-01-04T00:00:00.000000000",
          "2024-01-05T00:00:00.000000000",
          "2024-01-06T00:00:00.000000000",
          "2024-01-07T00:00:00.000000000",
          "2024-01-08T00:00:00.000000000",
          "2024-01-09T00:00:00.000000000",
          "2024-01-10T00:00:00.000000000",
          "2024-01-11T00:00:00.000000000",
          "2024-01-12T00:00:00.000000000",
          "2024-01-13T00:00:00.000000000",
          "2024-01-14T00:00:00.000000000",
          "2024-01-15T00:00:00.000000000",
          "2024-01-16T00:00:00.000000000",
          "2024-01-17T00:00:00.000000000",
          "2024-01-18T00:00:00.000000000",
          "2024-01-19T00:00:00.000000000",
          "2024-01-20T00:00:00.000000000",
          "2024-01-21T00:00:00.000000000",
          "2024-01-22T00:00:00.000000000",
          "2024-01-23T00:00:00.000000000",
          "2024-01-24T00:00:00.000000000",
          "2024-01-25T00:00:00.000000000",
          "2024-01-26T00:00:00.000000000",
          "2024-01-27T00:00:00.000000000",
          "2024-01-28T00:00:00.000000000",
          "2024-01-29T00:00:00.000000000",
          "2024-01-30T00:00:00.000000000"
         ],
         "y": {
          "bdata": "EPxm7OEk5ECQTgJBjATkQFDKFdsS4eNAAGU4fme640BAaeKtVZTjQBCa7bQobuNAEHl9nlNI40AAgnMUqiLjQIDTZGbA/OJAMAsl+pLY4kBASOhD6bPiQICgl1ickeJAYBA7kVhv4kCQkfNchU3iQOCglovzLOJAEB9OLbkN4kDgyIrLTu7hQKDyywSzz+FA4JmkqNqx4UCgJLryuZThQIAb0RlPeOFAwIRHtJVc4UBgP5w8i0HhQMB13ZkrJ+FAoKjT9nEN4UCgdpk4XvTgQOC2sc3q2+BAUG0aPBnE4ECA774M5azgQLBOKK1KluBA",
          "dtype": "f8"
         }
        }
       ],
       "layout": {
        "height": 600,
        "template": {
         "data": {
          "bar": [
           {
            "error_x": {
             "color": "#f2f5fa"
            },
            "error_y": {
             "color": "#f2f5fa"
            },
            "marker": {
             "line": {
              "color": "rgb(17,17,17)",
              "width": 0.5
             },
             "pattern": {
              "fillmode": "overlay",
              "size": 10,
              "solidity": 0.2
             }
            },
            "type": "bar"
           }
          ],
          "barpolar": [
           {
            "marker": {
             "line": {
              "color": "rgb(17,17,17)",
              "width": 0.5
             },
             "pattern": {
              "fillmode": "overlay",
              "size": 10,
              "solidity": 0.2
             }
            },
            "type": "barpolar"
           }
          ],
          "carpet": [
           {
            "aaxis": {
             "endlinecolor": "#A2B1C6",
             "gridcolor": "#506784",
             "linecolor": "#506784",
             "minorgridcolor": "#506784",
             "startlinecolor": "#A2B1C6"
            },
            "baxis": {
             "endlinecolor": "#A2B1C6",
             "gridcolor": "#506784",
             "linecolor": "#506784",
             "minorgridcolor": "#506784",
             "startlinecolor": "#A2B1C6"
            },
            "type": "carpet"
           }
          ],
          "choropleth": [
           {
            "colorbar": {
             "outlinewidth": 0,
             "ticks": ""
            },
            "type": "choropleth"
           }
          ],
          "contour": [
           {
            "colorbar": {
             "outlinewidth": 0,
             "ticks": ""
            },
            "colorscale": [
             [
              0,
              "#0d0887"
             ],
             [
              0.1111111111111111,
              "#46039f"
             ],
             [
              0.2222222222222222,
              "#7201a8"
             ],
             [
              0.3333333333333333,
              "#9c179e"
             ],
             [
              0.4444444444444444,
              "#bd3786"
             ],
             [
              0.5555555555555556,
              "#d8576b"
             ],
             [
              0.6666666666666666,
              "#ed7953"
             ],
             [
              0.7777777777777778,
              "#fb9f3a"
             ],
             [
              0.8888888888888888,
              "#fdca26"
             ],
             [
              1,
              "#f0f921"
             ]
            ],
            "type": "contour"
           }
          ],
          "contourcarpet": [
           {
            "colorbar": {
             "outlinewidth": 0,
             "ticks": ""
            },
            "type": "contourcarpet"
           }
          ],
          "heatmap": [
           {
            "colorbar": {
             "outlinewidth": 0,
             "ticks": ""
            },
            "colorscale": [
             [
              0,
              "#0d0887"
             ],
             [
              0.1111111111111111,
              "#46039f"
             ],
             [
              0.2222222222222222,
              "#7201a8"
             ],
             [
              0.3333333333333333,
              "#9c179e"
             ],
             [
              0.4444444444444444,
              "#bd3786"
             ],
             [
              0.5555555555555556,
              "#d8576b"
             ],
             [
              0.6666666666666666,
              "#ed7953"
             ],
             [
              0.7777777777777778,
              "#fb9f3a"
             ],
             [
              0.8888888888888888,
              "#fdca26"
             ],
             [
              1,
              "#f0f921"
             ]
            ],
            "type": "heatmap"
           }
          ],
          "histogram": [
           {
            "marker": {
             "pattern": {
              "fillmode": "overlay",
              "size": 10,
              "solidity": 0.2
             }
            },
            "type": "histogram"
           }
          ],
          "histogram2d": [
           {
            "colorbar": {
             "outlinewidth": 0,
             "ticks": ""
            },
            "colorscale": [
             [
              0,
              "#0d0887"
             ],
             [
              0.1111111111111111,
              "#46039f"
             ],
             [
              0.2222222222222222,
              "#7201a8"
             ],
             [
              0.3333333333333333,
              "#9c179e"
             ],
             [
              0.4444444444444444,
              "#bd3786"
             ],
             [
              0.5555555555555556,
              "#d8576b"
             ],
             [
              0.6666666666666666,
              "#ed7953"
             ],
             [
              0.7777777777777778,
              "#fb9f3a"
             ],
             [
              0.8888888888888888,
              "#fdca26"
             ],
             [
              1,
              "#f0f921"
             ]
            ],
            "type": "histogram2d"
           }
          ],
          "histogram2dcontour": [
           {
            "colorbar": {
             "outlinewidth": 0,
             "ticks": ""
            },
            "colorscale": [
             [
              0,
              "#0d0887"
             ],
             [
              0.1111111111111111,
              "#46039f"
             ],
             [
              0.2222222222222222,
              "#7201a8"
             ],
             [
              0.3333333333333333,
              "#9c179e"
             ],
             [
              0.4444444444444444,
              "#bd3786"
             ],
             [
              0.5555555555555556,
              "#d8576b"
             ],
             [
              0.6666666666666666,
              "#ed7953"
             ],
             [
              0.7777777777777778,
              "#fb9f3a"
             ],
             [
              0.8888888888888888,
              "#fdca26"
             ],
             [
              1,
              "#f0f921"
             ]
            ],
            "type": "histogram2dcontour"
           }
          ],
          "mesh3d": [
           {
            "colorbar": {
             "outlinewidth": 0,
             "ticks": ""
            },
            "type": "mesh3d"
           }
          ],
          "parcoords": [
           {
            "line": {
             "colorbar": {
              "outlinewidth": 0,
              "ticks": ""
             }
            },
            "type": "parcoords"
           }
          ],
          "pie": [
           {
            "automargin": true,
            "type": "pie"
           }
          ],
          "scatter": [
           {
            "marker": {
             "line": {
              "color": "#283442"
             }
            },
            "type": "scatter"
           }
          ],
          "scatter3d": [
           {
            "line": {
             "colorbar": {
              "outlinewidth": 0,
              "ticks": ""
             }
            },
            "marker": {
             "colorbar": {
              "outlinewidth": 0,
              "ticks": ""
             }
            },
            "type": "scatter3d"
           }
          ],
          "scattercarpet": [
           {
            "marker": {
             "colorbar": {
              "outlinewidth": 0,
              "ticks": ""
             }
            },
            "type": "scattercarpet"
           }
          ],
          "scattergeo": [
           {
            "marker": {
             "colorbar": {
              "outlinewidth": 0,
              "ticks": ""
             }
            },
            "type": "scattergeo"
           }
          ],
          "scattergl": [
           {
            "marker": {
             "line": {
              "color": "#283442"
             }
            },
            "type": "scattergl"
           }
          ],
          "scattermap": [
           {
            "marker": {
             "colorbar": {
              "outlinewidth": 0,
              "ticks": ""
             }
            },
            "type": "scattermap"
           }
          ],
          "scattermapbox": [
           {
            "marker": {
             "colorbar": {
              "outlinewidth": 0,
              "ticks": ""
             }
            },
            "type": "scattermapbox"
           }
          ],
          "scatterpolar": [
           {
            "marker": {
             "colorbar": {
              "outlinewidth": 0,
              "ticks": ""
             }
            },
            "type": "scatterpolar"
           }
          ],
          "scatterpolargl": [
           {
            "marker": {
             "colorbar": {
              "outlinewidth": 0,
              "ticks": ""
             }
            },
            "type": "scatterpolargl"
           }
          ],
          "scatterternary": [
           {
            "marker": {
             "colorbar": {
              "outlinewidth": 0,
              "ticks": ""
             }
            },
            "type": "scatterternary"
           }
          ],
          "surface": [
           {
            "colorbar": {
             "outlinewidth": 0,
             "ticks": ""
            },
            "colorscale": [
             [
              0,
              "#0d0887"
             ],
             [
              0.1111111111111111,
              "#46039f"
             ],
             [
              0.2222222222222222,
              "#7201a8"
             ],
             [
              0.3333333333333333,
              "#9c179e"
             ],
             [
              0.4444444444444444,
              "#bd3786"
             ],
             [
              0.5555555555555556,
              "#d8576b"
             ],
             [
              0.6666666666666666,
              "#ed7953"
             ],
             [
              0.7777777777777778,
              "#fb9f3a"
             ],
             [
              0.8888888888888888,
              "#fdca26"
             ],
             [
              1,
              "#f0f921"
             ]
            ],
            "type": "surface"
           }
          ],
          "table": [
           {
            "cells": {
             "fill": {
              "color": "#506784"
             },
             "line": {
              "color": "rgb(17,17,17)"
             }
            },
            "header": {
             "fill": {
              "color": "#2a3f5f"
             },
             "line": {
              "color": "rgb(17,17,17)"
             }
            },
            "type": "table"
           }
          ]
         },
         "layout": {
          "annotationdefaults": {
           "arrowcolor": "#f2f5fa",
           "arrowhead": 0,
           "arrowwidth": 1
          },
          "autotypenumbers": "strict",
          "coloraxis": {
           "colorbar": {
            "outlinewidth": 0,
            "ticks": ""
           }
          },
          "colorscale": {
           "diverging": [
            [
             0,
             "#8e0152"
            ],
            [
             0.1,
             "#c51b7d"
            ],
            [
             0.2,
             "#de77ae"
            ],
            [
             0.3,
             "#f1b6da"
            ],
            [
             0.4,
             "#fde0ef"
            ],
            [
             0.5,
             "#f7f7f7"
            ],
            [
             0.6,
             "#e6f5d0"
            ],
            [
             0.7,
             "#b8e186"
            ],
            [
             0.8,
             "#7fbc41"
            ],
            [
             0.9,
             "#4d9221"
            ],
            [
             1,
             "#276419"
            ]
           ],
           "sequential": [
            [
             0,
             "#0d0887"
            ],
            [
             0.1111111111111111,
             "#46039f"
            ],
            [
             0.2222222222222222,
             "#7201a8"
            ],
            [
             0.3333333333333333,
             "#9c179e"
            ],
            [
             0.4444444444444444,
             "#bd3786"
            ],
            [
             0.5555555555555556,
             "#d8576b"
            ],
            [
             0.6666666666666666,
             "#ed7953"
            ],
            [
             0.7777777777777778,
             "#fb9f3a"
            ],
            [
             0.8888888888888888,
             "#fdca26"
            ],
            [
             1,
             "#f0f921"
            ]
           ],
           "sequentialminus": [
            [
             0,
             "#0d0887"
            ],
            [
             0.1111111111111111,
             "#46039f"
            ],
            [
             0.2222222222222222,
             "#7201a8"
            ],
            [
             0.3333333333333333,
             "#9c179e"
            ],
            [
             0.4444444444444444,
             "#bd3786"
            ],
            [
             0.5555555555555556,
             "#d8576b"
            ],
            [
             0.6666666666666666,
             "#ed7953"
            ],
            [
             0.7777777777777778,
             "#fb9f3a"
            ],
            [
             0.8888888888888888,
             "#fdca26"
            ],
            [
             1,
             "#f0f921"
            ]
           ]
          },
          "colorway": [
           "#636efa",
           "#EF553B",
           "#00cc96",
           "#ab63fa",
           "#FFA15A",
           "#19d3f3",
           "#FF6692",
           "#B6E880",
           "#FF97FF",
           "#FECB52"
          ],
          "font": {
           "color": "#f2f5fa"
          },
          "geo": {
           "bgcolor": "rgb(17,17,17)",
           "lakecolor": "rgb(17,17,17)",
           "landcolor": "rgb(17,17,17)",
           "showlakes": true,
           "showland": true,
           "subunitcolor": "#506784"
          },
          "hoverlabel": {
           "align": "left"
          },
          "hovermode": "closest",
          "mapbox": {
           "style": "dark"
          },
          "paper_bgcolor": "rgb(17,17,17)",
          "plot_bgcolor": "rgb(17,17,17)",
          "polar": {
           "angularaxis": {
            "gridcolor": "#506784",
            "linecolor": "#506784",
            "ticks": ""
           },
           "bgcolor": "rgb(17,17,17)",
           "radialaxis": {
            "gridcolor": "#506784",
            "linecolor": "#506784",
            "ticks": ""
           }
          },
          "scene": {
           "xaxis": {
            "backgroundcolor": "rgb(17,17,17)",
            "gridcolor": "#506784",
            "gridwidth": 2,
            "linecolor": "#506784",
            "showbackground": true,
            "ticks": "",
            "zerolinecolor": "#C8D4E3"
           },
           "yaxis": {
            "backgroundcolor": "rgb(17,17,17)",
            "gridcolor": "#506784",
            "gridwidth": 2,
            "linecolor": "#506784",
            "showbackground": true,
            "ticks": "",
            "zerolinecolor": "#C8D4E3"
           },
           "zaxis": {
            "backgroundcolor": "rgb(17,17,17)",
            "gridcolor": "#506784",
            "gridwidth": 2,
            "linecolor": "#506784",
            "showbackground": true,
            "ticks": "",
            "zerolinecolor": "#C8D4E3"
           }
          },
          "shapedefaults": {
           "line": {
            "color": "#f2f5fa"
           }
          },
          "sliderdefaults": {
           "bgcolor": "#C8D4E3",
           "bordercolor": "rgb(17,17,17)",
           "borderwidth": 1,
           "tickwidth": 0
          },
          "ternary": {
           "aaxis": {
            "gridcolor": "#506784",
            "linecolor": "#506784",
            "ticks": ""
           },
           "baxis": {
            "gridcolor": "#506784",
            "linecolor": "#506784",
            "ticks": ""
           },
           "bgcolor": "rgb(17,17,17)",
           "caxis": {
            "gridcolor": "#506784",
            "linecolor": "#506784",
            "ticks": ""
           }
          },
          "title": {
           "x": 0.05
          },
          "updatemenudefaults": {
           "bgcolor": "#506784",
           "borderwidth": 0
          },
          "xaxis": {
           "automargin": true,
           "gridcolor": "#283442",
           "linecolor": "#506784",
           "ticks": "",
           "title": {
            "standoff": 15
           },
           "zerolinecolor": "#283442",
           "zerolinewidth": 2
          },
          "yaxis": {
           "automargin": true,
           "gridcolor": "#283442",
           "linecolor": "#506784",
           "ticks": "",
           "title": {
            "standoff": 15
           },
           "zerolinecolor": "#283442",
           "zerolinewidth": 2
          }
         }
        },
        "title": {
         "text": "Bitcoin Price with Future Predictions"
        },
        "xaxis": {
         "title": {
          "text": "Date"
         }
        },
        "yaxis": {
         "title": {
          "text": "Price (USD)"
         }
        }
       }
      }
     },
     "metadata": {},
     "output_type": "display_data"
    }
   ],
   "source": [
    "# Candlestick Chart with Predictions\n",
    "fig_candle = go.Figure()\n",
    "\n",
    "# Add candlestick\n",
    "fig_candle.add_trace(go.Candlestick(\n",
    "    x=maindf['Date'],\n",
    "    open=maindf['Open'],\n",
    "    high=maindf['High'],\n",
    "    low=maindf['Low'],\n",
    "    close=maindf['Close'],\n",
    "    name='BTC Price'\n",
    "))\n",
    "\n",
    "# Add future predictions\n",
    "future_dates = pd.date_range(start=maindf['Date'].iloc[-1] + pd.Timedelta(days=1), \n",
    "                           periods=pred_days, freq='D')\n",
    "fig_candle.add_trace(go.Scatter(\n",
    "    x=future_dates,\n",
    "    y=future_predictions.flatten(),\n",
    "    mode='lines+markers',\n",
    "    name='Future Predictions',\n",
    "    line=dict(color='red', width=3)\n",
    "))\n",
    "\n",
    "fig_candle.update_layout(\n",
    "    title='Bitcoin Price with Future Predictions',\n",
    "    xaxis_title='Date',\n",
    "    yaxis_title='Price (USD)',\n",
    "    template='plotly_dark',\n",
    "    height=600\n",
    ")\n",
    "\n",
    "fig_candle.show()"
   ]
  },
  {
   "cell_type": "markdown",
   "metadata": {},
   "source": [
    "## 8. Interactive Dashboard"
   ]
  },
  {
   "cell_type": "code",
   "execution_count": 9,
   "metadata": {},
   "outputs": [
    {
     "data": {
      "application/vnd.plotly.v1+json": {
       "config": {
        "plotlyServerURL": "https://plot.ly"
       },
       "data": [
        {
         "line": {
          "color": "blue"
         },
         "name": "Actual",
         "type": "scatter",
         "x": [
          "2023-08-24T00:00:00.000000000",
          "2023-08-25T00:00:00.000000000",
          "2023-08-26T00:00:00.000000000",
          "2023-08-27T00:00:00.000000000",
          "2023-08-28T00:00:00.000000000",
          "2023-08-29T00:00:00.000000000",
          "2023-08-30T00:00:00.000000000",
          "2023-08-31T00:00:00.000000000",
          "2023-09-01T00:00:00.000000000",
          "2023-09-02T00:00:00.000000000",
          "2023-09-03T00:00:00.000000000",
          "2023-09-04T00:00:00.000000000",
          "2023-09-05T00:00:00.000000000",
          "2023-09-06T00:00:00.000000000",
          "2023-09-07T00:00:00.000000000",
          "2023-09-08T00:00:00.000000000",
          "2023-09-09T00:00:00.000000000",
          "2023-09-10T00:00:00.000000000",
          "2023-09-11T00:00:00.000000000",
          "2023-09-12T00:00:00.000000000",
          "2023-09-13T00:00:00.000000000",
          "2023-09-14T00:00:00.000000000",
          "2023-09-15T00:00:00.000000000",
          "2023-09-16T00:00:00.000000000",
          "2023-09-17T00:00:00.000000000",
          "2023-09-18T00:00:00.000000000",
          "2023-09-19T00:00:00.000000000",
          "2023-09-20T00:00:00.000000000",
          "2023-09-21T00:00:00.000000000",
          "2023-09-22T00:00:00.000000000",
          "2023-09-23T00:00:00.000000000",
          "2023-09-24T00:00:00.000000000",
          "2023-09-25T00:00:00.000000000",
          "2023-09-26T00:00:00.000000000",
          "2023-09-27T00:00:00.000000000",
          "2023-09-28T00:00:00.000000000",
          "2023-09-29T00:00:00.000000000",
          "2023-09-30T00:00:00.000000000",
          "2023-10-01T00:00:00.000000000",
          "2023-10-02T00:00:00.000000000",
          "2023-10-03T00:00:00.000000000",
          "2023-10-04T00:00:00.000000000",
          "2023-10-05T00:00:00.000000000",
          "2023-10-06T00:00:00.000000000",
          "2023-10-07T00:00:00.000000000",
          "2023-10-08T00:00:00.000000000",
          "2023-10-09T00:00:00.000000000",
          "2023-10-10T00:00:00.000000000",
          "2023-10-11T00:00:00.000000000",
          "2023-10-12T00:00:00.000000000",
          "2023-10-13T00:00:00.000000000",
          "2023-10-14T00:00:00.000000000",
          "2023-10-15T00:00:00.000000000",
          "2023-10-16T00:00:00.000000000",
          "2023-10-17T00:00:00.000000000",
          "2023-10-18T00:00:00.000000000",
          "2023-10-19T00:00:00.000000000",
          "2023-10-20T00:00:00.000000000",
          "2023-10-21T00:00:00.000000000",
          "2023-10-22T00:00:00.000000000",
          "2023-10-23T00:00:00.000000000",
          "2023-10-24T00:00:00.000000000",
          "2023-10-25T00:00:00.000000000",
          "2023-10-26T00:00:00.000000000",
          "2023-10-27T00:00:00.000000000",
          "2023-10-28T00:00:00.000000000",
          "2023-10-29T00:00:00.000000000",
          "2023-10-30T00:00:00.000000000",
          "2023-10-31T00:00:00.000000000",
          "2023-11-01T00:00:00.000000000",
          "2023-11-02T00:00:00.000000000",
          "2023-11-03T00:00:00.000000000",
          "2023-11-04T00:00:00.000000000",
          "2023-11-05T00:00:00.000000000",
          "2023-11-06T00:00:00.000000000",
          "2023-11-07T00:00:00.000000000",
          "2023-11-08T00:00:00.000000000",
          "2023-11-09T00:00:00.000000000",
          "2023-11-10T00:00:00.000000000",
          "2023-11-11T00:00:00.000000000",
          "2023-11-12T00:00:00.000000000",
          "2023-11-13T00:00:00.000000000",
          "2023-11-14T00:00:00.000000000",
          "2023-11-15T00:00:00.000000000",
          "2023-11-16T00:00:00.000000000",
          "2023-11-17T00:00:00.000000000",
          "2023-11-18T00:00:00.000000000",
          "2023-11-19T00:00:00.000000000",
          "2023-11-20T00:00:00.000000000",
          "2023-11-21T00:00:00.000000000",
          "2023-11-22T00:00:00.000000000",
          "2023-11-23T00:00:00.000000000",
          "2023-11-24T00:00:00.000000000",
          "2023-11-25T00:00:00.000000000",
          "2023-11-26T00:00:00.000000000",
          "2023-11-27T00:00:00.000000000",
          "2023-11-28T00:00:00.000000000",
          "2023-11-29T00:00:00.000000000",
          "2023-11-30T00:00:00.000000000",
          "2023-12-01T00:00:00.000000000",
          "2023-12-02T00:00:00.000000000",
          "2023-12-03T00:00:00.000000000",
          "2023-12-04T00:00:00.000000000",
          "2023-12-05T00:00:00.000000000",
          "2023-12-06T00:00:00.000000000",
          "2023-12-07T00:00:00.000000000",
          "2023-12-08T00:00:00.000000000",
          "2023-12-09T00:00:00.000000000",
          "2023-12-10T00:00:00.000000000",
          "2023-12-11T00:00:00.000000000",
          "2023-12-12T00:00:00.000000000",
          "2023-12-13T00:00:00.000000000",
          "2023-12-14T00:00:00.000000000",
          "2023-12-15T00:00:00.000000000",
          "2023-12-16T00:00:00.000000000",
          "2023-12-17T00:00:00.000000000",
          "2023-12-18T00:00:00.000000000",
          "2023-12-19T00:00:00.000000000",
          "2023-12-20T00:00:00.000000000",
          "2023-12-21T00:00:00.000000000",
          "2023-12-22T00:00:00.000000000",
          "2023-12-23T00:00:00.000000000",
          "2023-12-24T00:00:00.000000000",
          "2023-12-25T00:00:00.000000000",
          "2023-12-26T00:00:00.000000000",
          "2023-12-27T00:00:00.000000000",
          "2023-12-28T00:00:00.000000000",
          "2023-12-29T00:00:00.000000000",
          "2023-12-30T00:00:00.000000000",
          "2023-12-31T00:00:00.000000000"
         ],
         "xaxis": "x",
         "y": {
          "bdata": "AAAAAOnP2UAAAADgl4zZQAAAAMDqb9lAAAAAoB1m2UAAAABgbHrZQAAAAKCJftlAAAAAINkT20AAAAAAUajaQAAAAEDeUtlAAAAAYC4y2UAAAAAgM0PZQAAAAEBkXNlAAAAAoBo12UAAAADg/izZQAAAACBPJtlAAAAAgAyg2UAAAADgaUzZQAAAAGDrSdlAAAAAgA462UAAAADgqZLYQAAAAABWOtlAAAAAwBSd2UAAAAAg6+rZQAAAAGAs/NlAAAAAABLy2UAAAAAAjOnZQAAAAACSINpAAAAAgMeS2kAAAACAAH/aQAAAAIDo8dlAAAAAYOT02UAAAAAA2fTZQAAAAOA0pNlAAAAAwJ6u2UAAAAAAUJrZQAAAAOAtvNlAAAAAAGNj2kAAAAAg7kfaQAAAAKD6VdpA/////+9T20AAAABAsuLaQAAAAKB+ydpAAAAAQNkl20AAAABg+sXaQAAAAECmSttAAAAAwDVQ20AAAADAxUfbQAEAAGDr79pAAAAAQMG/2kAAAACAVD7aQAAAACAzIdpAAAAAAJg72kAAAABAbTvaQAAAAMDphdpAAAAA4N3Z20AAAADg77/bQAEAAOAVqttAAAAAoPML3EAAAADAvPzcQAEAAGCaN91AAQAAYHlK3UAAAACAxyfgQAAAAOCwjeBAAAAAQNrY4EAAAADAlK3gQAAAAKC5juBAAAAAYDKl4EAAAABgT93gQAAAAKDL2OBAAAAAAHnt4EAAAAAgqE3hQAAAAMBHD+FAAAAAYIr14EAAAABARiHhQAAAAGArHeFAAAAA4Ksb4UAAAAAAck7hQAAAAODoaOFAAAAAAKTq4UAAAAAAPzjiQAAAAKBBIuJAAAAAoNAX4kAAAABgy9LhQAAAAIA0WuFAAAAAoBJ/4kAAAACgWKfhQAAAAOCV3uFAAAAAgDbd4UAAAACAUUHiQAAAAKCeTOJAAAAAALp84UAAAADgCkfiQAAAAOAzNeJAAAAAAAlr4kAAAABgmXTiQAAAAODjTOJAAAAAYMUw4kAAAADA4njiQAAAAMBPfOJAAAAA4Bdq4kAAAAAAGOTiQAAAAKCKRuNAAAAAgEyF40AAAAAgg3/kQAAAAMAUhuVAAAAAQE5c5UAAAABAlSPlQAAAAEDTkOVAAAAAgL9Z5UAAAABgdmDlQAAAAKB6I+RAAAAAIEc95EAAAADAV/HkQAAAACD/AeVAAAAAQDh55EAAAADAA6DkQAAAAECVMuRAAAAAQPHP5EAAAADg0KPkQAAAAACIUOVAAAAA4KRr5UAAAADgvHvlQAAAAGBxW+VAAAAAwAMB5UAAAACApEvlQAAAAOAMw+RAAAAAYFs25UAAAABge9DkQAAAAOBsjuRAAAAA4JyV5EA=",
          "dtype": "f8"
         },
         "yaxis": "y"
        },
        {
         "line": {
          "color": "red"
         },
         "name": "Predicted",
         "type": "scatter",
         "x": [
          "2023-08-24T00:00:00.000000000",
          "2023-08-25T00:00:00.000000000",
          "2023-08-26T00:00:00.000000000",
          "2023-08-27T00:00:00.000000000",
          "2023-08-28T00:00:00.000000000",
          "2023-08-29T00:00:00.000000000",
          "2023-08-30T00:00:00.000000000",
          "2023-08-31T00:00:00.000000000",
          "2023-09-01T00:00:00.000000000",
          "2023-09-02T00:00:00.000000000",
          "2023-09-03T00:00:00.000000000",
          "2023-09-04T00:00:00.000000000",
          "2023-09-05T00:00:00.000000000",
          "2023-09-06T00:00:00.000000000",
          "2023-09-07T00:00:00.000000000",
          "2023-09-08T00:00:00.000000000",
          "2023-09-09T00:00:00.000000000",
          "2023-09-10T00:00:00.000000000",
          "2023-09-11T00:00:00.000000000",
          "2023-09-12T00:00:00.000000000",
          "2023-09-13T00:00:00.000000000",
          "2023-09-14T00:00:00.000000000",
          "2023-09-15T00:00:00.000000000",
          "2023-09-16T00:00:00.000000000",
          "2023-09-17T00:00:00.000000000",
          "2023-09-18T00:00:00.000000000",
          "2023-09-19T00:00:00.000000000",
          "2023-09-20T00:00:00.000000000",
          "2023-09-21T00:00:00.000000000",
          "2023-09-22T00:00:00.000000000",
          "2023-09-23T00:00:00.000000000",
          "2023-09-24T00:00:00.000000000",
          "2023-09-25T00:00:00.000000000",
          "2023-09-26T00:00:00.000000000",
          "2023-09-27T00:00:00.000000000",
          "2023-09-28T00:00:00.000000000",
          "2023-09-29T00:00:00.000000000",
          "2023-09-30T00:00:00.000000000",
          "2023-10-01T00:00:00.000000000",
          "2023-10-02T00:00:00.000000000",
          "2023-10-03T00:00:00.000000000",
          "2023-10-04T00:00:00.000000000",
          "2023-10-05T00:00:00.000000000",
          "2023-10-06T00:00:00.000000000",
          "2023-10-07T00:00:00.000000000",
          "2023-10-08T00:00:00.000000000",
          "2023-10-09T00:00:00.000000000",
          "2023-10-10T00:00:00.000000000",
          "2023-10-11T00:00:00.000000000",
          "2023-10-12T00:00:00.000000000",
          "2023-10-13T00:00:00.000000000",
          "2023-10-14T00:00:00.000000000",
          "2023-10-15T00:00:00.000000000",
          "2023-10-16T00:00:00.000000000",
          "2023-10-17T00:00:00.000000000",
          "2023-10-18T00:00:00.000000000",
          "2023-10-19T00:00:00.000000000",
          "2023-10-20T00:00:00.000000000",
          "2023-10-21T00:00:00.000000000",
          "2023-10-22T00:00:00.000000000",
          "2023-10-23T00:00:00.000000000",
          "2023-10-24T00:00:00.000000000",
          "2023-10-25T00:00:00.000000000",
          "2023-10-26T00:00:00.000000000",
          "2023-10-27T00:00:00.000000000",
          "2023-10-28T00:00:00.000000000",
          "2023-10-29T00:00:00.000000000",
          "2023-10-30T00:00:00.000000000",
          "2023-10-31T00:00:00.000000000",
          "2023-11-01T00:00:00.000000000",
          "2023-11-02T00:00:00.000000000",
          "2023-11-03T00:00:00.000000000",
          "2023-11-04T00:00:00.000000000",
          "2023-11-05T00:00:00.000000000",
          "2023-11-06T00:00:00.000000000",
          "2023-11-07T00:00:00.000000000",
          "2023-11-08T00:00:00.000000000",
          "2023-11-09T00:00:00.000000000",
          "2023-11-10T00:00:00.000000000",
          "2023-11-11T00:00:00.000000000",
          "2023-11-12T00:00:00.000000000",
          "2023-11-13T00:00:00.000000000",
          "2023-11-14T00:00:00.000000000",
          "2023-11-15T00:00:00.000000000",
          "2023-11-16T00:00:00.000000000",
          "2023-11-17T00:00:00.000000000",
          "2023-11-18T00:00:00.000000000",
          "2023-11-19T00:00:00.000000000",
          "2023-11-20T00:00:00.000000000",
          "2023-11-21T00:00:00.000000000",
          "2023-11-22T00:00:00.000000000",
          "2023-11-23T00:00:00.000000000",
          "2023-11-24T00:00:00.000000000",
          "2023-11-25T00:00:00.000000000",
          "2023-11-26T00:00:00.000000000",
          "2023-11-27T00:00:00.000000000",
          "2023-11-28T00:00:00.000000000",
          "2023-11-29T00:00:00.000000000",
          "2023-11-30T00:00:00.000000000",
          "2023-12-01T00:00:00.000000000",
          "2023-12-02T00:00:00.000000000",
          "2023-12-03T00:00:00.000000000",
          "2023-12-04T00:00:00.000000000",
          "2023-12-05T00:00:00.000000000",
          "2023-12-06T00:00:00.000000000",
          "2023-12-07T00:00:00.000000000",
          "2023-12-08T00:00:00.000000000",
          "2023-12-09T00:00:00.000000000",
          "2023-12-10T00:00:00.000000000",
          "2023-12-11T00:00:00.000000000",
          "2023-12-12T00:00:00.000000000",
          "2023-12-13T00:00:00.000000000",
          "2023-12-14T00:00:00.000000000",
          "2023-12-15T00:00:00.000000000",
          "2023-12-16T00:00:00.000000000",
          "2023-12-17T00:00:00.000000000",
          "2023-12-18T00:00:00.000000000",
          "2023-12-19T00:00:00.000000000",
          "2023-12-20T00:00:00.000000000",
          "2023-12-21T00:00:00.000000000",
          "2023-12-22T00:00:00.000000000",
          "2023-12-23T00:00:00.000000000",
          "2023-12-24T00:00:00.000000000",
          "2023-12-25T00:00:00.000000000",
          "2023-12-26T00:00:00.000000000",
          "2023-12-27T00:00:00.000000000",
          "2023-12-28T00:00:00.000000000",
          "2023-12-29T00:00:00.000000000",
          "2023-12-30T00:00:00.000000000",
          "2023-12-31T00:00:00.000000000"
         ],
         "xaxis": "x",
         "y": {
          "bdata": "EpvSRtEC0Ubj1s9Gs/nORuRezkbvC85Gsu7NRiUEz0aLaNBGsPjQRpXM0EZXSdBG7rTPRpgKz0bYW85GT7XNRhp7zUYFRs1G1xnNRrvtzEZaW8xGAQnMRqxAzEZ838xGEqTNRnVyzkbIMM9G7/jPRjv60Eaz99FG3X3SRo680kYgvtJG7WfSRjLr0UajSNFGjMfQRobT0EbrH9FGAZTRRhS70kax49NGmefURgEB1kZTxdZGxZPXRoBb2EaWBdlGRkzZRv002UbJjthGqpPXRjGZ1kYFrNVGPBDVRiKm1UYhvNZGavvXRluA2Uamn9tGGBveRmOZ4Ea16ORGWGHqRglw8EZvAPZGxpX6RsFE/kZyqwBH1doBR8rOAkcLwANHgWUER7G+BEeDBgVH6zIFR/VGBUfyjAVHxPAFR566Bkfr2gdHvwAJR2MKCkf8ugpH58sKR5BWC0fqeQtH2IELRwF1C0f6qQtHZAIMR33OC0eX6wtHiiAMR5SQDEewHg1HTo4NRyHODUe6Gw5HYWIORxmvDkeIMQ9HmBoQR7BSEUfhXBNHoWoWR0yPGUdyaBxH0xcfR0lBIUfR6CJHEh4jR6OQIkdiKCJHhdshRz03IUepnCBHNsEfR4tRH0ewFR9HM5AfR+xnIEembCFHFWgiRzP4IkdBfCNHz2EjRyFdI0exHiNHf40iRw==",
          "dtype": "f4"
         },
         "yaxis": "y"
        },
        {
         "fill": "tonexty",
         "line": {
          "color": "green"
         },
         "name": "Sentiment",
         "type": "scatter",
         "x": [
          "2023-01-01T00:00:00.000000000",
          "2023-01-02T00:00:00.000000000",
          "2023-01-03T00:00:00.000000000",
          "2023-01-04T00:00:00.000000000",
          "2023-01-05T00:00:00.000000000",
          "2023-01-06T00:00:00.000000000",
          "2023-01-07T00:00:00.000000000",
          "2023-01-08T00:00:00.000000000",
          "2023-01-09T00:00:00.000000000",
          "2023-01-10T00:00:00.000000000",
          "2023-01-11T00:00:00.000000000",
          "2023-01-12T00:00:00.000000000",
          "2023-01-13T00:00:00.000000000",
          "2023-01-14T00:00:00.000000000",
          "2023-01-15T00:00:00.000000000",
          "2023-01-16T00:00:00.000000000",
          "2023-01-17T00:00:00.000000000",
          "2023-01-18T00:00:00.000000000",
          "2023-01-19T00:00:00.000000000",
          "2023-01-20T00:00:00.000000000",
          "2023-01-21T00:00:00.000000000",
          "2023-01-22T00:00:00.000000000",
          "2023-01-23T00:00:00.000000000",
          "2023-01-24T00:00:00.000000000",
          "2023-01-25T00:00:00.000000000",
          "2023-01-26T00:00:00.000000000",
          "2023-01-27T00:00:00.000000000",
          "2023-01-28T00:00:00.000000000",
          "2023-01-29T00:00:00.000000000",
          "2023-01-30T00:00:00.000000000",
          "2023-01-31T00:00:00.000000000",
          "2023-02-01T00:00:00.000000000",
          "2023-02-02T00:00:00.000000000",
          "2023-02-03T00:00:00.000000000",
          "2023-02-04T00:00:00.000000000",
          "2023-02-05T00:00:00.000000000",
          "2023-02-06T00:00:00.000000000",
          "2023-02-07T00:00:00.000000000",
          "2023-02-08T00:00:00.000000000",
          "2023-02-09T00:00:00.000000000",
          "2023-02-10T00:00:00.000000000",
          "2023-02-11T00:00:00.000000000",
          "2023-02-12T00:00:00.000000000",
          "2023-02-13T00:00:00.000000000",
          "2023-02-14T00:00:00.000000000",
          "2023-02-15T00:00:00.000000000",
          "2023-02-16T00:00:00.000000000",
          "2023-02-17T00:00:00.000000000",
          "2023-02-18T00:00:00.000000000",
          "2023-02-19T00:00:00.000000000",
          "2023-02-20T00:00:00.000000000",
          "2023-02-21T00:00:00.000000000",
          "2023-02-22T00:00:00.000000000",
          "2023-02-23T00:00:00.000000000",
          "2023-02-24T00:00:00.000000000",
          "2023-02-25T00:00:00.000000000",
          "2023-02-26T00:00:00.000000000",
          "2023-02-27T00:00:00.000000000",
          "2023-02-28T00:00:00.000000000",
          "2023-03-01T00:00:00.000000000",
          "2023-03-02T00:00:00.000000000",
          "2023-03-03T00:00:00.000000000",
          "2023-03-04T00:00:00.000000000",
          "2023-03-05T00:00:00.000000000",
          "2023-03-06T00:00:00.000000000",
          "2023-03-07T00:00:00.000000000",
          "2023-03-08T00:00:00.000000000",
          "2023-03-09T00:00:00.000000000",
          "2023-03-10T00:00:00.000000000",
          "2023-03-11T00:00:00.000000000",
          "2023-03-12T00:00:00.000000000",
          "2023-03-13T00:00:00.000000000",
          "2023-03-14T00:00:00.000000000",
          "2023-03-15T00:00:00.000000000",
          "2023-03-16T00:00:00.000000000",
          "2023-03-17T00:00:00.000000000",
          "2023-03-18T00:00:00.000000000",
          "2023-03-19T00:00:00.000000000",
          "2023-03-20T00:00:00.000000000",
          "2023-03-21T00:00:00.000000000",
          "2023-03-22T00:00:00.000000000",
          "2023-03-23T00:00:00.000000000",
          "2023-03-24T00:00:00.000000000",
          "2023-03-25T00:00:00.000000000",
          "2023-03-26T00:00:00.000000000",
          "2023-03-27T00:00:00.000000000",
          "2023-03-28T00:00:00.000000000",
          "2023-03-29T00:00:00.000000000",
          "2023-03-30T00:00:00.000000000",
          "2023-03-31T00:00:00.000000000",
          "2023-04-01T00:00:00.000000000",
          "2023-04-02T00:00:00.000000000",
          "2023-04-03T00:00:00.000000000",
          "2023-04-04T00:00:00.000000000",
          "2023-04-05T00:00:00.000000000",
          "2023-04-06T00:00:00.000000000",
          "2023-04-07T00:00:00.000000000",
          "2023-04-08T00:00:00.000000000",
          "2023-04-09T00:00:00.000000000",
          "2023-04-10T00:00:00.000000000",
          "2023-04-11T00:00:00.000000000",
          "2023-04-12T00:00:00.000000000",
          "2023-04-13T00:00:00.000000000",
          "2023-04-14T00:00:00.000000000",
          "2023-04-15T00:00:00.000000000",
          "2023-04-16T00:00:00.000000000",
          "2023-04-17T00:00:00.000000000",
          "2023-04-18T00:00:00.000000000",
          "2023-04-19T00:00:00.000000000",
          "2023-04-20T00:00:00.000000000",
          "2023-04-21T00:00:00.000000000",
          "2023-04-22T00:00:00.000000000",
          "2023-04-23T00:00:00.000000000",
          "2023-04-24T00:00:00.000000000",
          "2023-04-25T00:00:00.000000000",
          "2023-04-26T00:00:00.000000000",
          "2023-04-27T00:00:00.000000000",
          "2023-04-28T00:00:00.000000000",
          "2023-04-29T00:00:00.000000000",
          "2023-04-30T00:00:00.000000000",
          "2023-05-01T00:00:00.000000000",
          "2023-05-02T00:00:00.000000000",
          "2023-05-03T00:00:00.000000000",
          "2023-05-04T00:00:00.000000000",
          "2023-05-05T00:00:00.000000000",
          "2023-05-06T00:00:00.000000000",
          "2023-05-07T00:00:00.000000000",
          "2023-05-08T00:00:00.000000000",
          "2023-05-09T00:00:00.000000000",
          "2023-05-10T00:00:00.000000000",
          "2023-05-11T00:00:00.000000000",
          "2023-05-12T00:00:00.000000000",
          "2023-05-13T00:00:00.000000000",
          "2023-05-14T00:00:00.000000000",
          "2023-05-15T00:00:00.000000000",
          "2023-05-16T00:00:00.000000000",
          "2023-05-17T00:00:00.000000000",
          "2023-05-18T00:00:00.000000000",
          "2023-05-19T00:00:00.000000000",
          "2023-05-20T00:00:00.000000000",
          "2023-05-21T00:00:00.000000000",
          "2023-05-22T00:00:00.000000000",
          "2023-05-23T00:00:00.000000000",
          "2023-05-24T00:00:00.000000000",
          "2023-05-25T00:00:00.000000000",
          "2023-05-26T00:00:00.000000000",
          "2023-05-27T00:00:00.000000000",
          "2023-05-28T00:00:00.000000000",
          "2023-05-29T00:00:00.000000000",
          "2023-05-30T00:00:00.000000000",
          "2023-05-31T00:00:00.000000000",
          "2023-06-01T00:00:00.000000000",
          "2023-06-02T00:00:00.000000000",
          "2023-06-03T00:00:00.000000000",
          "2023-06-04T00:00:00.000000000",
          "2023-06-05T00:00:00.000000000",
          "2023-06-06T00:00:00.000000000",
          "2023-06-07T00:00:00.000000000",
          "2023-06-08T00:00:00.000000000",
          "2023-06-09T00:00:00.000000000",
          "2023-06-10T00:00:00.000000000",
          "2023-06-11T00:00:00.000000000",
          "2023-06-12T00:00:00.000000000",
          "2023-06-13T00:00:00.000000000",
          "2023-06-14T00:00:00.000000000",
          "2023-06-15T00:00:00.000000000",
          "2023-06-16T00:00:00.000000000",
          "2023-06-17T00:00:00.000000000",
          "2023-06-18T00:00:00.000000000",
          "2023-06-19T00:00:00.000000000",
          "2023-06-20T00:00:00.000000000",
          "2023-06-21T00:00:00.000000000",
          "2023-06-22T00:00:00.000000000",
          "2023-06-23T00:00:00.000000000",
          "2023-06-24T00:00:00.000000000",
          "2023-06-25T00:00:00.000000000",
          "2023-06-26T00:00:00.000000000",
          "2023-06-27T00:00:00.000000000",
          "2023-06-28T00:00:00.000000000",
          "2023-06-29T00:00:00.000000000",
          "2023-06-30T00:00:00.000000000",
          "2023-07-01T00:00:00.000000000",
          "2023-07-02T00:00:00.000000000",
          "2023-07-03T00:00:00.000000000",
          "2023-07-04T00:00:00.000000000",
          "2023-07-05T00:00:00.000000000",
          "2023-07-06T00:00:00.000000000",
          "2023-07-07T00:00:00.000000000",
          "2023-07-08T00:00:00.000000000",
          "2023-07-09T00:00:00.000000000",
          "2023-07-10T00:00:00.000000000",
          "2023-07-11T00:00:00.000000000",
          "2023-07-12T00:00:00.000000000",
          "2023-07-13T00:00:00.000000000",
          "2023-07-14T00:00:00.000000000",
          "2023-07-15T00:00:00.000000000",
          "2023-07-16T00:00:00.000000000",
          "2023-07-17T00:00:00.000000000",
          "2023-07-18T00:00:00.000000000",
          "2023-07-19T00:00:00.000000000",
          "2023-07-20T00:00:00.000000000",
          "2023-07-21T00:00:00.000000000",
          "2023-07-22T00:00:00.000000000",
          "2023-07-23T00:00:00.000000000",
          "2023-07-24T00:00:00.000000000",
          "2023-07-25T00:00:00.000000000",
          "2023-07-26T00:00:00.000000000",
          "2023-07-27T00:00:00.000000000",
          "2023-07-28T00:00:00.000000000",
          "2023-07-29T00:00:00.000000000",
          "2023-07-30T00:00:00.000000000",
          "2023-07-31T00:00:00.000000000",
          "2023-08-01T00:00:00.000000000",
          "2023-08-02T00:00:00.000000000",
          "2023-08-03T00:00:00.000000000",
          "2023-08-04T00:00:00.000000000",
          "2023-08-05T00:00:00.000000000",
          "2023-08-06T00:00:00.000000000",
          "2023-08-07T00:00:00.000000000",
          "2023-08-08T00:00:00.000000000",
          "2023-08-09T00:00:00.000000000",
          "2023-08-10T00:00:00.000000000",
          "2023-08-11T00:00:00.000000000",
          "2023-08-12T00:00:00.000000000",
          "2023-08-13T00:00:00.000000000",
          "2023-08-14T00:00:00.000000000",
          "2023-08-15T00:00:00.000000000",
          "2023-08-16T00:00:00.000000000",
          "2023-08-17T00:00:00.000000000",
          "2023-08-18T00:00:00.000000000",
          "2023-08-19T00:00:00.000000000",
          "2023-08-20T00:00:00.000000000",
          "2023-08-21T00:00:00.000000000",
          "2023-08-22T00:00:00.000000000",
          "2023-08-23T00:00:00.000000000",
          "2023-08-24T00:00:00.000000000",
          "2023-08-25T00:00:00.000000000",
          "2023-08-26T00:00:00.000000000",
          "2023-08-27T00:00:00.000000000",
          "2023-08-28T00:00:00.000000000",
          "2023-08-29T00:00:00.000000000",
          "2023-08-30T00:00:00.000000000",
          "2023-08-31T00:00:00.000000000",
          "2023-09-01T00:00:00.000000000",
          "2023-09-02T00:00:00.000000000",
          "2023-09-03T00:00:00.000000000",
          "2023-09-04T00:00:00.000000000",
          "2023-09-05T00:00:00.000000000",
          "2023-09-06T00:00:00.000000000",
          "2023-09-07T00:00:00.000000000",
          "2023-09-08T00:00:00.000000000",
          "2023-09-09T00:00:00.000000000",
          "2023-09-10T00:00:00.000000000",
          "2023-09-11T00:00:00.000000000",
          "2023-09-12T00:00:00.000000000",
          "2023-09-13T00:00:00.000000000",
          "2023-09-14T00:00:00.000000000",
          "2023-09-15T00:00:00.000000000",
          "2023-09-16T00:00:00.000000000",
          "2023-09-17T00:00:00.000000000",
          "2023-09-18T00:00:00.000000000",
          "2023-09-19T00:00:00.000000000",
          "2023-09-20T00:00:00.000000000",
          "2023-09-21T00:00:00.000000000",
          "2023-09-22T00:00:00.000000000",
          "2023-09-23T00:00:00.000000000",
          "2023-09-24T00:00:00.000000000",
          "2023-09-25T00:00:00.000000000",
          "2023-09-26T00:00:00.000000000",
          "2023-09-27T00:00:00.000000000",
          "2023-09-28T00:00:00.000000000",
          "2023-09-29T00:00:00.000000000",
          "2023-09-30T00:00:00.000000000",
          "2023-10-01T00:00:00.000000000",
          "2023-10-02T00:00:00.000000000",
          "2023-10-03T00:00:00.000000000",
          "2023-10-04T00:00:00.000000000",
          "2023-10-05T00:00:00.000000000",
          "2023-10-06T00:00:00.000000000",
          "2023-10-07T00:00:00.000000000",
          "2023-10-08T00:00:00.000000000",
          "2023-10-09T00:00:00.000000000",
          "2023-10-10T00:00:00.000000000",
          "2023-10-11T00:00:00.000000000",
          "2023-10-12T00:00:00.000000000",
          "2023-10-13T00:00:00.000000000",
          "2023-10-14T00:00:00.000000000",
          "2023-10-15T00:00:00.000000000",
          "2023-10-16T00:00:00.000000000",
          "2023-10-17T00:00:00.000000000",
          "2023-10-18T00:00:00.000000000",
          "2023-10-19T00:00:00.000000000",
          "2023-10-20T00:00:00.000000000",
          "2023-10-21T00:00:00.000000000",
          "2023-10-22T00:00:00.000000000",
          "2023-10-23T00:00:00.000000000",
          "2023-10-24T00:00:00.000000000",
          "2023-10-25T00:00:00.000000000",
          "2023-10-26T00:00:00.000000000",
          "2023-10-27T00:00:00.000000000",
          "2023-10-28T00:00:00.000000000",
          "2023-10-29T00:00:00.000000000",
          "2023-10-30T00:00:00.000000000",
          "2023-10-31T00:00:00.000000000",
          "2023-11-01T00:00:00.000000000",
          "2023-11-02T00:00:00.000000000",
          "2023-11-03T00:00:00.000000000",
          "2023-11-04T00:00:00.000000000",
          "2023-11-05T00:00:00.000000000",
          "2023-11-06T00:00:00.000000000",
          "2023-11-07T00:00:00.000000000",
          "2023-11-08T00:00:00.000000000",
          "2023-11-09T00:00:00.000000000",
          "2023-11-10T00:00:00.000000000",
          "2023-11-11T00:00:00.000000000",
          "2023-11-12T00:00:00.000000000",
          "2023-11-13T00:00:00.000000000",
          "2023-11-14T00:00:00.000000000",
          "2023-11-15T00:00:00.000000000",
          "2023-11-16T00:00:00.000000000",
          "2023-11-17T00:00:00.000000000",
          "2023-11-18T00:00:00.000000000",
          "2023-11-19T00:00:00.000000000",
          "2023-11-20T00:00:00.000000000",
          "2023-11-21T00:00:00.000000000",
          "2023-11-22T00:00:00.000000000",
          "2023-11-23T00:00:00.000000000",
          "2023-11-24T00:00:00.000000000",
          "2023-11-25T00:00:00.000000000",
          "2023-11-26T00:00:00.000000000",
          "2023-11-27T00:00:00.000000000",
          "2023-11-28T00:00:00.000000000",
          "2023-11-29T00:00:00.000000000",
          "2023-11-30T00:00:00.000000000",
          "2023-12-01T00:00:00.000000000",
          "2023-12-02T00:00:00.000000000",
          "2023-12-03T00:00:00.000000000",
          "2023-12-04T00:00:00.000000000",
          "2023-12-05T00:00:00.000000000",
          "2023-12-06T00:00:00.000000000",
          "2023-12-07T00:00:00.000000000",
          "2023-12-08T00:00:00.000000000",
          "2023-12-09T00:00:00.000000000",
          "2023-12-10T00:00:00.000000000",
          "2023-12-11T00:00:00.000000000",
          "2023-12-12T00:00:00.000000000",
          "2023-12-13T00:00:00.000000000",
          "2023-12-14T00:00:00.000000000",
          "2023-12-15T00:00:00.000000000",
          "2023-12-16T00:00:00.000000000",
          "2023-12-17T00:00:00.000000000",
          "2023-12-18T00:00:00.000000000",
          "2023-12-19T00:00:00.000000000",
          "2023-12-20T00:00:00.000000000",
          "2023-12-21T00:00:00.000000000",
          "2023-12-22T00:00:00.000000000",
          "2023-12-23T00:00:00.000000000",
          "2023-12-24T00:00:00.000000000",
          "2023-12-25T00:00:00.000000000",
          "2023-12-26T00:00:00.000000000",
          "2023-12-27T00:00:00.000000000",
          "2023-12-28T00:00:00.000000000",
          "2023-12-29T00:00:00.000000000",
          "2023-12-30T00:00:00.000000000",
          "2023-12-31T00:00:00.000000000"
         ],
         "xaxis": "x2",
         "y": {
          "bdata": "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",
          "dtype": "f8"
         },
         "yaxis": "y3"
        },
        {
         "marker": {
          "color": "purple"
         },
         "name": "Volume",
         "opacity": 0.7,
         "type": "bar",
         "x": [
          "2023-01-01T00:00:00.000000000",
          "2023-01-02T00:00:00.000000000",
          "2023-01-03T00:00:00.000000000",
          "2023-01-04T00:00:00.000000000",
          "2023-01-05T00:00:00.000000000",
          "2023-01-06T00:00:00.000000000",
          "2023-01-07T00:00:00.000000000",
          "2023-01-08T00:00:00.000000000",
          "2023-01-09T00:00:00.000000000",
          "2023-01-10T00:00:00.000000000",
          "2023-01-11T00:00:00.000000000",
          "2023-01-12T00:00:00.000000000",
          "2023-01-13T00:00:00.000000000",
          "2023-01-14T00:00:00.000000000",
          "2023-01-15T00:00:00.000000000",
          "2023-01-16T00:00:00.000000000",
          "2023-01-17T00:00:00.000000000",
          "2023-01-18T00:00:00.000000000",
          "2023-01-19T00:00:00.000000000",
          "2023-01-20T00:00:00.000000000",
          "2023-01-21T00:00:00.000000000",
          "2023-01-22T00:00:00.000000000",
          "2023-01-23T00:00:00.000000000",
          "2023-01-24T00:00:00.000000000",
          "2023-01-25T00:00:00.000000000",
          "2023-01-26T00:00:00.000000000",
          "2023-01-27T00:00:00.000000000",
          "2023-01-28T00:00:00.000000000",
          "2023-01-29T00:00:00.000000000",
          "2023-01-30T00:00:00.000000000",
          "2023-01-31T00:00:00.000000000",
          "2023-02-01T00:00:00.000000000",
          "2023-02-02T00:00:00.000000000",
          "2023-02-03T00:00:00.000000000",
          "2023-02-04T00:00:00.000000000",
          "2023-02-05T00:00:00.000000000",
          "2023-02-06T00:00:00.000000000",
          "2023-02-07T00:00:00.000000000",
          "2023-02-08T00:00:00.000000000",
          "2023-02-09T00:00:00.000000000",
          "2023-02-10T00:00:00.000000000",
          "2023-02-11T00:00:00.000000000",
          "2023-02-12T00:00:00.000000000",
          "2023-02-13T00:00:00.000000000",
          "2023-02-14T00:00:00.000000000",
          "2023-02-15T00:00:00.000000000",
          "2023-02-16T00:00:00.000000000",
          "2023-02-17T00:00:00.000000000",
          "2023-02-18T00:00:00.000000000",
          "2023-02-19T00:00:00.000000000",
          "2023-02-20T00:00:00.000000000",
          "2023-02-21T00:00:00.000000000",
          "2023-02-22T00:00:00.000000000",
          "2023-02-23T00:00:00.000000000",
          "2023-02-24T00:00:00.000000000",
          "2023-02-25T00:00:00.000000000",
          "2023-02-26T00:00:00.000000000",
          "2023-02-27T00:00:00.000000000",
          "2023-02-28T00:00:00.000000000",
          "2023-03-01T00:00:00.000000000",
          "2023-03-02T00:00:00.000000000",
          "2023-03-03T00:00:00.000000000",
          "2023-03-04T00:00:00.000000000",
          "2023-03-05T00:00:00.000000000",
          "2023-03-06T00:00:00.000000000",
          "2023-03-07T00:00:00.000000000",
          "2023-03-08T00:00:00.000000000",
          "2023-03-09T00:00:00.000000000",
          "2023-03-10T00:00:00.000000000",
          "2023-03-11T00:00:00.000000000",
          "2023-03-12T00:00:00.000000000",
          "2023-03-13T00:00:00.000000000",
          "2023-03-14T00:00:00.000000000",
          "2023-03-15T00:00:00.000000000",
          "2023-03-16T00:00:00.000000000",
          "2023-03-17T00:00:00.000000000",
          "2023-03-18T00:00:00.000000000",
          "2023-03-19T00:00:00.000000000",
          "2023-03-20T00:00:00.000000000",
          "2023-03-21T00:00:00.000000000",
          "2023-03-22T00:00:00.000000000",
          "2023-03-23T00:00:00.000000000",
          "2023-03-24T00:00:00.000000000",
          "2023-03-25T00:00:00.000000000",
          "2023-03-26T00:00:00.000000000",
          "2023-03-27T00:00:00.000000000",
          "2023-03-28T00:00:00.000000000",
          "2023-03-29T00:00:00.000000000",
          "2023-03-30T00:00:00.000000000",
          "2023-03-31T00:00:00.000000000",
          "2023-04-01T00:00:00.000000000",
          "2023-04-02T00:00:00.000000000",
          "2023-04-03T00:00:00.000000000",
          "2023-04-04T00:00:00.000000000",
          "2023-04-05T00:00:00.000000000",
          "2023-04-06T00:00:00.000000000",
          "2023-04-07T00:00:00.000000000",
          "2023-04-08T00:00:00.000000000",
          "2023-04-09T00:00:00.000000000",
          "2023-04-10T00:00:00.000000000",
          "2023-04-11T00:00:00.000000000",
          "2023-04-12T00:00:00.000000000",
          "2023-04-13T00:00:00.000000000",
          "2023-04-14T00:00:00.000000000",
          "2023-04-15T00:00:00.000000000",
          "2023-04-16T00:00:00.000000000",
          "2023-04-17T00:00:00.000000000",
          "2023-04-18T00:00:00.000000000",
          "2023-04-19T00:00:00.000000000",
          "2023-04-20T00:00:00.000000000",
          "2023-04-21T00:00:00.000000000",
          "2023-04-22T00:00:00.000000000",
          "2023-04-23T00:00:00.000000000",
          "2023-04-24T00:00:00.000000000",
          "2023-04-25T00:00:00.000000000",
          "2023-04-26T00:00:00.000000000",
          "2023-04-27T00:00:00.000000000",
          "2023-04-28T00:00:00.000000000",
          "2023-04-29T00:00:00.000000000",
          "2023-04-30T00:00:00.000000000",
          "2023-05-01T00:00:00.000000000",
          "2023-05-02T00:00:00.000000000",
          "2023-05-03T00:00:00.000000000",
          "2023-05-04T00:00:00.000000000",
          "2023-05-05T00:00:00.000000000",
          "2023-05-06T00:00:00.000000000",
          "2023-05-07T00:00:00.000000000",
          "2023-05-08T00:00:00.000000000",
          "2023-05-09T00:00:00.000000000",
          "2023-05-10T00:00:00.000000000",
          "2023-05-11T00:00:00.000000000",
          "2023-05-12T00:00:00.000000000",
          "2023-05-13T00:00:00.000000000",
          "2023-05-14T00:00:00.000000000",
          "2023-05-15T00:00:00.000000000",
          "2023-05-16T00:00:00.000000000",
          "2023-05-17T00:00:00.000000000",
          "2023-05-18T00:00:00.000000000",
          "2023-05-19T00:00:00.000000000",
          "2023-05-20T00:00:00.000000000",
          "2023-05-21T00:00:00.000000000",
          "2023-05-22T00:00:00.000000000",
          "2023-05-23T00:00:00.000000000",
          "2023-05-24T00:00:00.000000000",
          "2023-05-25T00:00:00.000000000",
          "2023-05-26T00:00:00.000000000",
          "2023-05-27T00:00:00.000000000",
          "2023-05-28T00:00:00.000000000",
          "2023-05-29T00:00:00.000000000",
          "2023-05-30T00:00:00.000000000",
          "2023-05-31T00:00:00.000000000",
          "2023-06-01T00:00:00.000000000",
          "2023-06-02T00:00:00.000000000",
          "2023-06-03T00:00:00.000000000",
          "2023-06-04T00:00:00.000000000",
          "2023-06-05T00:00:00.000000000",
          "2023-06-06T00:00:00.000000000",
          "2023-06-07T00:00:00.000000000",
          "2023-06-08T00:00:00.000000000",
          "2023-06-09T00:00:00.000000000",
          "2023-06-10T00:00:00.000000000",
          "2023-06-11T00:00:00.000000000",
          "2023-06-12T00:00:00.000000000",
          "2023-06-13T00:00:00.000000000",
          "2023-06-14T00:00:00.000000000",
          "2023-06-15T00:00:00.000000000",
          "2023-06-16T00:00:00.000000000",
          "2023-06-17T00:00:00.000000000",
          "2023-06-18T00:00:00.000000000",
          "2023-06-19T00:00:00.000000000",
          "2023-06-20T00:00:00.000000000",
          "2023-06-21T00:00:00.000000000",
          "2023-06-22T00:00:00.000000000",
          "2023-06-23T00:00:00.000000000",
          "2023-06-24T00:00:00.000000000",
          "2023-06-25T00:00:00.000000000",
          "2023-06-26T00:00:00.000000000",
          "2023-06-27T00:00:00.000000000",
          "2023-06-28T00:00:00.000000000",
          "2023-06-29T00:00:00.000000000",
          "2023-06-30T00:00:00.000000000",
          "2023-07-01T00:00:00.000000000",
          "2023-07-02T00:00:00.000000000",
          "2023-07-03T00:00:00.000000000",
          "2023-07-04T00:00:00.000000000",
          "2023-07-05T00:00:00.000000000",
          "2023-07-06T00:00:00.000000000",
          "2023-07-07T00:00:00.000000000",
          "2023-07-08T00:00:00.000000000",
          "2023-07-09T00:00:00.000000000",
          "2023-07-10T00:00:00.000000000",
          "2023-07-11T00:00:00.000000000",
          "2023-07-12T00:00:00.000000000",
          "2023-07-13T00:00:00.000000000",
          "2023-07-14T00:00:00.000000000",
          "2023-07-15T00:00:00.000000000",
          "2023-07-16T00:00:00.000000000",
          "2023-07-17T00:00:00.000000000",
          "2023-07-18T00:00:00.000000000",
          "2023-07-19T00:00:00.000000000",
          "2023-07-20T00:00:00.000000000",
          "2023-07-21T00:00:00.000000000",
          "2023-07-22T00:00:00.000000000",
          "2023-07-23T00:00:00.000000000",
          "2023-07-24T00:00:00.000000000",
          "2023-07-25T00:00:00.000000000",
          "2023-07-26T00:00:00.000000000",
          "2023-07-27T00:00:00.000000000",
          "2023-07-28T00:00:00.000000000",
          "2023-07-29T00:00:00.000000000",
          "2023-07-30T00:00:00.000000000",
          "2023-07-31T00:00:00.000000000",
          "2023-08-01T00:00:00.000000000",
          "2023-08-02T00:00:00.000000000",
          "2023-08-03T00:00:00.000000000",
          "2023-08-04T00:00:00.000000000",
          "2023-08-05T00:00:00.000000000",
          "2023-08-06T00:00:00.000000000",
          "2023-08-07T00:00:00.000000000",
          "2023-08-08T00:00:00.000000000",
          "2023-08-09T00:00:00.000000000",
          "2023-08-10T00:00:00.000000000",
          "2023-08-11T00:00:00.000000000",
          "2023-08-12T00:00:00.000000000",
          "2023-08-13T00:00:00.000000000",
          "2023-08-14T00:00:00.000000000",
          "2023-08-15T00:00:00.000000000",
          "2023-08-16T00:00:00.000000000",
          "2023-08-17T00:00:00.000000000",
          "2023-08-18T00:00:00.000000000",
          "2023-08-19T00:00:00.000000000",
          "2023-08-20T00:00:00.000000000",
          "2023-08-21T00:00:00.000000000",
          "2023-08-22T00:00:00.000000000",
          "2023-08-23T00:00:00.000000000",
          "2023-08-24T00:00:00.000000000",
          "2023-08-25T00:00:00.000000000",
          "2023-08-26T00:00:00.000000000",
          "2023-08-27T00:00:00.000000000",
          "2023-08-28T00:00:00.000000000",
          "2023-08-29T00:00:00.000000000",
          "2023-08-30T00:00:00.000000000",
          "2023-08-31T00:00:00.000000000",
          "2023-09-01T00:00:00.000000000",
          "2023-09-02T00:00:00.000000000",
          "2023-09-03T00:00:00.000000000",
          "2023-09-04T00:00:00.000000000",
          "2023-09-05T00:00:00.000000000",
          "2023-09-06T00:00:00.000000000",
          "2023-09-07T00:00:00.000000000",
          "2023-09-08T00:00:00.000000000",
          "2023-09-09T00:00:00.000000000",
          "2023-09-10T00:00:00.000000000",
          "2023-09-11T00:00:00.000000000",
          "2023-09-12T00:00:00.000000000",
          "2023-09-13T00:00:00.000000000",
          "2023-09-14T00:00:00.000000000",
          "2023-09-15T00:00:00.000000000",
          "2023-09-16T00:00:00.000000000",
          "2023-09-17T00:00:00.000000000",
          "2023-09-18T00:00:00.000000000",
          "2023-09-19T00:00:00.000000000",
          "2023-09-20T00:00:00.000000000",
          "2023-09-21T00:00:00.000000000",
          "2023-09-22T00:00:00.000000000",
          "2023-09-23T00:00:00.000000000",
          "2023-09-24T00:00:00.000000000",
          "2023-09-25T00:00:00.000000000",
          "2023-09-26T00:00:00.000000000",
          "2023-09-27T00:00:00.000000000",
          "2023-09-28T00:00:00.000000000",
          "2023-09-29T00:00:00.000000000",
          "2023-09-30T00:00:00.000000000",
          "2023-10-01T00:00:00.000000000",
          "2023-10-02T00:00:00.000000000",
          "2023-10-03T00:00:00.000000000",
          "2023-10-04T00:00:00.000000000",
          "2023-10-05T00:00:00.000000000",
          "2023-10-06T00:00:00.000000000",
          "2023-10-07T00:00:00.000000000",
          "2023-10-08T00:00:00.000000000",
          "2023-10-09T00:00:00.000000000",
          "2023-10-10T00:00:00.000000000",
          "2023-10-11T00:00:00.000000000",
          "2023-10-12T00:00:00.000000000",
          "2023-10-13T00:00:00.000000000",
          "2023-10-14T00:00:00.000000000",
          "2023-10-15T00:00:00.000000000",
          "2023-10-16T00:00:00.000000000",
          "2023-10-17T00:00:00.000000000",
          "2023-10-18T00:00:00.000000000",
          "2023-10-19T00:00:00.000000000",
          "2023-10-20T00:00:00.000000000",
          "2023-10-21T00:00:00.000000000",
          "2023-10-22T00:00:00.000000000",
          "2023-10-23T00:00:00.000000000",
          "2023-10-24T00:00:00.000000000",
          "2023-10-25T00:00:00.000000000",
          "2023-10-26T00:00:00.000000000",
          "2023-10-27T00:00:00.000000000",
          "2023-10-28T00:00:00.000000000",
          "2023-10-29T00:00:00.000000000",
          "2023-10-30T00:00:00.000000000",
          "2023-10-31T00:00:00.000000000",
          "2023-11-01T00:00:00.000000000",
          "2023-11-02T00:00:00.000000000",
          "2023-11-03T00:00:00.000000000",
          "2023-11-04T00:00:00.000000000",
          "2023-11-05T00:00:00.000000000",
          "2023-11-06T00:00:00.000000000",
          "2023-11-07T00:00:00.000000000",
          "2023-11-08T00:00:00.000000000",
          "2023-11-09T00:00:00.000000000",
          "2023-11-10T00:00:00.000000000",
          "2023-11-11T00:00:00.000000000",
          "2023-11-12T00:00:00.000000000",
          "2023-11-13T00:00:00.000000000",
          "2023-11-14T00:00:00.000000000",
          "2023-11-15T00:00:00.000000000",
          "2023-11-16T00:00:00.000000000",
          "2023-11-17T00:00:00.000000000",
          "2023-11-18T00:00:00.000000000",
          "2023-11-19T00:00:00.000000000",
          "2023-11-20T00:00:00.000000000",
          "2023-11-21T00:00:00.000000000",
          "2023-11-22T00:00:00.000000000",
          "2023-11-23T00:00:00.000000000",
          "2023-11-24T00:00:00.000000000",
          "2023-11-25T00:00:00.000000000",
          "2023-11-26T00:00:00.000000000",
          "2023-11-27T00:00:00.000000000",
          "2023-11-28T00:00:00.000000000",
          "2023-11-29T00:00:00.000000000",
          "2023-11-30T00:00:00.000000000",
          "2023-12-01T00:00:00.000000000",
          "2023-12-02T00:00:00.000000000",
          "2023-12-03T00:00:00.000000000",
          "2023-12-04T00:00:00.000000000",
          "2023-12-05T00:00:00.000000000",
          "2023-12-06T00:00:00.000000000",
          "2023-12-07T00:00:00.000000000",
          "2023-12-08T00:00:00.000000000",
          "2023-12-09T00:00:00.000000000",
          "2023-12-10T00:00:00.000000000",
          "2023-12-11T00:00:00.000000000",
          "2023-12-12T00:00:00.000000000",
          "2023-12-13T00:00:00.000000000",
          "2023-12-14T00:00:00.000000000",
          "2023-12-15T00:00:00.000000000",
          "2023-12-16T00:00:00.000000000",
          "2023-12-17T00:00:00.000000000",
          "2023-12-18T00:00:00.000000000",
          "2023-12-19T00:00:00.000000000",
          "2023-12-20T00:00:00.000000000",
          "2023-12-21T00:00:00.000000000",
          "2023-12-22T00:00:00.000000000",
          "2023-12-23T00:00:00.000000000",
          "2023-12-24T00:00:00.000000000",
          "2023-12-25T00:00:00.000000000",
          "2023-12-26T00:00:00.000000000",
          "2023-12-27T00:00:00.000000000",
          "2023-12-28T00:00:00.000000000",
          "2023-12-29T00:00:00.000000000",
          "2023-12-30T00:00:00.000000000",
          "2023-12-31T00:00:00.000000000"
         ],
         "xaxis": "x3",
         "y": [
          9244361700,
          12097775227,
          13903079207,
          18421743322,
          13692758566,
          14413662913,
          7714767174,
          9768827914,
          18624736866,
          15808338949,
          18372283782,
          34971338710,
          29225029694,
          38967784639,
          19298407543,
          26792494050,
          24999983362,
          30005625418,
          21152848261,
          28799154319,
          32442278429,
          24746386230,
          26518700512,
          26405069715,
          30685366709,
          26357839322,
          25383335641,
          14712928379,
          27423687259,
          27205595568,
          22837828665,
          26683255504,
          32066936882,
          27083066007,
          15639298538,
          19564262605,
          23825006542,
          27187964471,
          25371367758,
          32572572185,
          27078406594,
          16356226232,
          17821046406,
          23918742607,
          26792596581,
          32483312909,
          39316664596,
          41358451255,
          19625427158,
          25555105670,
          28987376573,
          31252098714,
          30199996781,
          30476264066,
          26811744928,
          16100721565,
          16644534842,
          22660763494,
          20535363434,
          24662841200,
          20386398516,
          26062404610,
          11166012913,
          13317001733,
          17353192895,
          22765452204,
          22536575684,
          30364664171,
          39578257695,
          30180288176,
          29279035521,
          49466362688,
          54622230164,
          43655701450,
          33866061747,
          50730261335,
          35723036817,
          37769448859,
          44774027664,
          36102192830,
          33382021890,
          24220433689,
          25980310960,
          13383005987,
          13878363192,
          18188895178,
          17783600385,
          20684945906,
          22435349951,
          19001327598,
          10876469901,
          12284641999,
          19556501327,
          15284538859,
          17052315986,
          13837809380,
          10861680497,
          9373255556,
          12175322951,
          19282400094,
          20121259843,
          18651929926,
          17487721001,
          22659995079,
          11940685378,
          12854816417,
          17872186762,
          19480529496,
          24571565421,
          21340360360,
          20759504330,
          13125734602,
          12785446832,
          17703288330,
          17733373139,
          31854242019,
          27153445027,
          17544464887,
          10662634333,
          14652199272,
          18655599976,
          16432924527,
          19122972518,
          15548678514,
          17936566518,
          15913866714,
          11301355486,
          19122903752,
          14128593256,
          20656025026,
          16724343943,
          19313599897,
          9999171605,
          10014858959,
          14413231792,
          12732238816,
          15140006925,
          15222938600,
          11258983301,
          7044911360,
          8647416921,
          11056770492,
          13697203143,
          16299104428,
          13851122697,
          12711619225,
          7892015141,
          14545229578,
          15181308984,
          13251081851,
          15656371534,
          14678970415,
          14837415000,
          8385597470,
          9360912318,
          21513292646,
          21929670693,
          19530045082,
          11904824295,
          11015551640,
          19872933189,
          10732609603,
          11677889997,
          14143474486,
          14265717766,
          15837384409,
          16324646965,
          11090276850,
          9565695129,
          12826986222,
          22211859147,
          33346760979,
          20653160491,
          24115570085,
          12147822496,
          12703464114,
          16493186997,
          16428827944,
          14571500779,
          13180860821,
          26387306197,
          9086606733,
          10533418042,
          15271884873,
          12810828427,
          12481622280,
          21129219509,
          13384770155,
          7509378699,
          7903327692,
          14828209155,
          12151839152,
          14805659717,
          23686079548,
          20917902660,
          8011667756,
          8516564470,
          13240156074,
          13138897269,
          12128602812,
          14655207121,
          10972789818,
          7873300598,
          9220145050,
          15395817395,
          10266772793,
          13497554655,
          10770779217,
          11218474952,
          6481775959,
          8678454527,
          11656781982,
          18272392391,
          19212655598,
          12780357746,
          12036639988,
          6598366353,
          7269806994,
          13618163710,
          17570561357,
          18379521213,
          11865344789,
          10195168197,
          6194358008,
          7329897180,
          14013695304,
          12640195779,
          14949271904,
          31120851211,
          24026236529,
          10631443812,
          9036580420,
          13371557893,
          14503820706,
          16985265785,
          12871532023,
          12406045118,
          6034817316,
          6913768611,
          11002805166,
          29368391712,
          16343655235,
          20181001451,
          17202862221,
          10100387473,
          8962524523,
          10680635106,
          11094740040,
          12752705327,
          11088307100,
          10817356400,
          5481314132,
          7899553047,
          14600006467,
          18657279324,
          13072077070,
          13811359124,
          11479735788,
          7402031417,
          6774210670,
          15615339655,
          13807690550,
          13281116604,
          13371443708,
          10578746709,
          7404700301,
          8192867686,
          11997833257,
          9985498161,
          11718380997,
          14079002707,
          10396435377,
          5331172801,
          9503917434,
          19793041322,
          11407814187,
          11143355314,
          11877253670,
          13492391599,
          6553044316,
          7916875290,
          12007668568,
          9973350678,
          13648094333,
          9392909295,
          15165312851,
          5388116782,
          7098201980,
          27833876539,
          14872527508,
          12724128586,
          14448058195,
          21536125230,
          11541146996,
          10446520040,
          38363572311,
          44934999645,
          25254318008,
          19427195376,
          16418032871,
          10160330825,
          11160323986,
          17184860315,
          15758270810,
          22446272005,
          20998158544,
          17158456701,
          9561294264,
          12412743996,
          12693436420,
          18834737789,
          17295394918,
          37762672382,
          22711265155,
          13924272142,
          11545715999,
          19057712790,
          23857403554,
          27365821679,
          26007385366,
          22445028430,
          11886022717,
          12915986553,
          20888209068,
          25172163756,
          24397247860,
          14214948217,
          22922957823,
          9099571165,
          13744796068,
          19002925720,
          21696137014,
          20728546658,
          18115982627,
          23512784002,
          15534035612,
          15769696322,
          39856129827,
          36312154535,
          29909761586,
          27635760671,
          24421116687,
          17368210171,
          13000481418,
          40632672038,
          24779520132,
          26797884674,
          25578530178,
          19639442462,
          14386729590,
          16678702876,
          25224642008,
          23171001281,
          27868908174,
          22452766169,
          21028503216,
          13507796558,
          18830554085,
          21115795370,
          30026850982,
          25260941032,
          22992093014,
          26000021055,
          16013925945,
          16397498810
         ],
         "yaxis": "y4"
        },
        {
         "line": {
          "color": "orange"
         },
         "name": "Training Loss",
         "type": "scatter",
         "xaxis": "x5",
         "y": [
          0.06260904669761658,
          0.014305549673736095,
          0.007895322516560555,
          0.005741805303841829,
          0.005199557635933161,
          0.004587073344737291,
          0.004942012019455433,
          0.00398931372910738,
          0.003713200567290187,
          0.0036357787903398275,
          0.003280904144048691,
          0.0033942449372261763,
          0.0034910349640995264,
          0.003396036569029093,
          0.0035585842560976744,
          0.003276435425505042,
          0.0028702355921268463,
          0.003021084936335683,
          0.0031364380847662687,
          0.0031487750820815563,
          0.0033253608271479607,
          0.0034064501523971558,
          0.0026902901008725166,
          0.0029648516792804003,
          0.002851738827303052,
          0.0028383182361721992,
          0.0029704414773732424,
          0.0030031874775886536,
          0.0028967091348022223,
          0.002807091223075986,
          0.0024490279611200094,
          0.0028023086488246918,
          0.002713450463488698,
          0.0026265389751642942,
          0.0025566122494637966,
          0.002542080357670784,
          0.0025995688047260046,
          0.0027080378495156765,
          0.002309817587956786,
          0.002374500734731555,
          0.002476300811395049,
          0.0025998724158853292,
          0.002594133373349905,
          0.0022799617145210505,
          0.0021024777088314295,
          0.002291075885295868,
          0.002259964356198907,
          0.002322391141206026,
          0.0024211492855101824,
          0.002227779245004058
         ],
         "yaxis": "y6"
        },
        {
         "line": {
          "color": "red"
         },
         "name": "Validation Loss",
         "type": "scatter",
         "xaxis": "x5",
         "y": [
          0.007086859084665775,
          0.023934606462717056,
          0.04762424901127815,
          0.015438936650753021,
          0.019077831879258156,
          0.02941182442009449,
          0.017343223094940186,
          0.016487451270222664,
          0.01887982152402401,
          0.011402236297726631,
          0.014853167347609997,
          0.013073166832327843,
          0.010864326730370522,
          0.010485712438821793,
          0.010223178192973137,
          0.008282746188342571,
          0.008609186857938766,
          0.007940948940813541,
          0.006596662569791079,
          0.011198260821402073,
          0.009403710253536701,
          0.007177434395998716,
          0.007872612215578556,
          0.006826351396739483,
          0.009097338654100895,
          0.00725804315879941,
          0.006952663883566856,
          0.005452509969472885,
          0.008641581051051617,
          0.004601012449711561,
          0.006925520487129688,
          0.004919824656099081,
          0.005900675430893898,
          0.005845910403877497,
          0.005285205785185099,
          0.0089719882234931,
          0.003159410785883665,
          0.010003405623137951,
          0.00619755731895566,
          0.006363538559526205,
          0.0032598695252090693,
          0.0082152234390378,
          0.003638164373114705,
          0.006598959676921368,
          0.004548076540231705,
          0.004040062893182039,
          0.005724211689084768,
          0.004114297218620777,
          0.0055163828656077385,
          0.004123750142753124
         ],
         "yaxis": "y6"
        },
        {
         "marker": {
          "color": "cyan"
         },
         "name": "Returns Distribution",
         "opacity": 0.7,
         "type": "histogram",
         "x": {
          "bdata": "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",
          "dtype": "f8"
         },
         "xaxis": "x6",
         "yaxis": "y7"
        }
       ],
       "layout": {
        "annotations": [
         {
          "font": {
           "size": 16
          },
          "showarrow": false,
          "text": "Price Prediction vs Actual",
          "x": 0.185,
          "xanchor": "center",
          "xref": "paper",
          "y": 1,
          "yanchor": "bottom",
          "yref": "paper"
         },
         {
          "font": {
           "size": 16
          },
          "showarrow": false,
          "text": "Sentiment Analysis",
          "x": 0.7550000000000001,
          "xanchor": "center",
          "xref": "paper",
          "y": 1,
          "yanchor": "bottom",
          "yref": "paper"
         },
         {
          "font": {
           "size": 16
          },
          "showarrow": false,
          "text": "Volume Analysis",
          "x": 0.185,
          "xanchor": "center",
          "xref": "paper",
          "y": 0.6399999999999999,
          "yanchor": "bottom",
          "yref": "paper"
         },
         {
          "font": {
           "size": 16
          },
          "showarrow": false,
          "text": "Risk Metrics",
          "x": 0.7550000000000001,
          "xanchor": "center",
          "xref": "paper",
          "y": 0.6399999999999999,
          "yanchor": "bottom",
          "yref": "paper"
         },
         {
          "font": {
           "size": 16
          },
          "showarrow": false,
          "text": "Model Performance",
          "x": 0.185,
          "xanchor": "center",
          "xref": "paper",
          "y": 0.27999999999999997,
          "yanchor": "bottom",
          "yref": "paper"
         },
         {
          "font": {
           "size": 16
          },
          "showarrow": false,
          "text": "Returns Distribution",
          "x": 0.7550000000000001,
          "xanchor": "center",
          "xref": "paper",
          "y": 0.27999999999999997,
          "yanchor": "bottom",
          "yref": "paper"
         },
         {
          "align": "left",
          "font": {
           "size": 12
          },
          "showarrow": false,
          "text": "VaR (95%): -0.0306<br>\nExpected Shortfall: -0.0441<br>\nVolatility: 0.4383<br>\nSharpe Ratio: 2.3074<br>\nMax Drawdown: -0.2006",
          "x": 0.5,
          "xref": "x4",
          "y": 0.5,
          "yref": "y4"
         }
        ],
        "height": 1000,
        "showlegend": true,
        "template": {
         "data": {
          "bar": [
           {
            "error_x": {
             "color": "#f2f5fa"
            },
            "error_y": {
             "color": "#f2f5fa"
            },
            "marker": {
             "line": {
              "color": "rgb(17,17,17)",
              "width": 0.5
             },
             "pattern": {
              "fillmode": "overlay",
              "size": 10,
              "solidity": 0.2
             }
            },
            "type": "bar"
           }
          ],
          "barpolar": [
           {
            "marker": {
             "line": {
              "color": "rgb(17,17,17)",
              "width": 0.5
             },
             "pattern": {
              "fillmode": "overlay",
              "size": 10,
              "solidity": 0.2
             }
            },
            "type": "barpolar"
           }
          ],
          "carpet": [
           {
            "aaxis": {
             "endlinecolor": "#A2B1C6",
             "gridcolor": "#506784",
             "linecolor": "#506784",
             "minorgridcolor": "#506784",
             "startlinecolor": "#A2B1C6"
            },
            "baxis": {
             "endlinecolor": "#A2B1C6",
             "gridcolor": "#506784",
             "linecolor": "#506784",
             "minorgridcolor": "#506784",
             "startlinecolor": "#A2B1C6"
            },
            "type": "carpet"
           }
          ],
          "choropleth": [
           {
            "colorbar": {
             "outlinewidth": 0,
             "ticks": ""
            },
            "type": "choropleth"
           }
          ],
          "contour": [
           {
            "colorbar": {
             "outlinewidth": 0,
             "ticks": ""
            },
            "colorscale": [
             [
              0,
              "#0d0887"
             ],
             [
              0.1111111111111111,
              "#46039f"
             ],
             [
              0.2222222222222222,
              "#7201a8"
             ],
             [
              0.3333333333333333,
              "#9c179e"
             ],
             [
              0.4444444444444444,
              "#bd3786"
             ],
             [
              0.5555555555555556,
              "#d8576b"
             ],
             [
              0.6666666666666666,
              "#ed7953"
             ],
             [
              0.7777777777777778,
              "#fb9f3a"
             ],
             [
              0.8888888888888888,
              "#fdca26"
             ],
             [
              1,
              "#f0f921"
             ]
            ],
            "type": "contour"
           }
          ],
          "contourcarpet": [
           {
            "colorbar": {
             "outlinewidth": 0,
             "ticks": ""
            },
            "type": "contourcarpet"
           }
          ],
          "heatmap": [
           {
            "colorbar": {
             "outlinewidth": 0,
             "ticks": ""
            },
            "colorscale": [
             [
              0,
              "#0d0887"
             ],
             [
              0.1111111111111111,
              "#46039f"
             ],
             [
              0.2222222222222222,
              "#7201a8"
             ],
             [
              0.3333333333333333,
              "#9c179e"
             ],
             [
              0.4444444444444444,
              "#bd3786"
             ],
             [
              0.5555555555555556,
              "#d8576b"
             ],
             [
              0.6666666666666666,
              "#ed7953"
             ],
             [
              0.7777777777777778,
              "#fb9f3a"
             ],
             [
              0.8888888888888888,
              "#fdca26"
             ],
             [
              1,
              "#f0f921"
             ]
            ],
            "type": "heatmap"
           }
          ],
          "histogram": [
           {
            "marker": {
             "pattern": {
              "fillmode": "overlay",
              "size": 10,
              "solidity": 0.2
             }
            },
            "type": "histogram"
           }
          ],
          "histogram2d": [
           {
            "colorbar": {
             "outlinewidth": 0,
             "ticks": ""
            },
            "colorscale": [
             [
              0,
              "#0d0887"
             ],
             [
              0.1111111111111111,
              "#46039f"
             ],
             [
              0.2222222222222222,
              "#7201a8"
             ],
             [
              0.3333333333333333,
              "#9c179e"
             ],
             [
              0.4444444444444444,
              "#bd3786"
             ],
             [
              0.5555555555555556,
              "#d8576b"
             ],
             [
              0.6666666666666666,
              "#ed7953"
             ],
             [
              0.7777777777777778,
              "#fb9f3a"
             ],
             [
              0.8888888888888888,
              "#fdca26"
             ],
             [
              1,
              "#f0f921"
             ]
            ],
            "type": "histogram2d"
           }
          ],
          "histogram2dcontour": [
           {
            "colorbar": {
             "outlinewidth": 0,
             "ticks": ""
            },
            "colorscale": [
             [
              0,
              "#0d0887"
             ],
             [
              0.1111111111111111,
              "#46039f"
             ],
             [
              0.2222222222222222,
              "#7201a8"
             ],
             [
              0.3333333333333333,
              "#9c179e"
             ],
             [
              0.4444444444444444,
              "#bd3786"
             ],
             [
              0.5555555555555556,
              "#d8576b"
             ],
             [
              0.6666666666666666,
              "#ed7953"
             ],
             [
              0.7777777777777778,
              "#fb9f3a"
             ],
             [
              0.8888888888888888,
              "#fdca26"
             ],
             [
              1,
              "#f0f921"
             ]
            ],
            "type": "histogram2dcontour"
           }
          ],
          "mesh3d": [
           {
            "colorbar": {
             "outlinewidth": 0,
             "ticks": ""
            },
            "type": "mesh3d"
           }
          ],
          "parcoords": [
           {
            "line": {
             "colorbar": {
              "outlinewidth": 0,
              "ticks": ""
             }
            },
            "type": "parcoords"
           }
          ],
          "pie": [
           {
            "automargin": true,
            "type": "pie"
           }
          ],
          "scatter": [
           {
            "marker": {
             "line": {
              "color": "#283442"
             }
            },
            "type": "scatter"
           }
          ],
          "scatter3d": [
           {
            "line": {
             "colorbar": {
              "outlinewidth": 0,
              "ticks": ""
             }
            },
            "marker": {
             "colorbar": {
              "outlinewidth": 0,
              "ticks": ""
             }
            },
            "type": "scatter3d"
           }
          ],
          "scattercarpet": [
           {
            "marker": {
             "colorbar": {
              "outlinewidth": 0,
              "ticks": ""
             }
            },
            "type": "scattercarpet"
           }
          ],
          "scattergeo": [
           {
            "marker": {
             "colorbar": {
              "outlinewidth": 0,
              "ticks": ""
             }
            },
            "type": "scattergeo"
           }
          ],
          "scattergl": [
           {
            "marker": {
             "line": {
              "color": "#283442"
             }
            },
            "type": "scattergl"
           }
          ],
          "scattermap": [
           {
            "marker": {
             "colorbar": {
              "outlinewidth": 0,
              "ticks": ""
             }
            },
            "type": "scattermap"
           }
          ],
          "scattermapbox": [
           {
            "marker": {
             "colorbar": {
              "outlinewidth": 0,
              "ticks": ""
             }
            },
            "type": "scattermapbox"
           }
          ],
          "scatterpolar": [
           {
            "marker": {
             "colorbar": {
              "outlinewidth": 0,
              "ticks": ""
             }
            },
            "type": "scatterpolar"
           }
          ],
          "scatterpolargl": [
           {
            "marker": {
             "colorbar": {
              "outlinewidth": 0,
              "ticks": ""
             }
            },
            "type": "scatterpolargl"
           }
          ],
          "scatterternary": [
           {
            "marker": {
             "colorbar": {
              "outlinewidth": 0,
              "ticks": ""
             }
            },
            "type": "scatterternary"
           }
          ],
          "surface": [
           {
            "colorbar": {
             "outlinewidth": 0,
             "ticks": ""
            },
            "colorscale": [
             [
              0,
              "#0d0887"
             ],
             [
              0.1111111111111111,
              "#46039f"
             ],
             [
              0.2222222222222222,
              "#7201a8"
             ],
             [
              0.3333333333333333,
              "#9c179e"
             ],
             [
              0.4444444444444444,
              "#bd3786"
             ],
             [
              0.5555555555555556,
              "#d8576b"
             ],
             [
              0.6666666666666666,
              "#ed7953"
             ],
             [
              0.7777777777777778,
              "#fb9f3a"
             ],
             [
              0.8888888888888888,
              "#fdca26"
             ],
             [
              1,
              "#f0f921"
             ]
            ],
            "type": "surface"
           }
          ],
          "table": [
           {
            "cells": {
             "fill": {
              "color": "#506784"
             },
             "line": {
              "color": "rgb(17,17,17)"
             }
            },
            "header": {
             "fill": {
              "color": "#2a3f5f"
             },
             "line": {
              "color": "rgb(17,17,17)"
             }
            },
            "type": "table"
           }
          ]
         },
         "layout": {
          "annotationdefaults": {
           "arrowcolor": "#f2f5fa",
           "arrowhead": 0,
           "arrowwidth": 1
          },
          "autotypenumbers": "strict",
          "coloraxis": {
           "colorbar": {
            "outlinewidth": 0,
            "ticks": ""
           }
          },
          "colorscale": {
           "diverging": [
            [
             0,
             "#8e0152"
            ],
            [
             0.1,
             "#c51b7d"
            ],
            [
             0.2,
             "#de77ae"
            ],
            [
             0.3,
             "#f1b6da"
            ],
            [
             0.4,
             "#fde0ef"
            ],
            [
             0.5,
             "#f7f7f7"
            ],
            [
             0.6,
             "#e6f5d0"
            ],
            [
             0.7,
             "#b8e186"
            ],
            [
             0.8,
             "#7fbc41"
            ],
            [
             0.9,
             "#4d9221"
            ],
            [
             1,
             "#276419"
            ]
           ],
           "sequential": [
            [
             0,
             "#0d0887"
            ],
            [
             0.1111111111111111,
             "#46039f"
            ],
            [
             0.2222222222222222,
             "#7201a8"
            ],
            [
             0.3333333333333333,
             "#9c179e"
            ],
            [
             0.4444444444444444,
             "#bd3786"
            ],
            [
             0.5555555555555556,
             "#d8576b"
            ],
            [
             0.6666666666666666,
             "#ed7953"
            ],
            [
             0.7777777777777778,
             "#fb9f3a"
            ],
            [
             0.8888888888888888,
             "#fdca26"
            ],
            [
             1,
             "#f0f921"
            ]
           ],
           "sequentialminus": [
            [
             0,
             "#0d0887"
            ],
            [
             0.1111111111111111,
             "#46039f"
            ],
            [
             0.2222222222222222,
             "#7201a8"
            ],
            [
             0.3333333333333333,
             "#9c179e"
            ],
            [
             0.4444444444444444,
             "#bd3786"
            ],
            [
             0.5555555555555556,
             "#d8576b"
            ],
            [
             0.6666666666666666,
             "#ed7953"
            ],
            [
             0.7777777777777778,
             "#fb9f3a"
            ],
            [
             0.8888888888888888,
             "#fdca26"
            ],
            [
             1,
             "#f0f921"
            ]
           ]
          },
          "colorway": [
           "#636efa",
           "#EF553B",
           "#00cc96",
           "#ab63fa",
           "#FFA15A",
           "#19d3f3",
           "#FF6692",
           "#B6E880",
           "#FF97FF",
           "#FECB52"
          ],
          "font": {
           "color": "#f2f5fa"
          },
          "geo": {
           "bgcolor": "rgb(17,17,17)",
           "lakecolor": "rgb(17,17,17)",
           "landcolor": "rgb(17,17,17)",
           "showlakes": true,
           "showland": true,
           "subunitcolor": "#506784"
          },
          "hoverlabel": {
           "align": "left"
          },
          "hovermode": "closest",
          "mapbox": {
           "style": "dark"
          },
          "paper_bgcolor": "rgb(17,17,17)",
          "plot_bgcolor": "rgb(17,17,17)",
          "polar": {
           "angularaxis": {
            "gridcolor": "#506784",
            "linecolor": "#506784",
            "ticks": ""
           },
           "bgcolor": "rgb(17,17,17)",
           "radialaxis": {
            "gridcolor": "#506784",
            "linecolor": "#506784",
            "ticks": ""
           }
          },
          "scene": {
           "xaxis": {
            "backgroundcolor": "rgb(17,17,17)",
            "gridcolor": "#506784",
            "gridwidth": 2,
            "linecolor": "#506784",
            "showbackground": true,
            "ticks": "",
            "zerolinecolor": "#C8D4E3"
           },
           "yaxis": {
            "backgroundcolor": "rgb(17,17,17)",
            "gridcolor": "#506784",
            "gridwidth": 2,
            "linecolor": "#506784",
            "showbackground": true,
            "ticks": "",
            "zerolinecolor": "#C8D4E3"
           },
           "zaxis": {
            "backgroundcolor": "rgb(17,17,17)",
            "gridcolor": "#506784",
            "gridwidth": 2,
            "linecolor": "#506784",
            "showbackground": true,
            "ticks": "",
            "zerolinecolor": "#C8D4E3"
           }
          },
          "shapedefaults": {
           "line": {
            "color": "#f2f5fa"
           }
          },
          "sliderdefaults": {
           "bgcolor": "#C8D4E3",
           "bordercolor": "rgb(17,17,17)",
           "borderwidth": 1,
           "tickwidth": 0
          },
          "ternary": {
           "aaxis": {
            "gridcolor": "#506784",
            "linecolor": "#506784",
            "ticks": ""
           },
           "baxis": {
            "gridcolor": "#506784",
            "linecolor": "#506784",
            "ticks": ""
           },
           "bgcolor": "rgb(17,17,17)",
           "caxis": {
            "gridcolor": "#506784",
            "linecolor": "#506784",
            "ticks": ""
           }
          },
          "title": {
           "x": 0.05
          },
          "updatemenudefaults": {
           "bgcolor": "#506784",
           "borderwidth": 0
          },
          "xaxis": {
           "automargin": true,
           "gridcolor": "#283442",
           "linecolor": "#506784",
           "ticks": "",
           "title": {
            "standoff": 15
           },
           "zerolinecolor": "#283442",
           "zerolinewidth": 2
          },
          "yaxis": {
           "automargin": true,
           "gridcolor": "#283442",
           "linecolor": "#506784",
           "ticks": "",
           "title": {
            "standoff": 15
           },
           "zerolinecolor": "#283442",
           "zerolinewidth": 2
          }
         }
        },
        "title": {
         "text": "Bitcoin Trading Dashboard"
        },
        "xaxis": {
         "anchor": "y",
         "domain": [
          0,
          0.37
         ]
        },
        "xaxis2": {
         "anchor": "y3",
         "domain": [
          0.5700000000000001,
          0.9400000000000001
         ]
        },
        "xaxis3": {
         "anchor": "y4",
         "domain": [
          0,
          0.37
         ]
        },
        "xaxis4": {
         "anchor": "y5",
         "domain": [
          0.5700000000000001,
          0.9400000000000001
         ]
        },
        "xaxis5": {
         "anchor": "y6",
         "domain": [
          0,
          0.37
         ]
        },
        "xaxis6": {
         "anchor": "y7",
         "domain": [
          0.5700000000000001,
          0.9400000000000001
         ]
        },
        "yaxis": {
         "anchor": "x",
         "domain": [
          0.72,
          1
         ]
        },
        "yaxis2": {
         "anchor": "x",
         "overlaying": "y",
         "side": "right"
        },
        "yaxis3": {
         "anchor": "x2",
         "domain": [
          0.72,
          1
         ]
        },
        "yaxis4": {
         "anchor": "x3",
         "domain": [
          0.36,
          0.6399999999999999
         ]
        },
        "yaxis5": {
         "anchor": "x4",
         "domain": [
          0.36,
          0.6399999999999999
         ]
        },
        "yaxis6": {
         "anchor": "x5",
         "domain": [
          0,
          0.27999999999999997
         ]
        },
        "yaxis7": {
         "anchor": "x6",
         "domain": [
          0,
          0.27999999999999997
         ]
        }
       }
      }
     },
     "metadata": {},
     "output_type": "display_data"
    }
   ],
   "source": [
    "# Create comprehensive dashboard\n",
    "fig_dashboard = make_subplots(\n",
    "    rows=3, cols=2,\n",
    "    subplot_titles=(\n",
    "        'Price Prediction vs Actual', 'Sentiment Analysis',\n",
    "        'Volume Analysis', 'Risk Metrics',\n",
    "        'Model Performance', 'Returns Distribution'\n",
    "    ),\n",
    "    specs=[\n",
    "        [{\"secondary_y\": True}, {\"secondary_y\": False}],\n",
    "        [{\"secondary_y\": False}, {\"secondary_y\": False}],\n",
    "        [{\"secondary_y\": False}, {\"secondary_y\": False}]\n",
    "    ],\n",
    "    vertical_spacing=0.08\n",
    ")\n",
    "\n",
    "# 1. Price Prediction vs Actual\n",
    "test_dates = maindf['Date'].iloc[training_size + time_step + 1:training_size + time_step + 1 + len(test_predict)]\n",
    "fig_dashboard.add_trace(\n",
    "    go.Scatter(x=test_dates, y=y_test_orig.flatten(), name='Actual', line=dict(color='blue')),\n",
    "    row=1, col=1\n",
    ")\n",
    "fig_dashboard.add_trace(\n",
    "    go.Scatter(x=test_dates, y=test_predict.flatten(), name='Predicted', line=dict(color='red')),\n",
    "    row=1, col=1\n",
    ")\n",
    "\n",
    "# 2. Sentiment Analysis\n",
    "fig_dashboard.add_trace(\n",
    "    go.Scatter(x=maindf['Date'], y=maindf['Sentiment'], name='Sentiment', \n",
    "              line=dict(color='green'), fill='tonexty'),\n",
    "    row=1, col=2\n",
    ")\n",
    "\n",
    "# 3. Volume Analysis\n",
    "fig_dashboard.add_trace(\n",
    "    go.Bar(x=maindf['Date'], y=maindf['Volume'], name='Volume', \n",
    "           marker_color='purple', opacity=0.7),\n",
    "    row=2, col=1\n",
    ")\n",
    "\n",
    "# 4. Risk Metrics (as text)\n",
    "risk_text = f\"\"\"VaR (95%): {risk_metrics['VaR_95']:.4f}<br>\n",
    "Expected Shortfall: {risk_metrics['Expected_Shortfall']:.4f}<br>\n",
    "Volatility: {risk_metrics['Volatility']:.4f}<br>\n",
    "Sharpe Ratio: {risk_metrics['Sharpe_Ratio']:.4f}<br>\n",
    "Max Drawdown: {risk_metrics['Max_Drawdown']:.4f}\"\"\"\n",
    "\n",
    "fig_dashboard.add_annotation(\n",
    "    text=risk_text,\n",
    "    xref=\"x4\", yref=\"y4\",\n",
    "    x=0.5, y=0.5,\n",
    "    showarrow=False,\n",
    "    font=dict(size=12),\n",
    "    align=\"left\"\n",
    ")\n",
    "\n",
    "# 5. Model Performance (Training Loss)\n",
    "fig_dashboard.add_trace(\n",
    "    go.Scatter(y=history.history['loss'], name='Training Loss', line=dict(color='orange')),\n",
    "    row=3, col=1\n",
    ")\n",
    "fig_dashboard.add_trace(\n",
    "    go.Scatter(y=history.history['val_loss'], name='Validation Loss', line=dict(color='red')),\n",
    "    row=3, col=1\n",
    ")\n",
    "\n",
    "# 6. Returns Distribution\n",
    "fig_dashboard.add_trace(\n",
    "    go.Histogram(x=risk_metrics['Returns'], name='Returns Distribution', \n",
    "                marker_color='cyan', opacity=0.7),\n",
    "    row=3, col=2\n",
    ")\n",
    "\n",
    "# Update layout\n",
    "fig_dashboard.update_layout(\n",
    "    title_text=\"Bitcoin Trading Dashboard\",\n",
    "    template='plotly_dark',\n",
    "    height=1000,\n",
    "    showlegend=True\n",
    ")\n",
    "\n",
    "fig_dashboard.show()"
   ]
  },
  {
   "cell_type": "markdown",
   "metadata": {},
   "source": [
    "## 9. 3D Visualization"
   ]
  },
  {
   "cell_type": "code",
   "execution_count": 10,
   "metadata": {},
   "outputs": [
    {
     "data": {
      "application/vnd.plotly.v1+json": {
       "config": {
        "plotlyServerURL": "https://plot.ly"
       },
       "data": [
        {
         "hovertemplate": "<b>Date:</b> %{text}<br><b>Price:</b> $%{x:,.2f}<br><b>Volume:</b> %{y:,.0f}<br><b>Sentiment:</b> %{z:.3f}<extra></extra>",
         "line": {
          "color": "white",
          "width": 2
         },
         "marker": {
          "color": {
           "bdata": "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",
           "dtype": "f8"
          },
          "colorbar": {
           "title": {
            "text": "Price"
           }
          },
          "colorscale": [
           [
            0,
            "#440154"
           ],
           [
            0.1111111111111111,
            "#482878"
           ],
           [
            0.2222222222222222,
            "#3e4989"
           ],
           [
            0.3333333333333333,
            "#31688e"
           ],
           [
            0.4444444444444444,
            "#26828e"
           ],
           [
            0.5555555555555556,
            "#1f9e89"
           ],
           [
            0.6666666666666666,
            "#35b779"
           ],
           [
            0.7777777777777778,
            "#6ece58"
           ],
           [
            0.8888888888888888,
            "#b5de2b"
           ],
           [
            1,
            "#fde725"
           ]
          ],
          "showscale": true,
          "size": 5
         },
         "mode": "markers+lines",
         "text": [
          "2023-01-01",
          "2023-01-02",
          "2023-01-03",
          "2023-01-04",
          "2023-01-05",
          "2023-01-06",
          "2023-01-07",
          "2023-01-08",
          "2023-01-09",
          "2023-01-10",
          "2023-01-11",
          "2023-01-12",
          "2023-01-13",
          "2023-01-14",
          "2023-01-15",
          "2023-01-16",
          "2023-01-17",
          "2023-01-18",
          "2023-01-19",
          "2023-01-20",
          "2023-01-21",
          "2023-01-22",
          "2023-01-23",
          "2023-01-24",
          "2023-01-25",
          "2023-01-26",
          "2023-01-27",
          "2023-01-28",
          "2023-01-29",
          "2023-01-30",
          "2023-01-31",
          "2023-02-01",
          "2023-02-02",
          "2023-02-03",
          "2023-02-04",
          "2023-02-05",
          "2023-02-06",
          "2023-02-07",
          "2023-02-08",
          "2023-02-09",
          "2023-02-10",
          "2023-02-11",
          "2023-02-12",
          "2023-02-13",
          "2023-02-14",
          "2023-02-15",
          "2023-02-16",
          "2023-02-17",
          "2023-02-18",
          "2023-02-19",
          "2023-02-20",
          "2023-02-21",
          "2023-02-22",
          "2023-02-23",
          "2023-02-24",
          "2023-02-25",
          "2023-02-26",
          "2023-02-27",
          "2023-02-28",
          "2023-03-01",
          "2023-03-02",
          "2023-03-03",
          "2023-03-04",
          "2023-03-05",
          "2023-03-06",
          "2023-03-07",
          "2023-03-08",
          "2023-03-09",
          "2023-03-10",
          "2023-03-11",
          "2023-03-12",
          "2023-03-13",
          "2023-03-14",
          "2023-03-15",
          "2023-03-16",
          "2023-03-17",
          "2023-03-18",
          "2023-03-19",
          "2023-03-20",
          "2023-03-21",
          "2023-03-22",
          "2023-03-23",
          "2023-03-24",
          "2023-03-25",
          "2023-03-26",
          "2023-03-27",
          "2023-03-28",
          "2023-03-29",
          "2023-03-30",
          "2023-03-31",
          "2023-04-01",
          "2023-04-02",
          "2023-04-03",
          "2023-04-04",
          "2023-04-05",
          "2023-04-06",
          "2023-04-07",
          "2023-04-08",
          "2023-04-09",
          "2023-04-10",
          "2023-04-11",
          "2023-04-12",
          "2023-04-13",
          "2023-04-14",
          "2023-04-15",
          "2023-04-16",
          "2023-04-17",
          "2023-04-18",
          "2023-04-19",
          "2023-04-20",
          "2023-04-21",
          "2023-04-22",
          "2023-04-23",
          "2023-04-24",
          "2023-04-25",
          "2023-04-26",
          "2023-04-27",
          "2023-04-28",
          "2023-04-29",
          "2023-04-30",
          "2023-05-01",
          "2023-05-02",
          "2023-05-03",
          "2023-05-04",
          "2023-05-05",
          "2023-05-06",
          "2023-05-07",
          "2023-05-08",
          "2023-05-09",
          "2023-05-10",
          "2023-05-11",
          "2023-05-12",
          "2023-05-13",
          "2023-05-14",
          "2023-05-15",
          "2023-05-16",
          "2023-05-17",
          "2023-05-18",
          "2023-05-19",
          "2023-05-20",
          "2023-05-21",
          "2023-05-22",
          "2023-05-23",
          "2023-05-24",
          "2023-05-25",
          "2023-05-26",
          "2023-05-27",
          "2023-05-28",
          "2023-05-29",
          "2023-05-30",
          "2023-05-31",
          "2023-06-01",
          "2023-06-02",
          "2023-06-03",
          "2023-06-04",
          "2023-06-05",
          "2023-06-06",
          "2023-06-07",
          "2023-06-08",
          "2023-06-09",
          "2023-06-10",
          "2023-06-11",
          "2023-06-12",
          "2023-06-13",
          "2023-06-14",
          "2023-06-15",
          "2023-06-16",
          "2023-06-17",
          "2023-06-18",
          "2023-06-19",
          "2023-06-20",
          "2023-06-21",
          "2023-06-22",
          "2023-06-23",
          "2023-06-24",
          "2023-06-25",
          "2023-06-26",
          "2023-06-27",
          "2023-06-28",
          "2023-06-29",
          "2023-06-30",
          "2023-07-01",
          "2023-07-02",
          "2023-07-03",
          "2023-07-04",
          "2023-07-05",
          "2023-07-06",
          "2023-07-07",
          "2023-07-08",
          "2023-07-09",
          "2023-07-10",
          "2023-07-11",
          "2023-07-12",
          "2023-07-13",
          "2023-07-14",
          "2023-07-15",
          "2023-07-16",
          "2023-07-17",
          "2023-07-18",
          "2023-07-19",
          "2023-07-20",
          "2023-07-21",
          "2023-07-22",
          "2023-07-23",
          "2023-07-24",
          "2023-07-25",
          "2023-07-26",
          "2023-07-27",
          "2023-07-28",
          "2023-07-29",
          "2023-07-30",
          "2023-07-31",
          "2023-08-01",
          "2023-08-02",
          "2023-08-03",
          "2023-08-04",
          "2023-08-05",
          "2023-08-06",
          "2023-08-07",
          "2023-08-08",
          "2023-08-09",
          "2023-08-10",
          "2023-08-11",
          "2023-08-12",
          "2023-08-13",
          "2023-08-14",
          "2023-08-15",
          "2023-08-16",
          "2023-08-17",
          "2023-08-18",
          "2023-08-19",
          "2023-08-20",
          "2023-08-21",
          "2023-08-22",
          "2023-08-23",
          "2023-08-24",
          "2023-08-25",
          "2023-08-26",
          "2023-08-27",
          "2023-08-28",
          "2023-08-29",
          "2023-08-30",
          "2023-08-31",
          "2023-09-01",
          "2023-09-02",
          "2023-09-03",
          "2023-09-04",
          "2023-09-05",
          "2023-09-06",
          "2023-09-07",
          "2023-09-08",
          "2023-09-09",
          "2023-09-10",
          "2023-09-11",
          "2023-09-12",
          "2023-09-13",
          "2023-09-14",
          "2023-09-15",
          "2023-09-16",
          "2023-09-17",
          "2023-09-18",
          "2023-09-19",
          "2023-09-20",
          "2023-09-21",
          "2023-09-22",
          "2023-09-23",
          "2023-09-24",
          "2023-09-25",
          "2023-09-26",
          "2023-09-27",
          "2023-09-28",
          "2023-09-29",
          "2023-09-30",
          "2023-10-01",
          "2023-10-02",
          "2023-10-03",
          "2023-10-04",
          "2023-10-05",
          "2023-10-06",
          "2023-10-07",
          "2023-10-08",
          "2023-10-09",
          "2023-10-10",
          "2023-10-11",
          "2023-10-12",
          "2023-10-13",
          "2023-10-14",
          "2023-10-15",
          "2023-10-16",
          "2023-10-17",
          "2023-10-18",
          "2023-10-19",
          "2023-10-20",
          "2023-10-21",
          "2023-10-22",
          "2023-10-23",
          "2023-10-24",
          "2023-10-25",
          "2023-10-26",
          "2023-10-27",
          "2023-10-28",
          "2023-10-29",
          "2023-10-30",
          "2023-10-31",
          "2023-11-01",
          "2023-11-02",
          "2023-11-03",
          "2023-11-04",
          "2023-11-05",
          "2023-11-06",
          "2023-11-07",
          "2023-11-08",
          "2023-11-09",
          "2023-11-10",
          "2023-11-11",
          "2023-11-12",
          "2023-11-13",
          "2023-11-14",
          "2023-11-15",
          "2023-11-16",
          "2023-11-17",
          "2023-11-18",
          "2023-11-19",
          "2023-11-20",
          "2023-11-21",
          "2023-11-22",
          "2023-11-23",
          "2023-11-24",
          "2023-11-25",
          "2023-11-26",
          "2023-11-27",
          "2023-11-28",
          "2023-11-29",
          "2023-11-30",
          "2023-12-01",
          "2023-12-02",
          "2023-12-03",
          "2023-12-04",
          "2023-12-05",
          "2023-12-06",
          "2023-12-07",
          "2023-12-08",
          "2023-12-09",
          "2023-12-10",
          "2023-12-11",
          "2023-12-12",
          "2023-12-13",
          "2023-12-14",
          "2023-12-15",
          "2023-12-16",
          "2023-12-17",
          "2023-12-18",
          "2023-12-19",
          "2023-12-20",
          "2023-12-21",
          "2023-12-22",
          "2023-12-23",
          "2023-12-24",
          "2023-12-25",
          "2023-12-26",
          "2023-12-27",
          "2023-12-28",
          "2023-12-29",
          "2023-12-30",
          "2023-12-31"
         ],
         "type": "scatter3d",
         "x": {
          "bdata": "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",
          "dtype": "f8"
         },
         "y": [
          9244361700,
          12097775227,
          13903079207,
          18421743322,
          13692758566,
          14413662913,
          7714767174,
          9768827914,
          18624736866,
          15808338949,
          18372283782,
          34971338710,
          29225029694,
          38967784639,
          19298407543,
          26792494050,
          24999983362,
          30005625418,
          21152848261,
          28799154319,
          32442278429,
          24746386230,
          26518700512,
          26405069715,
          30685366709,
          26357839322,
          25383335641,
          14712928379,
          27423687259,
          27205595568,
          22837828665,
          26683255504,
          32066936882,
          27083066007,
          15639298538,
          19564262605,
          23825006542,
          27187964471,
          25371367758,
          32572572185,
          27078406594,
          16356226232,
          17821046406,
          23918742607,
          26792596581,
          32483312909,
          39316664596,
          41358451255,
          19625427158,
          25555105670,
          28987376573,
          31252098714,
          30199996781,
          30476264066,
          26811744928,
          16100721565,
          16644534842,
          22660763494,
          20535363434,
          24662841200,
          20386398516,
          26062404610,
          11166012913,
          13317001733,
          17353192895,
          22765452204,
          22536575684,
          30364664171,
          39578257695,
          30180288176,
          29279035521,
          49466362688,
          54622230164,
          43655701450,
          33866061747,
          50730261335,
          35723036817,
          37769448859,
          44774027664,
          36102192830,
          33382021890,
          24220433689,
          25980310960,
          13383005987,
          13878363192,
          18188895178,
          17783600385,
          20684945906,
          22435349951,
          19001327598,
          10876469901,
          12284641999,
          19556501327,
          15284538859,
          17052315986,
          13837809380,
          10861680497,
          9373255556,
          12175322951,
          19282400094,
          20121259843,
          18651929926,
          17487721001,
          22659995079,
          11940685378,
          12854816417,
          17872186762,
          19480529496,
          24571565421,
          21340360360,
          20759504330,
          13125734602,
          12785446832,
          17703288330,
          17733373139,
          31854242019,
          27153445027,
          17544464887,
          10662634333,
          14652199272,
          18655599976,
          16432924527,
          19122972518,
          15548678514,
          17936566518,
          15913866714,
          11301355486,
          19122903752,
          14128593256,
          20656025026,
          16724343943,
          19313599897,
          9999171605,
          10014858959,
          14413231792,
          12732238816,
          15140006925,
          15222938600,
          11258983301,
          7044911360,
          8647416921,
          11056770492,
          13697203143,
          16299104428,
          13851122697,
          12711619225,
          7892015141,
          14545229578,
          15181308984,
          13251081851,
          15656371534,
          14678970415,
          14837415000,
          8385597470,
          9360912318,
          21513292646,
          21929670693,
          19530045082,
          11904824295,
          11015551640,
          19872933189,
          10732609603,
          11677889997,
          14143474486,
          14265717766,
          15837384409,
          16324646965,
          11090276850,
          9565695129,
          12826986222,
          22211859147,
          33346760979,
          20653160491,
          24115570085,
          12147822496,
          12703464114,
          16493186997,
          16428827944,
          14571500779,
          13180860821,
          26387306197,
          9086606733,
          10533418042,
          15271884873,
          12810828427,
          12481622280,
          21129219509,
          13384770155,
          7509378699,
          7903327692,
          14828209155,
          12151839152,
          14805659717,
          23686079548,
          20917902660,
          8011667756,
          8516564470,
          13240156074,
          13138897269,
          12128602812,
          14655207121,
          10972789818,
          7873300598,
          9220145050,
          15395817395,
          10266772793,
          13497554655,
          10770779217,
          11218474952,
          6481775959,
          8678454527,
          11656781982,
          18272392391,
          19212655598,
          12780357746,
          12036639988,
          6598366353,
          7269806994,
          13618163710,
          17570561357,
          18379521213,
          11865344789,
          10195168197,
          6194358008,
          7329897180,
          14013695304,
          12640195779,
          14949271904,
          31120851211,
          24026236529,
          10631443812,
          9036580420,
          13371557893,
          14503820706,
          16985265785,
          12871532023,
          12406045118,
          6034817316,
          6913768611,
          11002805166,
          29368391712,
          16343655235,
          20181001451,
          17202862221,
          10100387473,
          8962524523,
          10680635106,
          11094740040,
          12752705327,
          11088307100,
          10817356400,
          5481314132,
          7899553047,
          14600006467,
          18657279324,
          13072077070,
          13811359124,
          11479735788,
          7402031417,
          6774210670,
          15615339655,
          13807690550,
          13281116604,
          13371443708,
          10578746709,
          7404700301,
          8192867686,
          11997833257,
          9985498161,
          11718380997,
          14079002707,
          10396435377,
          5331172801,
          9503917434,
          19793041322,
          11407814187,
          11143355314,
          11877253670,
          13492391599,
          6553044316,
          7916875290,
          12007668568,
          9973350678,
          13648094333,
          9392909295,
          15165312851,
          5388116782,
          7098201980,
          27833876539,
          14872527508,
          12724128586,
          14448058195,
          21536125230,
          11541146996,
          10446520040,
          38363572311,
          44934999645,
          25254318008,
          19427195376,
          16418032871,
          10160330825,
          11160323986,
          17184860315,
          15758270810,
          22446272005,
          20998158544,
          17158456701,
          9561294264,
          12412743996,
          12693436420,
          18834737789,
          17295394918,
          37762672382,
          22711265155,
          13924272142,
          11545715999,
          19057712790,
          23857403554,
          27365821679,
          26007385366,
          22445028430,
          11886022717,
          12915986553,
          20888209068,
          25172163756,
          24397247860,
          14214948217,
          22922957823,
          9099571165,
          13744796068,
          19002925720,
          21696137014,
          20728546658,
          18115982627,
          23512784002,
          15534035612,
          15769696322,
          39856129827,
          36312154535,
          29909761586,
          27635760671,
          24421116687,
          17368210171,
          13000481418,
          40632672038,
          24779520132,
          26797884674,
          25578530178,
          19639442462,
          14386729590,
          16678702876,
          25224642008,
          23171001281,
          27868908174,
          22452766169,
          21028503216,
          13507796558,
          18830554085,
          21115795370,
          30026850982,
          25260941032,
          22992093014,
          26000021055,
          16013925945,
          16397498810
         ],
         "z": {
          "bdata": "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",
          "dtype": "f8"
         }
        }
       ],
       "layout": {
        "height": 700,
        "scene": {
         "bgcolor": "black",
         "xaxis": {
          "title": {
           "text": "Price (USD)"
          }
         },
         "yaxis": {
          "title": {
           "text": "Volume"
          }
         },
         "zaxis": {
          "title": {
           "text": "Sentiment Score"
          }
         }
        },
        "template": {
         "data": {
          "bar": [
           {
            "error_x": {
             "color": "#f2f5fa"
            },
            "error_y": {
             "color": "#f2f5fa"
            },
            "marker": {
             "line": {
              "color": "rgb(17,17,17)",
              "width": 0.5
             },
             "pattern": {
              "fillmode": "overlay",
              "size": 10,
              "solidity": 0.2
             }
            },
            "type": "bar"
           }
          ],
          "barpolar": [
           {
            "marker": {
             "line": {
              "color": "rgb(17,17,17)",
              "width": 0.5
             },
             "pattern": {
              "fillmode": "overlay",
              "size": 10,
              "solidity": 0.2
             }
            },
            "type": "barpolar"
           }
          ],
          "carpet": [
           {
            "aaxis": {
             "endlinecolor": "#A2B1C6",
             "gridcolor": "#506784",
             "linecolor": "#506784",
             "minorgridcolor": "#506784",
             "startlinecolor": "#A2B1C6"
            },
            "baxis": {
             "endlinecolor": "#A2B1C6",
             "gridcolor": "#506784",
             "linecolor": "#506784",
             "minorgridcolor": "#506784",
             "startlinecolor": "#A2B1C6"
            },
            "type": "carpet"
           }
          ],
          "choropleth": [
           {
            "colorbar": {
             "outlinewidth": 0,
             "ticks": ""
            },
            "type": "choropleth"
           }
          ],
          "contour": [
           {
            "colorbar": {
             "outlinewidth": 0,
             "ticks": ""
            },
            "colorscale": [
             [
              0,
              "#0d0887"
             ],
             [
              0.1111111111111111,
              "#46039f"
             ],
             [
              0.2222222222222222,
              "#7201a8"
             ],
             [
              0.3333333333333333,
              "#9c179e"
             ],
             [
              0.4444444444444444,
              "#bd3786"
             ],
             [
              0.5555555555555556,
              "#d8576b"
             ],
             [
              0.6666666666666666,
              "#ed7953"
             ],
             [
              0.7777777777777778,
              "#fb9f3a"
             ],
             [
              0.8888888888888888,
              "#fdca26"
             ],
             [
              1,
              "#f0f921"
             ]
            ],
            "type": "contour"
           }
          ],
          "contourcarpet": [
           {
            "colorbar": {
             "outlinewidth": 0,
             "ticks": ""
            },
            "type": "contourcarpet"
           }
          ],
          "heatmap": [
           {
            "colorbar": {
             "outlinewidth": 0,
             "ticks": ""
            },
            "colorscale": [
             [
              0,
              "#0d0887"
             ],
             [
              0.1111111111111111,
              "#46039f"
             ],
             [
              0.2222222222222222,
              "#7201a8"
             ],
             [
              0.3333333333333333,
              "#9c179e"
             ],
             [
              0.4444444444444444,
              "#bd3786"
             ],
             [
              0.5555555555555556,
              "#d8576b"
             ],
             [
              0.6666666666666666,
              "#ed7953"
             ],
             [
              0.7777777777777778,
              "#fb9f3a"
             ],
             [
              0.8888888888888888,
              "#fdca26"
             ],
             [
              1,
              "#f0f921"
             ]
            ],
            "type": "heatmap"
           }
          ],
          "histogram": [
           {
            "marker": {
             "pattern": {
              "fillmode": "overlay",
              "size": 10,
              "solidity": 0.2
             }
            },
            "type": "histogram"
           }
          ],
          "histogram2d": [
           {
            "colorbar": {
             "outlinewidth": 0,
             "ticks": ""
            },
            "colorscale": [
             [
              0,
              "#0d0887"
             ],
             [
              0.1111111111111111,
              "#46039f"
             ],
             [
              0.2222222222222222,
              "#7201a8"
             ],
             [
              0.3333333333333333,
              "#9c179e"
             ],
             [
              0.4444444444444444,
              "#bd3786"
             ],
             [
              0.5555555555555556,
              "#d8576b"
             ],
             [
              0.6666666666666666,
              "#ed7953"
             ],
             [
              0.7777777777777778,
              "#fb9f3a"
             ],
             [
              0.8888888888888888,
              "#fdca26"
             ],
             [
              1,
              "#f0f921"
             ]
            ],
            "type": "histogram2d"
           }
          ],
          "histogram2dcontour": [
           {
            "colorbar": {
             "outlinewidth": 0,
             "ticks": ""
            },
            "colorscale": [
             [
              0,
              "#0d0887"
             ],
             [
              0.1111111111111111,
              "#46039f"
             ],
             [
              0.2222222222222222,
              "#7201a8"
             ],
             [
              0.3333333333333333,
              "#9c179e"
             ],
             [
              0.4444444444444444,
              "#bd3786"
             ],
             [
              0.5555555555555556,
              "#d8576b"
             ],
             [
              0.6666666666666666,
              "#ed7953"
             ],
             [
              0.7777777777777778,
              "#fb9f3a"
             ],
             [
              0.8888888888888888,
              "#fdca26"
             ],
             [
              1,
              "#f0f921"
             ]
            ],
            "type": "histogram2dcontour"
           }
          ],
          "mesh3d": [
           {
            "colorbar": {
             "outlinewidth": 0,
             "ticks": ""
            },
            "type": "mesh3d"
           }
          ],
          "parcoords": [
           {
            "line": {
             "colorbar": {
              "outlinewidth": 0,
              "ticks": ""
             }
            },
            "type": "parcoords"
           }
          ],
          "pie": [
           {
            "automargin": true,
            "type": "pie"
           }
          ],
          "scatter": [
           {
            "marker": {
             "line": {
              "color": "#283442"
             }
            },
            "type": "scatter"
           }
          ],
          "scatter3d": [
           {
            "line": {
             "colorbar": {
              "outlinewidth": 0,
              "ticks": ""
             }
            },
            "marker": {
             "colorbar": {
              "outlinewidth": 0,
              "ticks": ""
             }
            },
            "type": "scatter3d"
           }
          ],
          "scattercarpet": [
           {
            "marker": {
             "colorbar": {
              "outlinewidth": 0,
              "ticks": ""
             }
            },
            "type": "scattercarpet"
           }
          ],
          "scattergeo": [
           {
            "marker": {
             "colorbar": {
              "outlinewidth": 0,
              "ticks": ""
             }
            },
            "type": "scattergeo"
           }
          ],
          "scattergl": [
           {
            "marker": {
             "line": {
              "color": "#283442"
             }
            },
            "type": "scattergl"
           }
          ],
          "scattermap": [
           {
            "marker": {
             "colorbar": {
              "outlinewidth": 0,
              "ticks": ""
             }
            },
            "type": "scattermap"
           }
          ],
          "scattermapbox": [
           {
            "marker": {
             "colorbar": {
              "outlinewidth": 0,
              "ticks": ""
             }
            },
            "type": "scattermapbox"
           }
          ],
          "scatterpolar": [
           {
            "marker": {
             "colorbar": {
              "outlinewidth": 0,
              "ticks": ""
             }
            },
            "type": "scatterpolar"
           }
          ],
          "scatterpolargl": [
           {
            "marker": {
             "colorbar": {
              "outlinewidth": 0,
              "ticks": ""
             }
            },
            "type": "scatterpolargl"
           }
          ],
          "scatterternary": [
           {
            "marker": {
             "colorbar": {
              "outlinewidth": 0,
              "ticks": ""
             }
            },
            "type": "scatterternary"
           }
          ],
          "surface": [
           {
            "colorbar": {
             "outlinewidth": 0,
             "ticks": ""
            },
            "colorscale": [
             [
              0,
              "#0d0887"
             ],
             [
              0.1111111111111111,
              "#46039f"
             ],
             [
              0.2222222222222222,
              "#7201a8"
             ],
             [
              0.3333333333333333,
              "#9c179e"
             ],
             [
              0.4444444444444444,
              "#bd3786"
             ],
             [
              0.5555555555555556,
              "#d8576b"
             ],
             [
              0.6666666666666666,
              "#ed7953"
             ],
             [
              0.7777777777777778,
              "#fb9f3a"
             ],
             [
              0.8888888888888888,
              "#fdca26"
             ],
             [
              1,
              "#f0f921"
             ]
            ],
            "type": "surface"
           }
          ],
          "table": [
           {
            "cells": {
             "fill": {
              "color": "#506784"
             },
             "line": {
              "color": "rgb(17,17,17)"
             }
            },
            "header": {
             "fill": {
              "color": "#2a3f5f"
             },
             "line": {
              "color": "rgb(17,17,17)"
             }
            },
            "type": "table"
           }
          ]
         },
         "layout": {
          "annotationdefaults": {
           "arrowcolor": "#f2f5fa",
           "arrowhead": 0,
           "arrowwidth": 1
          },
          "autotypenumbers": "strict",
          "coloraxis": {
           "colorbar": {
            "outlinewidth": 0,
            "ticks": ""
           }
          },
          "colorscale": {
           "diverging": [
            [
             0,
             "#8e0152"
            ],
            [
             0.1,
             "#c51b7d"
            ],
            [
             0.2,
             "#de77ae"
            ],
            [
             0.3,
             "#f1b6da"
            ],
            [
             0.4,
             "#fde0ef"
            ],
            [
             0.5,
             "#f7f7f7"
            ],
            [
             0.6,
             "#e6f5d0"
            ],
            [
             0.7,
             "#b8e186"
            ],
            [
             0.8,
             "#7fbc41"
            ],
            [
             0.9,
             "#4d9221"
            ],
            [
             1,
             "#276419"
            ]
           ],
           "sequential": [
            [
             0,
             "#0d0887"
            ],
            [
             0.1111111111111111,
             "#46039f"
            ],
            [
             0.2222222222222222,
             "#7201a8"
            ],
            [
             0.3333333333333333,
             "#9c179e"
            ],
            [
             0.4444444444444444,
             "#bd3786"
            ],
            [
             0.5555555555555556,
             "#d8576b"
            ],
            [
             0.6666666666666666,
             "#ed7953"
            ],
            [
             0.7777777777777778,
             "#fb9f3a"
            ],
            [
             0.8888888888888888,
             "#fdca26"
            ],
            [
             1,
             "#f0f921"
            ]
           ],
           "sequentialminus": [
            [
             0,
             "#0d0887"
            ],
            [
             0.1111111111111111,
             "#46039f"
            ],
            [
             0.2222222222222222,
             "#7201a8"
            ],
            [
             0.3333333333333333,
             "#9c179e"
            ],
            [
             0.4444444444444444,
             "#bd3786"
            ],
            [
             0.5555555555555556,
             "#d8576b"
            ],
            [
             0.6666666666666666,
             "#ed7953"
            ],
            [
             0.7777777777777778,
             "#fb9f3a"
            ],
            [
             0.8888888888888888,
             "#fdca26"
            ],
            [
             1,
             "#f0f921"
            ]
           ]
          },
          "colorway": [
           "#636efa",
           "#EF553B",
           "#00cc96",
           "#ab63fa",
           "#FFA15A",
           "#19d3f3",
           "#FF6692",
           "#B6E880",
           "#FF97FF",
           "#FECB52"
          ],
          "font": {
           "color": "#f2f5fa"
          },
          "geo": {
           "bgcolor": "rgb(17,17,17)",
           "lakecolor": "rgb(17,17,17)",
           "landcolor": "rgb(17,17,17)",
           "showlakes": true,
           "showland": true,
           "subunitcolor": "#506784"
          },
          "hoverlabel": {
           "align": "left"
          },
          "hovermode": "closest",
          "mapbox": {
           "style": "dark"
          },
          "paper_bgcolor": "rgb(17,17,17)",
          "plot_bgcolor": "rgb(17,17,17)",
          "polar": {
           "angularaxis": {
            "gridcolor": "#506784",
            "linecolor": "#506784",
            "ticks": ""
           },
           "bgcolor": "rgb(17,17,17)",
           "radialaxis": {
            "gridcolor": "#506784",
            "linecolor": "#506784",
            "ticks": ""
           }
          },
          "scene": {
           "xaxis": {
            "backgroundcolor": "rgb(17,17,17)",
            "gridcolor": "#506784",
            "gridwidth": 2,
            "linecolor": "#506784",
            "showbackground": true,
            "ticks": "",
            "zerolinecolor": "#C8D4E3"
           },
           "yaxis": {
            "backgroundcolor": "rgb(17,17,17)",
            "gridcolor": "#506784",
            "gridwidth": 2,
            "linecolor": "#506784",
            "showbackground": true,
            "ticks": "",
            "zerolinecolor": "#C8D4E3"
           },
           "zaxis": {
            "backgroundcolor": "rgb(17,17,17)",
            "gridcolor": "#506784",
            "gridwidth": 2,
            "linecolor": "#506784",
            "showbackground": true,
            "ticks": "",
            "zerolinecolor": "#C8D4E3"
           }
          },
          "shapedefaults": {
           "line": {
            "color": "#f2f5fa"
           }
          },
          "sliderdefaults": {
           "bgcolor": "#C8D4E3",
           "bordercolor": "rgb(17,17,17)",
           "borderwidth": 1,
           "tickwidth": 0
          },
          "ternary": {
           "aaxis": {
            "gridcolor": "#506784",
            "linecolor": "#506784",
            "ticks": ""
           },
           "baxis": {
            "gridcolor": "#506784",
            "linecolor": "#506784",
            "ticks": ""
           },
           "bgcolor": "rgb(17,17,17)",
           "caxis": {
            "gridcolor": "#506784",
            "linecolor": "#506784",
            "ticks": ""
           }
          },
          "title": {
           "x": 0.05
          },
          "updatemenudefaults": {
           "bgcolor": "#506784",
           "borderwidth": 0
          },
          "xaxis": {
           "automargin": true,
           "gridcolor": "#283442",
           "linecolor": "#506784",
           "ticks": "",
           "title": {
            "standoff": 15
           },
           "zerolinecolor": "#283442",
           "zerolinewidth": 2
          },
          "yaxis": {
           "automargin": true,
           "gridcolor": "#283442",
           "linecolor": "#506784",
           "ticks": "",
           "title": {
            "standoff": 15
           },
           "zerolinecolor": "#283442",
           "zerolinewidth": 2
          }
         }
        },
        "title": {
         "text": "3D Bitcoin Analysis: Price vs Volume vs Sentiment"
        }
       }
      }
     },
     "metadata": {},
     "output_type": "display_data"
    }
   ],
   "source": [
    "# 3D Price, Volume, Sentiment visualization\n",
    "fig_3d = go.Figure(data=[go.Scatter3d(\n",
    "    x=maindf['Close'],\n",
    "    y=maindf['Volume'],\n",
    "    z=maindf['Sentiment'],\n",
    "    mode='markers+lines',\n",
    "    marker=dict(\n",
    "        size=5,\n",
    "        color=maindf['Close'],\n",
    "        colorscale='Viridis',\n",
    "        showscale=True,\n",
    "        colorbar=dict(title=\"Price\")\n",
    "    ),\n",
    "    line=dict(color='white', width=2),\n",
    "    text=maindf['Date'].dt.strftime('%Y-%m-%d'),\n",
    "    hovertemplate='<b>Date:</b> %{text}<br>' +\n",
    "                  '<b>Price:</b> $%{x:,.2f}<br>' +\n",
    "                  '<b>Volume:</b> %{y:,.0f}<br>' +\n",
    "                  '<b>Sentiment:</b> %{z:.3f}<extra></extra>'\n",
    ")])\n",
    "\n",
    "fig_3d.update_layout(\n",
    "    title='3D Bitcoin Analysis: Price vs Volume vs Sentiment',\n",
    "    scene=dict(\n",
    "        xaxis_title='Price (USD)',\n",
    "        yaxis_title='Volume',\n",
    "        zaxis_title='Sentiment Score',\n",
    "        bgcolor='black'\n",
    "    ),\n",
    "    template='plotly_dark',\n",
    "    height=700\n",
    ")\n",
    "\n",
    "fig_3d.show()"
   ]
  },
  {
   "cell_type": "markdown",
   "metadata": {},
   "source": [
    "## 10. Model Evaluation & Summary"
   ]
  },
  {
   "cell_type": "code",
   "execution_count": 11,
   "metadata": {},
   "outputs": [
    {
     "name": "stdout",
     "output_type": "stream",
     "text": [
      "============================================================\n",
      "ENHANCED BITCOIN PREDICTION MODEL SUMMARY\n",
      "============================================================\n",
      "Training RMSE: $1,102.60\n",
      "Testing RMSE: $1,768.62\n",
      "Training R²: 0.8557\n",
      "Testing R²: 0.9266\n",
      "\n",
      "Risk Metrics:\n",
      "Value at Risk (95%): -0.0306\n",
      "Sharpe Ratio: 2.3074\n",
      "Maximum Drawdown: -0.2006\n",
      "\n",
      "Predictions:\n",
      "Current Price: $42,265.19\n",
      "Next Day Prediction: $41,255.06\n",
      "30-Day Average Prediction: $37,302.40\n",
      "Average Sentiment: 0.011\n",
      "============================================================\n"
     ]
    }
   ],
   "source": [
    "# Calculate model performance metrics\n",
    "train_rmse = math.sqrt(mean_squared_error(y_train_orig, train_predict))\n",
    "test_rmse = math.sqrt(mean_squared_error(y_test_orig, test_predict))\n",
    "train_r2 = r2_score(y_train_orig, train_predict)\n",
    "test_r2 = r2_score(y_test_orig, test_predict)\n",
    "\n",
    "print(\"=\" * 60)\n",
    "print(\"ENHANCED BITCOIN PREDICTION MODEL SUMMARY\")\n",
    "print(\"=\" * 60)\n",
    "print(f\"Training RMSE: ${train_rmse:,.2f}\")\n",
    "print(f\"Testing RMSE: ${test_rmse:,.2f}\")\n",
    "print(f\"Training R²: {train_r2:.4f}\")\n",
    "print(f\"Testing R²: {test_r2:.4f}\")\n",
    "print(\"\\nRisk Metrics:\")\n",
    "print(f\"Value at Risk (95%): {risk_metrics['VaR_95']:.4f}\")\n",
    "print(f\"Sharpe Ratio: {risk_metrics['Sharpe_Ratio']:.4f}\")\n",
    "print(f\"Maximum Drawdown: {risk_metrics['Max_Drawdown']:.4f}\")\n",
    "print(\"\\nPredictions:\")\n",
    "print(f\"Current Price: ${maindf['Close'].iloc[-1]:,.2f}\")\n",
    "print(f\"Next Day Prediction: ${future_predictions[0][0]:,.2f}\")\n",
    "print(f\"30-Day Average Prediction: ${future_predictions.mean():,.2f}\")\n",
    "print(f\"Average Sentiment: {maindf['Sentiment'].mean():.3f}\")\n",
    "print(\"=\" * 60)"
   ]
  },
  {
   "cell_type": "markdown",
   "metadata": {},
   "source": [
    "## 11. Interactive Prediction Plot"
   ]
  },
  {
   "cell_type": "code",
   "execution_count": 12,
   "metadata": {},
   "outputs": [
    {
     "data": {
      "application/vnd.plotly.v1+json": {
       "config": {
        "plotlyServerURL": "https://plot.ly"
       },
       "data": [
        {
         "line": {
          "color": "blue",
          "width": 2
         },
         "mode": "lines",
         "name": "Historical Price",
         "type": "scatter",
         "x": [
          "2023-01-01T00:00:00.000000000",
          "2023-01-02T00:00:00.000000000",
          "2023-01-03T00:00:00.000000000",
          "2023-01-04T00:00:00.000000000",
          "2023-01-05T00:00:00.000000000",
          "2023-01-06T00:00:00.000000000",
          "2023-01-07T00:00:00.000000000",
          "2023-01-08T00:00:00.000000000",
          "2023-01-09T00:00:00.000000000",
          "2023-01-10T00:00:00.000000000",
          "2023-01-11T00:00:00.000000000",
          "2023-01-12T00:00:00.000000000",
          "2023-01-13T00:00:00.000000000",
          "2023-01-14T00:00:00.000000000",
          "2023-01-15T00:00:00.000000000",
          "2023-01-16T00:00:00.000000000",
          "2023-01-17T00:00:00.000000000",
          "2023-01-18T00:00:00.000000000",
          "2023-01-19T00:00:00.000000000",
          "2023-01-20T00:00:00.000000000",
          "2023-01-21T00:00:00.000000000",
          "2023-01-22T00:00:00.000000000",
          "2023-01-23T00:00:00.000000000",
          "2023-01-24T00:00:00.000000000",
          "2023-01-25T00:00:00.000000000",
          "2023-01-26T00:00:00.000000000",
          "2023-01-27T00:00:00.000000000",
          "2023-01-28T00:00:00.000000000",
          "2023-01-29T00:00:00.000000000",
          "2023-01-30T00:00:00.000000000",
          "2023-01-31T00:00:00.000000000",
          "2023-02-01T00:00:00.000000000",
          "2023-02-02T00:00:00.000000000",
          "2023-02-03T00:00:00.000000000",
          "2023-02-04T00:00:00.000000000",
          "2023-02-05T00:00:00.000000000",
          "2023-02-06T00:00:00.000000000",
          "2023-02-07T00:00:00.000000000",
          "2023-02-08T00:00:00.000000000",
          "2023-02-09T00:00:00.000000000",
          "2023-02-10T00:00:00.000000000",
          "2023-02-11T00:00:00.000000000",
          "2023-02-12T00:00:00.000000000",
          "2023-02-13T00:00:00.000000000",
          "2023-02-14T00:00:00.000000000",
          "2023-02-15T00:00:00.000000000",
          "2023-02-16T00:00:00.000000000",
          "2023-02-17T00:00:00.000000000",
          "2023-02-18T00:00:00.000000000",
          "2023-02-19T00:00:00.000000000",
          "2023-02-20T00:00:00.000000000",
          "2023-02-21T00:00:00.000000000",
          "2023-02-22T00:00:00.000000000",
          "2023-02-23T00:00:00.000000000",
          "2023-02-24T00:00:00.000000000",
          "2023-02-25T00:00:00.000000000",
          "2023-02-26T00:00:00.000000000",
          "2023-02-27T00:00:00.000000000",
          "2023-02-28T00:00:00.000000000",
          "2023-03-01T00:00:00.000000000",
          "2023-03-02T00:00:00.000000000",
          "2023-03-03T00:00:00.000000000",
          "2023-03-04T00:00:00.000000000",
          "2023-03-05T00:00:00.000000000",
          "2023-03-06T00:00:00.000000000",
          "2023-03-07T00:00:00.000000000",
          "2023-03-08T00:00:00.000000000",
          "2023-03-09T00:00:00.000000000",
          "2023-03-10T00:00:00.000000000",
          "2023-03-11T00:00:00.000000000",
          "2023-03-12T00:00:00.000000000",
          "2023-03-13T00:00:00.000000000",
          "2023-03-14T00:00:00.000000000",
          "2023-03-15T00:00:00.000000000",
          "2023-03-16T00:00:00.000000000",
          "2023-03-17T00:00:00.000000000",
          "2023-03-18T00:00:00.000000000",
          "2023-03-19T00:00:00.000000000",
          "2023-03-20T00:00:00.000000000",
          "2023-03-21T00:00:00.000000000",
          "2023-03-22T00:00:00.000000000",
          "2023-03-23T00:00:00.000000000",
          "2023-03-24T00:00:00.000000000",
          "2023-03-25T00:00:00.000000000",
          "2023-03-26T00:00:00.000000000",
          "2023-03-27T00:00:00.000000000",
          "2023-03-28T00:00:00.000000000",
          "2023-03-29T00:00:00.000000000",
          "2023-03-30T00:00:00.000000000",
          "2023-03-31T00:00:00.000000000",
          "2023-04-01T00:00:00.000000000",
          "2023-04-02T00:00:00.000000000",
          "2023-04-03T00:00:00.000000000",
          "2023-04-04T00:00:00.000000000",
          "2023-04-05T00:00:00.000000000",
          "2023-04-06T00:00:00.000000000",
          "2023-04-07T00:00:00.000000000",
          "2023-04-08T00:00:00.000000000",
          "2023-04-09T00:00:00.000000000",
          "2023-04-10T00:00:00.000000000",
          "2023-04-11T00:00:00.000000000",
          "2023-04-12T00:00:00.000000000",
          "2023-04-13T00:00:00.000000000",
          "2023-04-14T00:00:00.000000000",
          "2023-04-15T00:00:00.000000000",
          "2023-04-16T00:00:00.000000000",
          "2023-04-17T00:00:00.000000000",
          "2023-04-18T00:00:00.000000000",
          "2023-04-19T00:00:00.000000000",
          "2023-04-20T00:00:00.000000000",
          "2023-04-21T00:00:00.000000000",
          "2023-04-22T00:00:00.000000000",
          "2023-04-23T00:00:00.000000000",
          "2023-04-24T00:00:00.000000000",
          "2023-04-25T00:00:00.000000000",
          "2023-04-26T00:00:00.000000000",
          "2023-04-27T00:00:00.000000000",
          "2023-04-28T00:00:00.000000000",
          "2023-04-29T00:00:00.000000000",
          "2023-04-30T00:00:00.000000000",
          "2023-05-01T00:00:00.000000000",
          "2023-05-02T00:00:00.000000000",
          "2023-05-03T00:00:00.000000000",
          "2023-05-04T00:00:00.000000000",
          "2023-05-05T00:00:00.000000000",
          "2023-05-06T00:00:00.000000000",
          "2023-05-07T00:00:00.000000000",
          "2023-05-08T00:00:00.000000000",
          "2023-05-09T00:00:00.000000000",
          "2023-05-10T00:00:00.000000000",
          "2023-05-11T00:00:00.000000000",
          "2023-05-12T00:00:00.000000000",
          "2023-05-13T00:00:00.000000000",
          "2023-05-14T00:00:00.000000000",
          "2023-05-15T00:00:00.000000000",
          "2023-05-16T00:00:00.000000000",
          "2023-05-17T00:00:00.000000000",
          "2023-05-18T00:00:00.000000000",
          "2023-05-19T00:00:00.000000000",
          "2023-05-20T00:00:00.000000000",
          "2023-05-21T00:00:00.000000000",
          "2023-05-22T00:00:00.000000000",
          "2023-05-23T00:00:00.000000000",
          "2023-05-24T00:00:00.000000000",
          "2023-05-25T00:00:00.000000000",
          "2023-05-26T00:00:00.000000000",
          "2023-05-27T00:00:00.000000000",
          "2023-05-28T00:00:00.000000000",
          "2023-05-29T00:00:00.000000000",
          "2023-05-30T00:00:00.000000000",
          "2023-05-31T00:00:00.000000000",
          "2023-06-01T00:00:00.000000000",
          "2023-06-02T00:00:00.000000000",
          "2023-06-03T00:00:00.000000000",
          "2023-06-04T00:00:00.000000000",
          "2023-06-05T00:00:00.000000000",
          "2023-06-06T00:00:00.000000000",
          "2023-06-07T00:00:00.000000000",
          "2023-06-08T00:00:00.000000000",
          "2023-06-09T00:00:00.000000000",
          "2023-06-10T00:00:00.000000000",
          "2023-06-11T00:00:00.000000000",
          "2023-06-12T00:00:00.000000000",
          "2023-06-13T00:00:00.000000000",
          "2023-06-14T00:00:00.000000000",
          "2023-06-15T00:00:00.000000000",
          "2023-06-16T00:00:00.000000000",
          "2023-06-17T00:00:00.000000000",
          "2023-06-18T00:00:00.000000000",
          "2023-06-19T00:00:00.000000000",
          "2023-06-20T00:00:00.000000000",
          "2023-06-21T00:00:00.000000000",
          "2023-06-22T00:00:00.000000000",
          "2023-06-23T00:00:00.000000000",
          "2023-06-24T00:00:00.000000000",
          "2023-06-25T00:00:00.000000000",
          "2023-06-26T00:00:00.000000000",
          "2023-06-27T00:00:00.000000000",
          "2023-06-28T00:00:00.000000000",
          "2023-06-29T00:00:00.000000000",
          "2023-06-30T00:00:00.000000000",
          "2023-07-01T00:00:00.000000000",
          "2023-07-02T00:00:00.000000000",
          "2023-07-03T00:00:00.000000000",
          "2023-07-04T00:00:00.000000000",
          "2023-07-05T00:00:00.000000000",
          "2023-07-06T00:00:00.000000000",
          "2023-07-07T00:00:00.000000000",
          "2023-07-08T00:00:00.000000000",
          "2023-07-09T00:00:00.000000000",
          "2023-07-10T00:00:00.000000000",
          "2023-07-11T00:00:00.000000000",
          "2023-07-12T00:00:00.000000000",
          "2023-07-13T00:00:00.000000000",
          "2023-07-14T00:00:00.000000000",
          "2023-07-15T00:00:00.000000000",
          "2023-07-16T00:00:00.000000000",
          "2023-07-17T00:00:00.000000000",
          "2023-07-18T00:00:00.000000000",
          "2023-07-19T00:00:00.000000000",
          "2023-07-20T00:00:00.000000000",
          "2023-07-21T00:00:00.000000000",
          "2023-07-22T00:00:00.000000000",
          "2023-07-23T00:00:00.000000000",
          "2023-07-24T00:00:00.000000000",
          "2023-07-25T00:00:00.000000000",
          "2023-07-26T00:00:00.000000000",
          "2023-07-27T00:00:00.000000000",
          "2023-07-28T00:00:00.000000000",
          "2023-07-29T00:00:00.000000000",
          "2023-07-30T00:00:00.000000000",
          "2023-07-31T00:00:00.000000000",
          "2023-08-01T00:00:00.000000000",
          "2023-08-02T00:00:00.000000000",
          "2023-08-03T00:00:00.000000000",
          "2023-08-04T00:00:00.000000000",
          "2023-08-05T00:00:00.000000000",
          "2023-08-06T00:00:00.000000000",
          "2023-08-07T00:00:00.000000000",
          "2023-08-08T00:00:00.000000000",
          "2023-08-09T00:00:00.000000000",
          "2023-08-10T00:00:00.000000000",
          "2023-08-11T00:00:00.000000000",
          "2023-08-12T00:00:00.000000000",
          "2023-08-13T00:00:00.000000000",
          "2023-08-14T00:00:00.000000000",
          "2023-08-15T00:00:00.000000000",
          "2023-08-16T00:00:00.000000000",
          "2023-08-17T00:00:00.000000000",
          "2023-08-18T00:00:00.000000000",
          "2023-08-19T00:00:00.000000000",
          "2023-08-20T00:00:00.000000000",
          "2023-08-21T00:00:00.000000000",
          "2023-08-22T00:00:00.000000000",
          "2023-08-23T00:00:00.000000000",
          "2023-08-24T00:00:00.000000000",
          "2023-08-25T00:00:00.000000000",
          "2023-08-26T00:00:00.000000000",
          "2023-08-27T00:00:00.000000000",
          "2023-08-28T00:00:00.000000000",
          "2023-08-29T00:00:00.000000000",
          "2023-08-30T00:00:00.000000000",
          "2023-08-31T00:00:00.000000000",
          "2023-09-01T00:00:00.000000000",
          "2023-09-02T00:00:00.000000000",
          "2023-09-03T00:00:00.000000000",
          "2023-09-04T00:00:00.000000000",
          "2023-09-05T00:00:00.000000000",
          "2023-09-06T00:00:00.000000000",
          "2023-09-07T00:00:00.000000000",
          "2023-09-08T00:00:00.000000000",
          "2023-09-09T00:00:00.000000000",
          "2023-09-10T00:00:00.000000000",
          "2023-09-11T00:00:00.000000000",
          "2023-09-12T00:00:00.000000000",
          "2023-09-13T00:00:00.000000000",
          "2023-09-14T00:00:00.000000000",
          "2023-09-15T00:00:00.000000000",
          "2023-09-16T00:00:00.000000000",
          "2023-09-17T00:00:00.000000000",
          "2023-09-18T00:00:00.000000000",
          "2023-09-19T00:00:00.000000000",
          "2023-09-20T00:00:00.000000000",
          "2023-09-21T00:00:00.000000000",
          "2023-09-22T00:00:00.000000000",
          "2023-09-23T00:00:00.000000000",
          "2023-09-24T00:00:00.000000000",
          "2023-09-25T00:00:00.000000000",
          "2023-09-26T00:00:00.000000000",
          "2023-09-27T00:00:00.000000000",
          "2023-09-28T00:00:00.000000000",
          "2023-09-29T00:00:00.000000000",
          "2023-09-30T00:00:00.000000000",
          "2023-10-01T00:00:00.000000000",
          "2023-10-02T00:00:00.000000000",
          "2023-10-03T00:00:00.000000000",
          "2023-10-04T00:00:00.000000000",
          "2023-10-05T00:00:00.000000000",
          "2023-10-06T00:00:00.000000000",
          "2023-10-07T00:00:00.000000000",
          "2023-10-08T00:00:00.000000000",
          "2023-10-09T00:00:00.000000000",
          "2023-10-10T00:00:00.000000000",
          "2023-10-11T00:00:00.000000000",
          "2023-10-12T00:00:00.000000000",
          "2023-10-13T00:00:00.000000000",
          "2023-10-14T00:00:00.000000000",
          "2023-10-15T00:00:00.000000000",
          "2023-10-16T00:00:00.000000000",
          "2023-10-17T00:00:00.000000000",
          "2023-10-18T00:00:00.000000000",
          "2023-10-19T00:00:00.000000000",
          "2023-10-20T00:00:00.000000000",
          "2023-10-21T00:00:00.000000000",
          "2023-10-22T00:00:00.000000000",
          "2023-10-23T00:00:00.000000000",
          "2023-10-24T00:00:00.000000000",
          "2023-10-25T00:00:00.000000000",
          "2023-10-26T00:00:00.000000000",
          "2023-10-27T00:00:00.000000000",
          "2023-10-28T00:00:00.000000000",
          "2023-10-29T00:00:00.000000000",
          "2023-10-30T00:00:00.000000000",
          "2023-10-31T00:00:00.000000000",
          "2023-11-01T00:00:00.000000000",
          "2023-11-02T00:00:00.000000000",
          "2023-11-03T00:00:00.000000000",
          "2023-11-04T00:00:00.000000000",
          "2023-11-05T00:00:00.000000000",
          "2023-11-06T00:00:00.000000000",
          "2023-11-07T00:00:00.000000000",
          "2023-11-08T00:00:00.000000000",
          "2023-11-09T00:00:00.000000000",
          "2023-11-10T00:00:00.000000000",
          "2023-11-11T00:00:00.000000000",
          "2023-11-12T00:00:00.000000000",
          "2023-11-13T00:00:00.000000000",
          "2023-11-14T00:00:00.000000000",
          "2023-11-15T00:00:00.000000000",
          "2023-11-16T00:00:00.000000000",
          "2023-11-17T00:00:00.000000000",
          "2023-11-18T00:00:00.000000000",
          "2023-11-19T00:00:00.000000000",
          "2023-11-20T00:00:00.000000000",
          "2023-11-21T00:00:00.000000000",
          "2023-11-22T00:00:00.000000000",
          "2023-11-23T00:00:00.000000000",
          "2023-11-24T00:00:00.000000000",
          "2023-11-25T00:00:00.000000000",
          "2023-11-26T00:00:00.000000000",
          "2023-11-27T00:00:00.000000000",
          "2023-11-28T00:00:00.000000000",
          "2023-11-29T00:00:00.000000000",
          "2023-11-30T00:00:00.000000000",
          "2023-12-01T00:00:00.000000000",
          "2023-12-02T00:00:00.000000000",
          "2023-12-03T00:00:00.000000000",
          "2023-12-04T00:00:00.000000000",
          "2023-12-05T00:00:00.000000000",
          "2023-12-06T00:00:00.000000000",
          "2023-12-07T00:00:00.000000000",
          "2023-12-08T00:00:00.000000000",
          "2023-12-09T00:00:00.000000000",
          "2023-12-10T00:00:00.000000000",
          "2023-12-11T00:00:00.000000000",
          "2023-12-12T00:00:00.000000000",
          "2023-12-13T00:00:00.000000000",
          "2023-12-14T00:00:00.000000000",
          "2023-12-15T00:00:00.000000000",
          "2023-12-16T00:00:00.000000000",
          "2023-12-17T00:00:00.000000000",
          "2023-12-18T00:00:00.000000000",
          "2023-12-19T00:00:00.000000000",
          "2023-12-20T00:00:00.000000000",
          "2023-12-21T00:00:00.000000000",
          "2023-12-22T00:00:00.000000000",
          "2023-12-23T00:00:00.000000000",
          "2023-12-24T00:00:00.000000000",
          "2023-12-25T00:00:00.000000000",
          "2023-12-26T00:00:00.000000000",
          "2023-12-27T00:00:00.000000000",
          "2023-12-28T00:00:00.000000000",
          "2023-12-29T00:00:00.000000000",
          "2023-12-30T00:00:00.000000000",
          "2023-12-31T00:00:00.000000000"
         ],
         "y": {
          "bdata": "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",
          "dtype": "f8"
         }
        },
        {
         "line": {
          "color": "orange",
          "width": 2
         },
         "mode": "lines",
         "name": "Model Predictions",
         "type": "scatter",
         "x": [
          "2023-08-24T00:00:00.000000000",
          "2023-08-25T00:00:00.000000000",
          "2023-08-26T00:00:00.000000000",
          "2023-08-27T00:00:00.000000000",
          "2023-08-28T00:00:00.000000000",
          "2023-08-29T00:00:00.000000000",
          "2023-08-30T00:00:00.000000000",
          "2023-08-31T00:00:00.000000000",
          "2023-09-01T00:00:00.000000000",
          "2023-09-02T00:00:00.000000000",
          "2023-09-03T00:00:00.000000000",
          "2023-09-04T00:00:00.000000000",
          "2023-09-05T00:00:00.000000000",
          "2023-09-06T00:00:00.000000000",
          "2023-09-07T00:00:00.000000000",
          "2023-09-08T00:00:00.000000000",
          "2023-09-09T00:00:00.000000000",
          "2023-09-10T00:00:00.000000000",
          "2023-09-11T00:00:00.000000000",
          "2023-09-12T00:00:00.000000000",
          "2023-09-13T00:00:00.000000000",
          "2023-09-14T00:00:00.000000000",
          "2023-09-15T00:00:00.000000000",
          "2023-09-16T00:00:00.000000000",
          "2023-09-17T00:00:00.000000000",
          "2023-09-18T00:00:00.000000000",
          "2023-09-19T00:00:00.000000000",
          "2023-09-20T00:00:00.000000000",
          "2023-09-21T00:00:00.000000000",
          "2023-09-22T00:00:00.000000000",
          "2023-09-23T00:00:00.000000000",
          "2023-09-24T00:00:00.000000000",
          "2023-09-25T00:00:00.000000000",
          "2023-09-26T00:00:00.000000000",
          "2023-09-27T00:00:00.000000000",
          "2023-09-28T00:00:00.000000000",
          "2023-09-29T00:00:00.000000000",
          "2023-09-30T00:00:00.000000000",
          "2023-10-01T00:00:00.000000000",
          "2023-10-02T00:00:00.000000000",
          "2023-10-03T00:00:00.000000000",
          "2023-10-04T00:00:00.000000000",
          "2023-10-05T00:00:00.000000000",
          "2023-10-06T00:00:00.000000000",
          "2023-10-07T00:00:00.000000000",
          "2023-10-08T00:00:00.000000000",
          "2023-10-09T00:00:00.000000000",
          "2023-10-10T00:00:00.000000000",
          "2023-10-11T00:00:00.000000000",
          "2023-10-12T00:00:00.000000000",
          "2023-10-13T00:00:00.000000000",
          "2023-10-14T00:00:00.000000000",
          "2023-10-15T00:00:00.000000000",
          "2023-10-16T00:00:00.000000000",
          "2023-10-17T00:00:00.000000000",
          "2023-10-18T00:00:00.000000000",
          "2023-10-19T00:00:00.000000000",
          "2023-10-20T00:00:00.000000000",
          "2023-10-21T00:00:00.000000000",
          "2023-10-22T00:00:00.000000000",
          "2023-10-23T00:00:00.000000000",
          "2023-10-24T00:00:00.000000000",
          "2023-10-25T00:00:00.000000000",
          "2023-10-26T00:00:00.000000000",
          "2023-10-27T00:00:00.000000000",
          "2023-10-28T00:00:00.000000000",
          "2023-10-29T00:00:00.000000000",
          "2023-10-30T00:00:00.000000000",
          "2023-10-31T00:00:00.000000000",
          "2023-11-01T00:00:00.000000000",
          "2023-11-02T00:00:00.000000000",
          "2023-11-03T00:00:00.000000000",
          "2023-11-04T00:00:00.000000000",
          "2023-11-05T00:00:00.000000000",
          "2023-11-06T00:00:00.000000000",
          "2023-11-07T00:00:00.000000000",
          "2023-11-08T00:00:00.000000000",
          "2023-11-09T00:00:00.000000000",
          "2023-11-10T00:00:00.000000000",
          "2023-11-11T00:00:00.000000000",
          "2023-11-12T00:00:00.000000000",
          "2023-11-13T00:00:00.000000000",
          "2023-11-14T00:00:00.000000000",
          "2023-11-15T00:00:00.000000000",
          "2023-11-16T00:00:00.000000000",
          "2023-11-17T00:00:00.000000000",
          "2023-11-18T00:00:00.000000000",
          "2023-11-19T00:00:00.000000000",
          "2023-11-20T00:00:00.000000000",
          "2023-11-21T00:00:00.000000000",
          "2023-11-22T00:00:00.000000000",
          "2023-11-23T00:00:00.000000000",
          "2023-11-24T00:00:00.000000000",
          "2023-11-25T00:00:00.000000000",
          "2023-11-26T00:00:00.000000000",
          "2023-11-27T00:00:00.000000000",
          "2023-11-28T00:00:00.000000000",
          "2023-11-29T00:00:00.000000000",
          "2023-11-30T00:00:00.000000000",
          "2023-12-01T00:00:00.000000000",
          "2023-12-02T00:00:00.000000000",
          "2023-12-03T00:00:00.000000000",
          "2023-12-04T00:00:00.000000000",
          "2023-12-05T00:00:00.000000000",
          "2023-12-06T00:00:00.000000000",
          "2023-12-07T00:00:00.000000000",
          "2023-12-08T00:00:00.000000000",
          "2023-12-09T00:00:00.000000000",
          "2023-12-10T00:00:00.000000000",
          "2023-12-11T00:00:00.000000000",
          "2023-12-12T00:00:00.000000000",
          "2023-12-13T00:00:00.000000000",
          "2023-12-14T00:00:00.000000000",
          "2023-12-15T00:00:00.000000000",
          "2023-12-16T00:00:00.000000000",
          "2023-12-17T00:00:00.000000000",
          "2023-12-18T00:00:00.000000000",
          "2023-12-19T00:00:00.000000000",
          "2023-12-20T00:00:00.000000000",
          "2023-12-21T00:00:00.000000000",
          "2023-12-22T00:00:00.000000000",
          "2023-12-23T00:00:00.000000000",
          "2023-12-24T00:00:00.000000000",
          "2023-12-25T00:00:00.000000000",
          "2023-12-26T00:00:00.000000000",
          "2023-12-27T00:00:00.000000000",
          "2023-12-28T00:00:00.000000000",
          "2023-12-29T00:00:00.000000000",
          "2023-12-30T00:00:00.000000000",
          "2023-12-31T00:00:00.000000000"
         ],
         "y": {
          "bdata": "EpvSRtEC0Ubj1s9Gs/nORuRezkbvC85Gsu7NRiUEz0aLaNBGsPjQRpXM0EZXSdBG7rTPRpgKz0bYW85GT7XNRhp7zUYFRs1G1xnNRrvtzEZaW8xGAQnMRqxAzEZ838xGEqTNRnVyzkbIMM9G7/jPRjv60Eaz99FG3X3SRo680kYgvtJG7WfSRjLr0UajSNFGjMfQRobT0EbrH9FGAZTRRhS70kax49NGmefURgEB1kZTxdZGxZPXRoBb2EaWBdlGRkzZRv002UbJjthGqpPXRjGZ1kYFrNVGPBDVRiKm1UYhvNZGavvXRluA2Uamn9tGGBveRmOZ4Ea16ORGWGHqRglw8EZvAPZGxpX6RsFE/kZyqwBH1doBR8rOAkcLwANHgWUER7G+BEeDBgVH6zIFR/VGBUfyjAVHxPAFR566Bkfr2gdHvwAJR2MKCkf8ugpH58sKR5BWC0fqeQtH2IELRwF1C0f6qQtHZAIMR33OC0eX6wtHiiAMR5SQDEewHg1HTo4NRyHODUe6Gw5HYWIORxmvDkeIMQ9HmBoQR7BSEUfhXBNHoWoWR0yPGUdyaBxH0xcfR0lBIUfR6CJHEh4jR6OQIkdiKCJHhdshRz03IUepnCBHNsEfR4tRH0ewFR9HM5AfR+xnIEembCFHFWgiRzP4IkdBfCNHz2EjRyFdI0exHiNHf40iRw==",
          "dtype": "f4"
         }
        },
        {
         "line": {
          "color": "red",
          "dash": "dash",
          "width": 3
         },
         "marker": {
          "size": 6
         },
         "mode": "lines+markers",
         "name": "Future Predictions",
         "type": "scatter",
         "x": [
          "2024-01-01T00:00:00.000000000",
          "2024-01-02T00:00:00.000000000",
          "2024-01-03T00:00:00.000000000",
          "2024-01-04T00:00:00.000000000",
          "2024-01-05T00:00:00.000000000",
          "2024-01-06T00:00:00.000000000",
          "2024-01-07T00:00:00.000000000",
          "2024-01-08T00:00:00.000000000",
          "2024-01-09T00:00:00.000000000",
          "2024-01-10T00:00:00.000000000",
          "2024-01-11T00:00:00.000000000",
          "2024-01-12T00:00:00.000000000",
          "2024-01-13T00:00:00.000000000",
          "2024-01-14T00:00:00.000000000",
          "2024-01-15T00:00:00.000000000",
          "2024-01-16T00:00:00.000000000",
          "2024-01-17T00:00:00.000000000",
          "2024-01-18T00:00:00.000000000",
          "2024-01-19T00:00:00.000000000",
          "2024-01-20T00:00:00.000000000",
          "2024-01-21T00:00:00.000000000",
          "2024-01-22T00:00:00.000000000",
          "2024-01-23T00:00:00.000000000",
          "2024-01-24T00:00:00.000000000",
          "2024-01-25T00:00:00.000000000",
          "2024-01-26T00:00:00.000000000",
          "2024-01-27T00:00:00.000000000",
          "2024-01-28T00:00:00.000000000",
          "2024-01-29T00:00:00.000000000",
          "2024-01-30T00:00:00.000000000"
         ],
         "y": {
          "bdata": "EPxm7OEk5ECQTgJBjATkQFDKFdsS4eNAAGU4fme640BAaeKtVZTjQBCa7bQobuNAEHl9nlNI40AAgnMUqiLjQIDTZGbA/OJAMAsl+pLY4kBASOhD6bPiQICgl1ickeJAYBA7kVhv4kCQkfNchU3iQOCglovzLOJAEB9OLbkN4kDgyIrLTu7hQKDyywSzz+FA4JmkqNqx4UCgJLryuZThQIAb0RlPeOFAwIRHtJVc4UBgP5w8i0HhQMB13ZkrJ+FAoKjT9nEN4UCgdpk4XvTgQOC2sc3q2+BAUG0aPBnE4ECA774M5azgQLBOKK1KluBA",
          "dtype": "f8"
         }
        },
        {
         "line": {
          "color": "rgba(0,0,0,0)"
         },
         "mode": "lines",
         "showlegend": false,
         "type": "scatter",
         "x": [
          "2024-01-01T00:00:00.000000000",
          "2024-01-02T00:00:00.000000000",
          "2024-01-03T00:00:00.000000000",
          "2024-01-04T00:00:00.000000000",
          "2024-01-05T00:00:00.000000000",
          "2024-01-06T00:00:00.000000000",
          "2024-01-07T00:00:00.000000000",
          "2024-01-08T00:00:00.000000000",
          "2024-01-09T00:00:00.000000000",
          "2024-01-10T00:00:00.000000000",
          "2024-01-11T00:00:00.000000000",
          "2024-01-12T00:00:00.000000000",
          "2024-01-13T00:00:00.000000000",
          "2024-01-14T00:00:00.000000000",
          "2024-01-15T00:00:00.000000000",
          "2024-01-16T00:00:00.000000000",
          "2024-01-17T00:00:00.000000000",
          "2024-01-18T00:00:00.000000000",
          "2024-01-19T00:00:00.000000000",
          "2024-01-20T00:00:00.000000000",
          "2024-01-21T00:00:00.000000000",
          "2024-01-22T00:00:00.000000000",
          "2024-01-23T00:00:00.000000000",
          "2024-01-24T00:00:00.000000000",
          "2024-01-25T00:00:00.000000000",
          "2024-01-26T00:00:00.000000000",
          "2024-01-27T00:00:00.000000000",
          "2024-01-28T00:00:00.000000000",
          "2024-01-29T00:00:00.000000000",
          "2024-01-30T00:00:00.000000000"
         ],
         "y": {
          "bdata": "/eXWmiGP5UB9OHLvy27lQD20hYlSS+VA7U6oLKck5UAtU1Jclf7kQP2DXWNo2ORA/WLtTJOy5EDta+PC6YzkQG291BQAZ+RAHfWUqNJC5EAtMljyKB7kQG2KBwfc++NATfqqP5jZ40B9e2MLxbfjQM2KBjozl+NA/Qi+2/h340DNsvp5jljjQI3cO7PyOeNAzYMUVxoc40CNDiqh+f7iQG0FQciO4uJArW63YtXG4kBNKQzryqviQK1fTUhrkeJAjZJDpbF34kCNYAnnnV7iQM2gIXwqRuJAPVeK6lgu4kBt2S67JBfiQJ04mFuKAOJA",
          "dtype": "f8"
         }
        },
        {
         "fill": "tonexty",
         "fillcolor": "rgba(255,0,0,0.2)",
         "line": {
          "color": "rgba(0,0,0,0)"
         },
         "mode": "lines",
         "name": "Confidence Interval",
         "type": "scatter",
         "x": [
          "2024-01-01T00:00:00.000000000",
          "2024-01-02T00:00:00.000000000",
          "2024-01-03T00:00:00.000000000",
          "2024-01-04T00:00:00.000000000",
          "2024-01-05T00:00:00.000000000",
          "2024-01-06T00:00:00.000000000",
          "2024-01-07T00:00:00.000000000",
          "2024-01-08T00:00:00.000000000",
          "2024-01-09T00:00:00.000000000",
          "2024-01-10T00:00:00.000000000",
          "2024-01-11T00:00:00.000000000",
          "2024-01-12T00:00:00.000000000",
          "2024-01-13T00:00:00.000000000",
          "2024-01-14T00:00:00.000000000",
          "2024-01-15T00:00:00.000000000",
          "2024-01-16T00:00:00.000000000",
          "2024-01-17T00:00:00.000000000",
          "2024-01-18T00:00:00.000000000",
          "2024-01-19T00:00:00.000000000",
          "2024-01-20T00:00:00.000000000",
          "2024-01-21T00:00:00.000000000",
          "2024-01-22T00:00:00.000000000",
          "2024-01-23T00:00:00.000000000",
          "2024-01-24T00:00:00.000000000",
          "2024-01-25T00:00:00.000000000",
          "2024-01-26T00:00:00.000000000",
          "2024-01-27T00:00:00.000000000",
          "2024-01-28T00:00:00.000000000",
          "2024-01-29T00:00:00.000000000",
          "2024-01-30T00:00:00.000000000"
         ],
         "y": {
          "bdata": "IxL3PaK64kCjZJKSTJriQGPgpSzTduJAE3vIzydQ4kBTf3L/FSriQCOwfQbpA+JAI48N8BPe4UATmANmarjhQJPp9LeAkuFAQyG1S1Nu4UBTXniVqUnhQJO2J6pcJ+FAcybL4hgF4UCjp4OuRePgQPO2Jt2zwuBAIzXefnmj4EDz3hodD4TgQLMIXFZzZeBA8680+ppH4ECzOkpEeirgQJMxYWsPDuBApjWvC6zk30Dmqlgcl67fQKYX29bXed9AZn3HkGRG30BmGVMUPRTfQOaZgz5W495AxgZVG7Oz3kAmC568SoXeQIbJcP0VWN5A",
          "dtype": "f8"
         }
        }
       ],
       "layout": {
        "height": 600,
        "hovermode": "x unified",
        "template": {
         "data": {
          "bar": [
           {
            "error_x": {
             "color": "#2a3f5f"
            },
            "error_y": {
             "color": "#2a3f5f"
            },
            "marker": {
             "line": {
              "color": "white",
              "width": 0.5
             },
             "pattern": {
              "fillmode": "overlay",
              "size": 10,
              "solidity": 0.2
             }
            },
            "type": "bar"
           }
          ],
          "barpolar": [
           {
            "marker": {
             "line": {
              "color": "white",
              "width": 0.5
             },
             "pattern": {
              "fillmode": "overlay",
              "size": 10,
              "solidity": 0.2
             }
            },
            "type": "barpolar"
           }
          ],
          "carpet": [
           {
            "aaxis": {
             "endlinecolor": "#2a3f5f",
             "gridcolor": "#C8D4E3",
             "linecolor": "#C8D4E3",
             "minorgridcolor": "#C8D4E3",
             "startlinecolor": "#2a3f5f"
            },
            "baxis": {
             "endlinecolor": "#2a3f5f",
             "gridcolor": "#C8D4E3",
             "linecolor": "#C8D4E3",
             "minorgridcolor": "#C8D4E3",
             "startlinecolor": "#2a3f5f"
            },
            "type": "carpet"
           }
          ],
          "choropleth": [
           {
            "colorbar": {
             "outlinewidth": 0,
             "ticks": ""
            },
            "type": "choropleth"
           }
          ],
          "contour": [
           {
            "colorbar": {
             "outlinewidth": 0,
             "ticks": ""
            },
            "colorscale": [
             [
              0,
              "#0d0887"
             ],
             [
              0.1111111111111111,
              "#46039f"
             ],
             [
              0.2222222222222222,
              "#7201a8"
             ],
             [
              0.3333333333333333,
              "#9c179e"
             ],
             [
              0.4444444444444444,
              "#bd3786"
             ],
             [
              0.5555555555555556,
              "#d8576b"
             ],
             [
              0.6666666666666666,
              "#ed7953"
             ],
             [
              0.7777777777777778,
              "#fb9f3a"
             ],
             [
              0.8888888888888888,
              "#fdca26"
             ],
             [
              1,
              "#f0f921"
             ]
            ],
            "type": "contour"
           }
          ],
          "contourcarpet": [
           {
            "colorbar": {
             "outlinewidth": 0,
             "ticks": ""
            },
            "type": "contourcarpet"
           }
          ],
          "heatmap": [
           {
            "colorbar": {
             "outlinewidth": 0,
             "ticks": ""
            },
            "colorscale": [
             [
              0,
              "#0d0887"
             ],
             [
              0.1111111111111111,
              "#46039f"
             ],
             [
              0.2222222222222222,
              "#7201a8"
             ],
             [
              0.3333333333333333,
              "#9c179e"
             ],
             [
              0.4444444444444444,
              "#bd3786"
             ],
             [
              0.5555555555555556,
              "#d8576b"
             ],
             [
              0.6666666666666666,
              "#ed7953"
             ],
             [
              0.7777777777777778,
              "#fb9f3a"
             ],
             [
              0.8888888888888888,
              "#fdca26"
             ],
             [
              1,
              "#f0f921"
             ]
            ],
            "type": "heatmap"
           }
          ],
          "histogram": [
           {
            "marker": {
             "pattern": {
              "fillmode": "overlay",
              "size": 10,
              "solidity": 0.2
             }
            },
            "type": "histogram"
           }
          ],
          "histogram2d": [
           {
            "colorbar": {
             "outlinewidth": 0,
             "ticks": ""
            },
            "colorscale": [
             [
              0,
              "#0d0887"
             ],
             [
              0.1111111111111111,
              "#46039f"
             ],
             [
              0.2222222222222222,
              "#7201a8"
             ],
             [
              0.3333333333333333,
              "#9c179e"
             ],
             [
              0.4444444444444444,
              "#bd3786"
             ],
             [
              0.5555555555555556,
              "#d8576b"
             ],
             [
              0.6666666666666666,
              "#ed7953"
             ],
             [
              0.7777777777777778,
              "#fb9f3a"
             ],
             [
              0.8888888888888888,
              "#fdca26"
             ],
             [
              1,
              "#f0f921"
             ]
            ],
            "type": "histogram2d"
           }
          ],
          "histogram2dcontour": [
           {
            "colorbar": {
             "outlinewidth": 0,
             "ticks": ""
            },
            "colorscale": [
             [
              0,
              "#0d0887"
             ],
             [
              0.1111111111111111,
              "#46039f"
             ],
             [
              0.2222222222222222,
              "#7201a8"
             ],
             [
              0.3333333333333333,
              "#9c179e"
             ],
             [
              0.4444444444444444,
              "#bd3786"
             ],
             [
              0.5555555555555556,
              "#d8576b"
             ],
             [
              0.6666666666666666,
              "#ed7953"
             ],
             [
              0.7777777777777778,
              "#fb9f3a"
             ],
             [
              0.8888888888888888,
              "#fdca26"
             ],
             [
              1,
              "#f0f921"
             ]
            ],
            "type": "histogram2dcontour"
           }
          ],
          "mesh3d": [
           {
            "colorbar": {
             "outlinewidth": 0,
             "ticks": ""
            },
            "type": "mesh3d"
           }
          ],
          "parcoords": [
           {
            "line": {
             "colorbar": {
              "outlinewidth": 0,
              "ticks": ""
             }
            },
            "type": "parcoords"
           }
          ],
          "pie": [
           {
            "automargin": true,
            "type": "pie"
           }
          ],
          "scatter": [
           {
            "fillpattern": {
             "fillmode": "overlay",
             "size": 10,
             "solidity": 0.2
            },
            "type": "scatter"
           }
          ],
          "scatter3d": [
           {
            "line": {
             "colorbar": {
              "outlinewidth": 0,
              "ticks": ""
             }
            },
            "marker": {
             "colorbar": {
              "outlinewidth": 0,
              "ticks": ""
             }
            },
            "type": "scatter3d"
           }
          ],
          "scattercarpet": [
           {
            "marker": {
             "colorbar": {
              "outlinewidth": 0,
              "ticks": ""
             }
            },
            "type": "scattercarpet"
           }
          ],
          "scattergeo": [
           {
            "marker": {
             "colorbar": {
              "outlinewidth": 0,
              "ticks": ""
             }
            },
            "type": "scattergeo"
           }
          ],
          "scattergl": [
           {
            "marker": {
             "colorbar": {
              "outlinewidth": 0,
              "ticks": ""
             }
            },
            "type": "scattergl"
           }
          ],
          "scattermap": [
           {
            "marker": {
             "colorbar": {
              "outlinewidth": 0,
              "ticks": ""
             }
            },
            "type": "scattermap"
           }
          ],
          "scattermapbox": [
           {
            "marker": {
             "colorbar": {
              "outlinewidth": 0,
              "ticks": ""
             }
            },
            "type": "scattermapbox"
           }
          ],
          "scatterpolar": [
           {
            "marker": {
             "colorbar": {
              "outlinewidth": 0,
              "ticks": ""
             }
            },
            "type": "scatterpolar"
           }
          ],
          "scatterpolargl": [
           {
            "marker": {
             "colorbar": {
              "outlinewidth": 0,
              "ticks": ""
             }
            },
            "type": "scatterpolargl"
           }
          ],
          "scatterternary": [
           {
            "marker": {
             "colorbar": {
              "outlinewidth": 0,
              "ticks": ""
             }
            },
            "type": "scatterternary"
           }
          ],
          "surface": [
           {
            "colorbar": {
             "outlinewidth": 0,
             "ticks": ""
            },
            "colorscale": [
             [
              0,
              "#0d0887"
             ],
             [
              0.1111111111111111,
              "#46039f"
             ],
             [
              0.2222222222222222,
              "#7201a8"
             ],
             [
              0.3333333333333333,
              "#9c179e"
             ],
             [
              0.4444444444444444,
              "#bd3786"
             ],
             [
              0.5555555555555556,
              "#d8576b"
             ],
             [
              0.6666666666666666,
              "#ed7953"
             ],
             [
              0.7777777777777778,
              "#fb9f3a"
             ],
             [
              0.8888888888888888,
              "#fdca26"
             ],
             [
              1,
              "#f0f921"
             ]
            ],
            "type": "surface"
           }
          ],
          "table": [
           {
            "cells": {
             "fill": {
              "color": "#EBF0F8"
             },
             "line": {
              "color": "white"
             }
            },
            "header": {
             "fill": {
              "color": "#C8D4E3"
             },
             "line": {
              "color": "white"
             }
            },
            "type": "table"
           }
          ]
         },
         "layout": {
          "annotationdefaults": {
           "arrowcolor": "#2a3f5f",
           "arrowhead": 0,
           "arrowwidth": 1
          },
          "autotypenumbers": "strict",
          "coloraxis": {
           "colorbar": {
            "outlinewidth": 0,
            "ticks": ""
           }
          },
          "colorscale": {
           "diverging": [
            [
             0,
             "#8e0152"
            ],
            [
             0.1,
             "#c51b7d"
            ],
            [
             0.2,
             "#de77ae"
            ],
            [
             0.3,
             "#f1b6da"
            ],
            [
             0.4,
             "#fde0ef"
            ],
            [
             0.5,
             "#f7f7f7"
            ],
            [
             0.6,
             "#e6f5d0"
            ],
            [
             0.7,
             "#b8e186"
            ],
            [
             0.8,
             "#7fbc41"
            ],
            [
             0.9,
             "#4d9221"
            ],
            [
             1,
             "#276419"
            ]
           ],
           "sequential": [
            [
             0,
             "#0d0887"
            ],
            [
             0.1111111111111111,
             "#46039f"
            ],
            [
             0.2222222222222222,
             "#7201a8"
            ],
            [
             0.3333333333333333,
             "#9c179e"
            ],
            [
             0.4444444444444444,
             "#bd3786"
            ],
            [
             0.5555555555555556,
             "#d8576b"
            ],
            [
             0.6666666666666666,
             "#ed7953"
            ],
            [
             0.7777777777777778,
             "#fb9f3a"
            ],
            [
             0.8888888888888888,
             "#fdca26"
            ],
            [
             1,
             "#f0f921"
            ]
           ],
           "sequentialminus": [
            [
             0,
             "#0d0887"
            ],
            [
             0.1111111111111111,
             "#46039f"
            ],
            [
             0.2222222222222222,
             "#7201a8"
            ],
            [
             0.3333333333333333,
             "#9c179e"
            ],
            [
             0.4444444444444444,
             "#bd3786"
            ],
            [
             0.5555555555555556,
             "#d8576b"
            ],
            [
             0.6666666666666666,
             "#ed7953"
            ],
            [
             0.7777777777777778,
             "#fb9f3a"
            ],
            [
             0.8888888888888888,
             "#fdca26"
            ],
            [
             1,
             "#f0f921"
            ]
           ]
          },
          "colorway": [
           "#636efa",
           "#EF553B",
           "#00cc96",
           "#ab63fa",
           "#FFA15A",
           "#19d3f3",
           "#FF6692",
           "#B6E880",
           "#FF97FF",
           "#FECB52"
          ],
          "font": {
           "color": "#2a3f5f"
          },
          "geo": {
           "bgcolor": "white",
           "lakecolor": "white",
           "landcolor": "white",
           "showlakes": true,
           "showland": true,
           "subunitcolor": "#C8D4E3"
          },
          "hoverlabel": {
           "align": "left"
          },
          "hovermode": "closest",
          "mapbox": {
           "style": "light"
          },
          "paper_bgcolor": "white",
          "plot_bgcolor": "white",
          "polar": {
           "angularaxis": {
            "gridcolor": "#EBF0F8",
            "linecolor": "#EBF0F8",
            "ticks": ""
           },
           "bgcolor": "white",
           "radialaxis": {
            "gridcolor": "#EBF0F8",
            "linecolor": "#EBF0F8",
            "ticks": ""
           }
          },
          "scene": {
           "xaxis": {
            "backgroundcolor": "white",
            "gridcolor": "#DFE8F3",
            "gridwidth": 2,
            "linecolor": "#EBF0F8",
            "showbackground": true,
            "ticks": "",
            "zerolinecolor": "#EBF0F8"
           },
           "yaxis": {
            "backgroundcolor": "white",
            "gridcolor": "#DFE8F3",
            "gridwidth": 2,
            "linecolor": "#EBF0F8",
            "showbackground": true,
            "ticks": "",
            "zerolinecolor": "#EBF0F8"
           },
           "zaxis": {
            "backgroundcolor": "white",
            "gridcolor": "#DFE8F3",
            "gridwidth": 2,
            "linecolor": "#EBF0F8",
            "showbackground": true,
            "ticks": "",
            "zerolinecolor": "#EBF0F8"
           }
          },
          "shapedefaults": {
           "line": {
            "color": "#2a3f5f"
           }
          },
          "ternary": {
           "aaxis": {
            "gridcolor": "#DFE8F3",
            "linecolor": "#A2B1C6",
            "ticks": ""
           },
           "baxis": {
            "gridcolor": "#DFE8F3",
            "linecolor": "#A2B1C6",
            "ticks": ""
           },
           "bgcolor": "white",
           "caxis": {
            "gridcolor": "#DFE8F3",
            "linecolor": "#A2B1C6",
            "ticks": ""
           }
          },
          "title": {
           "x": 0.05
          },
          "xaxis": {
           "automargin": true,
           "gridcolor": "#EBF0F8",
           "linecolor": "#EBF0F8",
           "ticks": "",
           "title": {
            "standoff": 15
           },
           "zerolinecolor": "#EBF0F8",
           "zerolinewidth": 2
          },
          "yaxis": {
           "automargin": true,
           "gridcolor": "#EBF0F8",
           "linecolor": "#EBF0F8",
           "ticks": "",
           "title": {
            "standoff": 15
           },
           "zerolinecolor": "#EBF0F8",
           "zerolinewidth": 2
          }
         }
        },
        "title": {
         "text": "Enhanced Bitcoin Price Prediction with Confidence Intervals"
        },
        "xaxis": {
         "title": {
          "text": "Date"
         }
        },
        "yaxis": {
         "title": {
          "text": "Price (USD)"
         }
        }
       }
      }
     },
     "metadata": {},
     "output_type": "display_data"
    },
    {
     "name": "stdout",
     "output_type": "stream",
     "text": [
      "\n",
      "🚀 Enhanced Bitcoin Prediction Model Complete!\n",
      "Features included:\n",
      "✅ Interactive Dashboard\n",
      "✅ Sentiment Analysis\n",
      "✅ Risk Analysis (VaR, Sharpe Ratio, etc.)\n",
      "✅ Advanced Visualizations (3D, Candlestick, etc.)\n",
      "✅ Confidence Intervals\n",
      "✅ Comprehensive Model Evaluation\n"
     ]
    }
   ],
   "source": [
    "# Create final interactive prediction plot\n",
    "fig_final = go.Figure()\n",
    "\n",
    "# Historical prices\n",
    "fig_final.add_trace(go.Scatter(\n",
    "    x=maindf['Date'],\n",
    "    y=maindf['Close'],\n",
    "    mode='lines',\n",
    "    name='Historical Price',\n",
    "    line=dict(color='blue', width=2)\n",
    "))\n",
    "\n",
    "# Test predictions\n",
    "fig_final.add_trace(go.Scatter(\n",
    "    x=test_dates,\n",
    "    y=test_predict.flatten(),\n",
    "    mode='lines',\n",
    "    name='Model Predictions',\n",
    "    line=dict(color='orange', width=2)\n",
    "))\n",
    "\n",
    "# Future predictions\n",
    "fig_final.add_trace(go.Scatter(\n",
    "    x=future_dates,\n",
    "    y=future_predictions.flatten(),\n",
    "    mode='lines+markers',\n",
    "    name='Future Predictions',\n",
    "    line=dict(color='red', width=3, dash='dash'),\n",
    "    marker=dict(size=6)\n",
    "))\n",
    "\n",
    "# Add confidence bands for future predictions\n",
    "std_dev = np.std(test_predict - y_test_orig)\n",
    "upper_bound = future_predictions.flatten() + 2 * std_dev\n",
    "lower_bound = future_predictions.flatten() - 2 * std_dev\n",
    "\n",
    "fig_final.add_trace(go.Scatter(\n",
    "    x=future_dates,\n",
    "    y=upper_bound,\n",
    "    fill=None,\n",
    "    mode='lines',\n",
    "    line_color='rgba(0,0,0,0)',\n",
    "    showlegend=False\n",
    "))\n",
    "\n",
    "fig_final.add_trace(go.Scatter(\n",
    "    x=future_dates,\n",
    "    y=lower_bound,\n",
    "    fill='tonexty',\n",
    "    mode='lines',\n",
    "    line_color='rgba(0,0,0,0)',\n",
    "    name='Confidence Interval',\n",
    "    fillcolor='rgba(255,0,0,0.2)'\n",
    "))\n",
    "\n",
    "fig_final.update_layout(\n",
    "    title='Enhanced Bitcoin Price Prediction with Confidence Intervals',\n",
    "    xaxis_title='Date',\n",
    "    yaxis_title='Price (USD)',\n",
    "    template='plotly_white',\n",
    "    height=600,\n",
    "    hovermode='x unified'\n",
    ")\n",
    "\n",
    "fig_final.show()\n",
    "\n",
    "print(\"\\n🚀 Enhanced Bitcoin Prediction Model Complete!\")\n",
    "print(\"Features included:\")\n",
    "print(\"✅ Interactive Dashboard\")\n",
    "print(\"✅ Sentiment Analysis\")\n",
    "print(\"✅ Risk Analysis (VaR, Sharpe Ratio, etc.)\")\n",
    "print(\"✅ Advanced Visualizations (3D, Candlestick, etc.)\")\n",
    "print(\"✅ Confidence Intervals\")\n",
    "print(\"✅ Comprehensive Model Evaluation\")"
   ]
  }
 ],
 "metadata": {
  "kernelspec": {
   "display_name": "Python 3",
   "language": "python",
   "name": "python3"
  },
  "language_info": {
   "codemirror_mode": {
    "name": "ipython",
    "version": 3
   },
   "file_extension": ".py",
   "mimetype": "text/x-python",
   "name": "python",
   "nbconvert_exporter": "python",
   "pygments_lexer": "ipython3",
   "version": "3.12.6"
  }
 },
 "nbformat": 4,
 "nbformat_minor": 4
}
